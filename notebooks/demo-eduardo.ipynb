{
 "cells": [
  {
   "cell_type": "code",
   "execution_count": 1,
   "metadata": {},
   "outputs": [],
   "source": [
    "%load_ext autoreload\n",
    "%autoreload 2"
   ]
  },
  {
   "cell_type": "code",
   "execution_count": 6,
   "metadata": {},
   "outputs": [],
   "source": [
    "import logging\n",
    "logging.basicConfig(level=logging.INFO)"
   ]
  },
  {
   "cell_type": "code",
   "execution_count": 7,
   "metadata": {},
   "outputs": [],
   "source": [
    "import yass\n",
    "from yass.preprocessing import Preprocessor\n",
    "from yass.neuralnet import NeuralNetDetector\n",
    "from yass.mainprocess import Mainprocessor\n",
    "from yass.deconvolution import Deconvolution\n",
    "import numpy as np\n",
    "\n",
    "%matplotlib inline\n",
    "import matplotlib.pyplot as plt"
   ]
  },
  {
   "cell_type": "code",
   "execution_count": 8,
   "metadata": {},
   "outputs": [],
   "source": [
    "cfg = yass.Config.from_yaml('/Users/edu/dev/grossman/YASS/examples/configuration_sample.yaml')"
   ]
  },
  {
   "cell_type": "markdown",
   "metadata": {},
   "source": [
    "Run filtering, standardizing, nn detection, getting and saving waveforms"
   ]
  },
  {
   "cell_type": "code",
   "execution_count": 9,
   "metadata": {},
   "outputs": [
    {
     "name": "stderr",
     "output_type": "stream",
     "text": [
      "INFO:yass.preprocessing:Preprocessing the data in progress...\n",
      "N/A% (0 of 1) |                          | Elapsed Time: 0:00:00 ETA:  --:--:--INFO:yass.preprocessing:Preprocessing done in 0 seconds.\n",
      "INFO:yass.preprocessing:\treading data:\t0.00085 seconds\n",
      "INFO:yass.preprocessing:\tfiltering:\t0.00659 seconds\n",
      "INFO:yass.preprocessing:\tstandardization:\t0.009437 seconds\n",
      "INFO:yass.preprocessing:\tdetection:\t0.023298 seconds\n",
      "INFO:yass.preprocessing:\twhitening:\t0.012363 seconds\n",
      "INFO:yass.preprocessing:\tsaving recording:\t0.001016 seconds\n",
      "INFO:yass.preprocessing:\tgetting waveforms:\t0.01561 seconds\n",
      "100% (1 of 1) |###########################| Elapsed Time: 0:00:00 Time: 0:00:00\n"
     ]
    }
   ],
   "source": [
    "pp = Preprocessor(cfg)\n",
    "score, clr_idx, spt = pp.process()"
   ]
  },
  {
   "cell_type": "markdown",
   "metadata": {},
   "source": [
    "Run Triage, Coreset, Masking, Clustering, Template Merging"
   ]
  },
  {
   "cell_type": "code",
   "execution_count": 10,
   "metadata": {
    "scrolled": false
   },
   "outputs": [
    {
     "name": "stderr",
     "output_type": "stream",
     "text": [
      "INFO:yass.mainprocess:Triaging...\n",
      "INFO:yass.mainprocess:Coresettting...\n",
      "INFO:yass.mainprocess:Masking...\n",
      "INFO:yass.mainprocess:Clustering...\n",
      "100% (1 of 1) |###########################| Elapsed Time: 0:00:00 Time: 0:00:00\n",
      "INFO:yass.mainprocess:Getting Templates...\n",
      "100% (1 of 1) |###########################| Elapsed Time: 0:00:00 Time: 0:00:00\n",
      "INFO:yass.mainprocess:Mainprocess done in 0 seconds.\n",
      "INFO:yass.mainprocess:\ttriage:\t0.002853 seconds\n",
      "INFO:yass.mainprocess:\tcoreset:\t0.028312 seconds\n",
      "INFO:yass.mainprocess:\tmasking:\t0.003087 seconds\n",
      "INFO:yass.mainprocess:\tclustering:\t0.160248 seconds\n",
      "INFO:yass.mainprocess:\tmake templates:\t0.015041 seconds\n"
     ]
    }
   ],
   "source": [
    "mp = Mainprocessor(cfg,score,clr_idx,spt)\n",
    "spike_train, spt_left = mp.mainProcess()"
   ]
  },
  {
   "cell_type": "markdown",
   "metadata": {},
   "source": [
    "Check these good looking templates!"
   ]
  },
  {
   "cell_type": "code",
   "execution_count": null,
   "metadata": {},
   "outputs": [],
   "source": [
    "plt.plot(mp.templates[:,:,61].T)\n",
    "plt.show()"
   ]
  },
  {
   "cell_type": "code",
   "execution_count": null,
   "metadata": {},
   "outputs": [],
   "source": [
    "dc = Deconvolution(cfg, np.transpose(mp.templates,[1,0,2]), spt_left)"
   ]
  },
  {
   "cell_type": "code",
   "execution_count": null,
   "metadata": {},
   "outputs": [],
   "source": [
    "spikeTrain_col = dc.fullMPMU()"
   ]
  },
  {
   "cell_type": "code",
   "execution_count": null,
   "metadata": {},
   "outputs": [],
   "source": [
    "spikeTrain_col"
   ]
  },
  {
   "cell_type": "markdown",
   "metadata": {},
   "source": [
    "# Save results"
   ]
  },
  {
   "cell_type": "code",
   "execution_count": null,
   "metadata": {},
   "outputs": [],
   "source": [
    "for i, arr in enumerate(score):\n",
    "    arr.tofile('/tmp/{}-score-or.bin'.format(i))\n",
    "\n",
    "for i, arr in enumerate(clr_idx):\n",
    "    arr.tofile('/tmp/{}-clr-idx-or.bin'.format(i))\n",
    "\n",
    "for i, arr in enumerate(spt):\n",
    "    arr.tofile('/tmp/{}-spt-or.bin'.format(i))\n",
    "\n",
    "bfCounter.tofile('/tmp/bfcounter-or.bin')"
   ]
  }
 ],
 "metadata": {
  "kernelspec": {
   "display_name": "Python 2",
   "language": "python",
   "name": "python2"
  },
  "language_info": {
   "codemirror_mode": {
    "name": "ipython",
    "version": 2
   },
   "file_extension": ".py",
   "mimetype": "text/x-python",
   "name": "python",
   "nbconvert_exporter": "python",
   "pygments_lexer": "ipython2",
   "version": "2.7.13"
  }
 },
 "nbformat": 4,
 "nbformat_minor": 1
}
