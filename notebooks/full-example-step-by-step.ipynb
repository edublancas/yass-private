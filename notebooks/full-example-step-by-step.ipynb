{
 "cells": [
  {
   "cell_type": "code",
   "execution_count": 16,
   "metadata": {},
   "outputs": [],
   "source": [
    "import logging\n",
    "import os\n",
    "\n",
    "from yass.batch import BatchProcessorFactory\n",
    "from yass.preprocess.filter import butterworth\n",
    "import yass\n",
    "\n",
    "logging.basicConfig(level=logging.DEBUG)"
   ]
  },
  {
   "cell_type": "code",
   "execution_count": 10,
   "metadata": {},
   "outputs": [],
   "source": [
    "yass.set_config('../config/nnet100k.yaml')\n",
    "\n",
    "CONFIG = yass.read_config()"
   ]
  },
  {
   "cell_type": "code",
   "execution_count": 11,
   "metadata": {},
   "outputs": [],
   "source": [
    "factory = BatchProcessorFactory(path_to_file=None,\n",
    "                                    dtype=None,\n",
    "                                    n_channels=CONFIG.nChan,\n",
    "                                    max_memory=CONFIG.maxMem,\n",
    "                                    buffer_size=None)\n"
   ]
  },
  {
   "cell_type": "code",
   "execution_count": 19,
   "metadata": {},
   "outputs": [
    {
     "name": "stderr",
     "output_type": "stream",
     "text": [
      "INFO:yass.batch.batch:Number of batches: 1. Batch size: 100000 (observations  per channel. Residual: 0. Total number of observations 100000\n",
      "DEBUG:yass.batch.batch:Loading batch 1...\n",
      "DEBUG:yass.batch.batch:Closing file...\n"
     ]
    }
   ],
   "source": [
    "path = os.path.join(CONFIG.root, CONFIG.filename)\n",
    "bp = factory.make(path_to_file=path, dtype=CONFIG.dtype,\n",
    "                          buffer_size=0)\n",
    "\n",
    "path = os.path.join(CONFIG.root,  'tmp/filtered_step.bin')\n",
    "dtype = bp.process_function(butterworth,\n",
    "                            path,\n",
    "                            CONFIG.filterLow,\n",
    "                            CONFIG.filterHighFactor,\n",
    "                            CONFIG.filterOrder,\n",
    "                            CONFIG.srate)"
   ]
  },
  {
   "cell_type": "code",
   "execution_count": null,
   "metadata": {},
   "outputs": [],
   "source": []
  }
 ],
 "metadata": {
  "kernelspec": {
   "display_name": "Python 2",
   "language": "python",
   "name": "python2"
  },
  "language_info": {
   "codemirror_mode": {
    "name": "ipython",
    "version": 2
   },
   "file_extension": ".py",
   "mimetype": "text/x-python",
   "name": "python",
   "nbconvert_exporter": "python",
   "pygments_lexer": "ipython2",
   "version": "2.7.13"
  }
 },
 "nbformat": 4,
 "nbformat_minor": 2
}
