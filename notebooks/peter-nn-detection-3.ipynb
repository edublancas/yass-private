{
 "cells": [
  {
   "cell_type": "code",
   "execution_count": 1,
   "metadata": {},
   "outputs": [],
   "source": [
    "%load_ext autoreload\n",
    "%autoreload 2\n",
    "\n",
    "import logging\n",
    "logging.basicConfig(level=logging.DEBUG)"
   ]
  },
  {
   "cell_type": "code",
   "execution_count": 2,
   "metadata": {},
   "outputs": [],
   "source": [
    "import yass\n",
    "from yass.neuralnet import NeuralNetDetector\n",
    "from yass.augmentedSpikes import AugmentedSpikes"
   ]
  },
  {
   "cell_type": "code",
   "execution_count": 3,
   "metadata": {},
   "outputs": [],
   "source": [
    "import os\n",
    "import numpy as np\n",
    "import tensorflow as tf\n",
    "import progressbar\n",
    "%matplotlib inline\n",
    "import matplotlib.pyplot as plt\n",
    "\n",
    "plt.rcParams['figure.figsize'] = (10, 10)"
   ]
  },
  {
   "cell_type": "code",
   "execution_count": 4,
   "metadata": {},
   "outputs": [],
   "source": [
    "from yass.preprocess.geometry import order_channels_by_distance, n_steps_neigh_channels"
   ]
  },
  {
   "cell_type": "code",
   "execution_count": 5,
   "metadata": {},
   "outputs": [],
   "source": [
    "cfg = yass.Config.from_yaml('configuration_eduardo.yaml')"
   ]
  },
  {
   "cell_type": "code",
   "execution_count": 6,
   "metadata": {},
   "outputs": [],
   "source": [
    "import scipy.io\n",
    "kk = scipy.io.loadmat(os.path.join(cfg.root, 'groundtruth_ej49_data1_set1.mat'))\n",
    "L_gt = kk['L_gt']-1\n",
    "spt_gt = kk['spt_gt']\n",
    "spt = np.concatenate((L_gt, spt_gt),axis=1)\n",
    "idx_keep = np.logical_and(spt[:,1] > 80,spt[:,1]< 5*60*20000-80)\n",
    "spt = spt[idx_keep]\n",
    "asp = AugmentedSpikes(cfg,spt)"
   ]
  },
  {
   "cell_type": "code",
   "execution_count": 7,
   "metadata": {},
   "outputs": [
    {
     "data": {
      "text/plain": [
       "15"
      ]
     },
     "execution_count": 7,
     "metadata": {},
     "output_type": "execute_result"
    }
   ],
   "source": [
    "asp.config.spikeSize"
   ]
  },
  {
   "cell_type": "code",
   "execution_count": 8,
   "metadata": {},
   "outputs": [],
   "source": [
    "R = asp.config.spikeSize\n",
    "D = 3\n",
    "k_idx = np.arange(49)\n",
    "min_amp = 4\n",
    "nspikes = 50000"
   ]
  },
  {
   "cell_type": "code",
   "execution_count": null,
   "metadata": {},
   "outputs": [],
   "source": [
    "# get templates with big temporal size and align\n",
    "templatesBig = asp.getBigTemplates(4*R)\n",
    "templatesBig = templatesBig[k_idx]\n",
    "k_idx2 = np.max(np.max(templatesBig,axis=1),axis=1) > 4\n",
    "templatesBig = templatesBig[k_idx2]\n",
    "K = templatesBig.shape[0]\n",
    "\n",
    "templatesBig2, geom, neighChannels = asp.crop_templates(templatesBig,R,D+1)\n",
    "\n",
    "amps = np.max(np.abs(templatesBig2),axis=1)\n",
    "mainc = amps > np.expand_dims(np.max(amps,axis=1)*0.8,-1)\n",
    "\n",
    "# make clean augmented spikes\n",
    "nk = int(np.ceil(nspikes/K))\n",
    "max_amp = np.max(amps)*1.5"
   ]
  },
  {
   "cell_type": "code",
   "execution_count": null,
   "metadata": {},
   "outputs": [],
   "source": [
    "neighChannels = asp.config.neighChannels\n",
    "geom = asp.config.geom\n",
    "nneigh = np.max(np.sum(neighChannels, 0))"
   ]
  },
  {
   "cell_type": "code",
   "execution_count": null,
   "metadata": {},
   "outputs": [],
   "source": [
    "x_clean = np.zeros((nk*K,templatesBig2.shape[1],templatesBig2.shape[2]))\n",
    "for k in range(K):\n",
    "    tt  = templatesBig2[k]    \n",
    "    amp_now = np.max(np.abs(tt))\n",
    "    amps_range = (np.arange(nk)*(max_amp-min_amp)/nk+min_amp)[:,np.newaxis,np.newaxis]                    \n",
    "    x_clean[k*nk:(k+1)*nk] = (tt/amp_now)[np.newaxis,:,:]*amps_range\n",
    "x_clean = x_clean[:,:,:nneigh]\n",
    "\n",
    "#y_clean = np.zeros((nk*K,templatesBig2.shape[1]))\n",
    "#mid_point = (x_clean.shape[1]-1)/2\n",
    "#y_clean[:,mid_point] = 1"
   ]
  },
  {
   "cell_type": "code",
   "execution_count": null,
   "metadata": {},
   "outputs": [],
   "source": [
    "# collision\n",
    "x_collision = np.zeros(x_clean.shape)\n",
    "max_shift = 2*R\n",
    "\n",
    "temporal_shifts = np.random.randint(max_shift*2, size = nk*K) - max_shift\n",
    "temporal_shifts[temporal_shifts<0] = temporal_shifts[temporal_shifts<0]-5\n",
    "temporal_shifts[temporal_shifts>=0] = temporal_shifts[temporal_shifts>=0]+5\n",
    "\n",
    "amp_per_data = np.max(x_clean[:,:,0],axis=1)\n",
    "#random_match = np.random.randint(nk*K, size = nk*K)\n",
    "\n",
    "mid_point = (x_clean.shape[1]-1)/2\n",
    "\n",
    "for j in range(nk*K):\n",
    "    shift = temporal_shifts[j]\n",
    "    \n",
    "    x_collision[j] = np.copy(x_clean[j])\n",
    "    idx_candidate = np.where(np.logical_and(amp_per_data > amp_per_data[j]*0.5, amp_per_data < amp_per_data[j]*2))[0]\n",
    "    idx_match = idx_candidate[np.random.randint(idx_candidate.shape[0], size = 1)[0]]\n",
    "    #idx_match = random_match[j]\n",
    "    x_clean2 = np.copy(x_clean[idx_match][:,np.random.choice(nneigh, nneigh, replace=False)])\n",
    "\n",
    "    if shift > 0:\n",
    "        x_collision[j,:(x_collision.shape[1]-shift)] += x_clean2[shift:]\n",
    "\n",
    "    elif shift < 0:\n",
    "        x_collision[j,(-shift):] += x_clean2[:(x_collision.shape[1]+shift)]\n",
    "    else:\n",
    "        x_collision[j] += x_clean2\n",
    "\n",
    "# collision\n",
    "x_collision2 = np.zeros(x_clean.shape)\n",
    "max_shift = 2*R\n",
    "\n",
    "temporal_shifts = np.random.randint(max_shift*2, size = nk*K) - max_shift\n",
    "temporal_shifts[temporal_shifts<0] = temporal_shifts[temporal_shifts<0]-5\n",
    "temporal_shifts[temporal_shifts>=0] = temporal_shifts[temporal_shifts>=0]+6\n",
    "\n",
    "mid_point = (x_clean.shape[1]-1)/2\n",
    "\n",
    "for j in range(nk*K):\n",
    "    shift = temporal_shifts[j]\n",
    "    x_clean2 = np.copy(x_clean[j][:,np.random.choice(nneigh, nneigh, replace=False)])\n",
    "\n",
    "    if shift > 0:\n",
    "        x_collision2[j,:(x_collision.shape[1]-shift)] += x_clean2[shift:]\n",
    "\n",
    "    elif shift < 0:\n",
    "        x_collision2[j,(-shift):] += x_clean2[:(x_collision.shape[1]+shift)]\n",
    "    else:\n",
    "        x_collision2[j] += x_clean2\n",
    "\n",
    "        \n",
    "x_collision3 = np.zeros(x_clean.shape)\n",
    "max_shift = 2*R\n",
    "\n",
    "temporal_shifts = np.random.randint(max_shift*2, size = nk*K) - max_shift\n",
    "temporal_shifts[temporal_shifts<0] = temporal_shifts[temporal_shifts<0]-5\n",
    "temporal_shifts[temporal_shifts>=0] = temporal_shifts[temporal_shifts>=0]+5\n",
    "\n",
    "amp_per_data = np.max(x_clean[:,:,0],axis=1)\n",
    "#random_match = np.random.randint(nk*K, size = nk*K)\n",
    "\n",
    "mid_point = (x_clean.shape[1]-1)/2\n",
    "\n",
    "for j in range(nk*K):\n",
    "    shift = temporal_shifts[j]\n",
    "    \n",
    "    x_collision3[j] = np.copy(x_clean[j])\n",
    "    idx_candidate = np.where(np.logical_and(amp_per_data > amp_per_data[j]*0.5, amp_per_data < amp_per_data[j]*2))[0]\n",
    "    idx_match = idx_candidate[np.random.randint(idx_candidate.shape[0], size = 1)[0]]\n",
    "    #idx_match = random_match[j]\n",
    "    x_clean2 = np.copy(x_clean[idx_match])\n",
    "\n",
    "    if shift > 0:\n",
    "        x_collision3[j,:(x_collision.shape[1]-shift)] += x_clean2[shift:]\n",
    "\n",
    "    elif shift < 0:\n",
    "        x_collision3[j,(-shift):] += x_clean2[:(x_collision.shape[1]+shift)]\n",
    "    else:\n",
    "        x_collision3[j] += x_clean2\n",
    "        \n",
    "        \n",
    "spatial_SIG, temporal_SIG = asp.determineNoiseCov(x_clean.shape[1],1)"
   ]
  },
  {
   "cell_type": "code",
   "execution_count": null,
   "metadata": {},
   "outputs": [],
   "source": [
    "x_clean.shape"
   ]
  },
  {
   "cell_type": "code",
   "execution_count": 19,
   "metadata": {},
   "outputs": [
    {
     "data": {
      "text/plain": [
       "array([[ 0.71915676,  0.51451343,  0.30734923, ...,  0.00711517,\n",
       "         0.01168001,  0.01117155],\n",
       "       [ 0.51451343,  0.57738104,  0.47841914, ...,  0.00696489,\n",
       "         0.00832074,  0.0098516 ],\n",
       "       [ 0.30734923,  0.47841914,  0.5505434 , ...,  0.00546368,\n",
       "         0.00613936,  0.00625904],\n",
       "       ..., \n",
       "       [ 0.00711517,  0.00696489,  0.00546368, ...,  0.53747207,\n",
       "         0.46064057,  0.2905726 ],\n",
       "       [ 0.01168001,  0.00832074,  0.00613936, ...,  0.46064057,\n",
       "         0.56174243,  0.5007136 ],\n",
       "       [ 0.01117155,  0.0098516 ,  0.00625904, ...,  0.2905726 ,\n",
       "         0.5007136 ,  0.70785593]])"
      ]
     },
     "execution_count": 19,
     "metadata": {},
     "output_type": "execute_result"
    }
   ],
   "source": [
    "temporal_SIG"
   ]
  },
  {
   "cell_type": "code",
   "execution_count": 20,
   "metadata": {
    "collapsed": true
   },
   "outputs": [],
   "source": [
    "def plot_matrix(m):\n",
    "    plt.imshow(m)\n",
    "    plt.colorbar()\n",
    "    plt.show()"
   ]
  },
  {
   "cell_type": "code",
   "execution_count": 21,
   "metadata": {},
   "outputs": [
    {
     "data": {
      "image/png": "[encoded data removed]",
      "text/plain": [
       "<matplotlib.figure.Figure at 0x112d7a750>"
      ]
     },
     "metadata": {},
     "output_type": "display_data"
    }
   ],
   "source": [
    "plot_matrix(temporal_SIG)"
   ]
  },
  {
   "cell_type": "code",
   "execution_count": 22,
   "metadata": {},
   "outputs": [
    {
     "data": {
      "image/png": "[encoded data removed]",
      "text/plain": [
       "<matplotlib.figure.Figure at 0x1121d5710>"
      ]
     },
     "metadata": {},
     "output_type": "display_data"
    }
   ],
   "source": [
    "plot_matrix(spatial_SIG)"
   ]
  },
  {
   "cell_type": "code",
   "execution_count": 33,
   "metadata": {},
   "outputs": [
    {
     "data": {
      "text/plain": [
       "dtype('float64')"
      ]
     },
     "execution_count": 33,
     "metadata": {},
     "output_type": "execute_result"
    }
   ],
   "source": [
    "noise.dtype"
   ]
  },
  {
   "cell_type": "code",
   "execution_count": 23,
   "metadata": {},
   "outputs": [
    {
     "data": {
      "text/plain": [
       "(49998, 91, 7)"
      ]
     },
     "execution_count": 23,
     "metadata": {},
     "output_type": "execute_result"
    }
   ],
   "source": [
    "x_clean.shape"
   ]
  },
  {
   "cell_type": "code",
   "execution_count": 24,
   "metadata": {
    "collapsed": true
   },
   "outputs": [],
   "source": [
    "# get noise\n",
    "noise = np.random.normal(size=x_clean.shape)\n",
    "for c in range(noise.shape[2]):\n",
    "    noise[:,:,c] = np.matmul(noise[:,:,c],temporal_SIG)\n",
    "\n",
    "    reshaped_noise = np.reshape(noise,(-1,noise.shape[2]))\n",
    "noise = np.reshape(np.matmul(reshaped_noise,spatial_SIG),[x_clean.shape[0],x_clean.shape[1],x_clean.shape[2]])\n",
    "\n",
    "#y_clean = np.zeros((x_clean.shape[0],3))\n",
    "#y_clean[:,1] = 1\n",
    "\n",
    "#y_col = np.zeros((x_clean.shape[0],3))\n",
    "#y_col[:,2] = 1\n",
    "\n",
    "#y_noise = np.zeros((x_clean.shape[0],3))\n",
    "#y_noise[:,0] = 1\n",
    "\n",
    "y_clean = np.ones((x_clean.shape[0]))\n",
    "y_col = np.ones((x_clean.shape[0]))\n",
    "y_col2 = np.zeros((x_clean.shape[0]))\n",
    "y_col3 = np.ones((x_clean.shape[0]))\n",
    "y_noise = np.zeros((x_clean.shape[0]))"
   ]
  },
  {
   "cell_type": "code",
   "execution_count": 32,
   "metadata": {},
   "outputs": [
    {
     "data": {
      "text/plain": [
       "(49998, 91, 7)"
      ]
     },
     "execution_count": 32,
     "metadata": {},
     "output_type": "execute_result"
    }
   ],
   "source": [
    "noise.shape"
   ]
  },
  {
   "cell_type": "code",
   "execution_count": 31,
   "metadata": {},
   "outputs": [],
   "source": [
    "noise.tofile('noise.bin')"
   ]
  },
  {
   "cell_type": "code",
   "execution_count": 17,
   "metadata": {
    "collapsed": true
   },
   "outputs": [],
   "source": [
    "x = np.concatenate( (\n",
    "        x_clean + noise, \n",
    "        x_collision + noise[np.random.permutation(noise.shape[0])], \n",
    "        x_collision2 + noise[np.random.permutation(noise.shape[0])],\n",
    "        x_collision3 + noise[np.random.permutation(noise.shape[0])],\n",
    "        noise\n",
    "    ) )\n",
    "x = x[:,(mid_point-R):(mid_point+R+1),:]\n",
    "y = np.concatenate( (y_clean, y_col, y_col2, y_col3, y_noise) )\n",
    "\n",
    "# import scipy.io\n",
    "# wf_test = scipy.io.loadmat('/ssd/data/peter/YASS/test/wf_test.mat')['wf_test']\n",
    "\n",
    "# x_train = x\n",
    "# y_train = y"
   ]
  },
  {
   "cell_type": "code",
   "execution_count": 18,
   "metadata": {},
   "outputs": [
    {
     "data": {
      "text/plain": [
       "(49998, 91, 7)"
      ]
     },
     "execution_count": 18,
     "metadata": {},
     "output_type": "execute_result"
    }
   ],
   "source": [
    "noise.shape"
   ]
  },
  {
   "cell_type": "code",
   "execution_count": 19,
   "metadata": {},
   "outputs": [
    {
     "data": {
      "text/plain": [
       "[<matplotlib.lines.Line2D at 0x11a627790>,\n",
       " <matplotlib.lines.Line2D at 0x11a6279d0>,\n",
       " <matplotlib.lines.Line2D at 0x11a627b10>,\n",
       " <matplotlib.lines.Line2D at 0x11a627c50>,\n",
       " <matplotlib.lines.Line2D at 0x11a627d90>,\n",
       " <matplotlib.lines.Line2D at 0x11a627ed0>,\n",
       " <matplotlib.lines.Line2D at 0x11a636050>]"
      ]
     },
     "execution_count": 19,
     "metadata": {},
     "output_type": "execute_result"
    },
    {
     "data": {
      "image/png": "[encoded data removed]",
      "text/plain": [
       "<matplotlib.figure.Figure at 0x11a08b450>"
      ]
     },
     "metadata": {},
     "output_type": "display_data"
    }
   ],
   "source": [
    "plt.plot(noise[10])"
   ]
  },
  {
   "cell_type": "code",
   "execution_count": null,
   "metadata": {
    "collapsed": true
   },
   "outputs": [],
   "source": [
    "plt.plot(noise[0].shape)"
   ]
  },
  {
   "cell_type": "code",
   "execution_count": null,
   "metadata": {
    "collapsed": true
   },
   "outputs": [],
   "source": [
    "nnd = NeuralNetDetector(cfg)\n",
    "ndata, T, C = x_train.shape\n",
    "R1 = 31\n",
    "R2 = 5\n",
    "nneigh = 7\n",
    "\n",
    "ncells = [16, 8]\n",
    "nn_name='detectnet1.ckpt'\n",
    "\n",
    "nbatch = 512\n",
    "niter = 5000\n",
    "\n",
    "# Ndata, Time, Channels (7)    \n",
    "x_tf = tf.placeholder(\"float\", [None, None, None])\n",
    "y_tf = tf.placeholder(\"float\", [None])\n",
    "\n",
    "W1 = nnd.weight_variable([R1,1,1,ncells[0]])\n",
    "b1 = nnd.bias_variable([ncells[0]])\n",
    "layer1 = tf.nn.relu(tf.nn.conv2d(tf.expand_dims(x_tf,-1), W1, strides=[1,1,1,1], padding='VALID')+b1)\n",
    "\n",
    "W11 = nnd.weight_variable([1,1,ncells[0],ncells[1]])\n",
    "b11 = nnd.bias_variable([ncells[1]])\n",
    "layer11 = tf.nn.relu(tf.nn.conv2d(layer1, W11, strides=[1,1,1,1], padding='SAME')+b11)\n",
    "\n",
    "W2 = nnd.weight_variable([1,nneigh,ncells[1],1])\n",
    "b2 = nnd.bias_variable([1])\n",
    "o_layer = tf.squeeze(tf.nn.conv2d(layer11, W2, strides=[1,1,1,1], padding='VALID')+b2)\n",
    "\n",
    "layer1_test = tf.nn.relu(tf.nn.conv2d(tf.expand_dims(x_tf,-1), W1, strides=[1,1,1,1], padding='SAME')+b1)\n",
    "layer11_test = tf.nn.relu(tf.nn.conv2d(layer1_test, W11, strides=[1,1,1,1], padding='SAME')+b11)\n",
    "o_layer_test = tf.squeeze(tf.nn.conv2d(layer11_test, W2, strides=[1,1,1,1], padding='VALID')+b2)\n",
    "\n",
    "#tf_prob = tf.nn.softmax(o_layer)\n",
    "#cross_entropy = tf.reduce_mean(tf.nn.softmax_cross_entropy_with_logits(labels=y_tf, logits=o_layer))\n",
    "\n",
    "tf_prob = tf.sigmoid(o_layer)\n",
    "cross_entropy = tf.reduce_mean(tf.nn.sigmoid_cross_entropy_with_logits(logits=o_layer, labels=y_tf))\n",
    "\n",
    "TrainStepSize = nnd.config.neural_network['nnTrainStepSize']\n",
    "TrainStepSize = 0.001\n",
    "#train_step = tf.train.AdamOptimizer(TrainStepSize).minimize(cross_entropy)\n",
    "weights = tf.trainable_variables()\n",
    "l2_penalty = nnd.config.neural_network['nnL2RegScale']\n",
    "l2_penalty = 1.5e-4\n",
    "l2_regularizer = tf.contrib.layers.l2_regularizer(\n",
    "            scale=l2_penalty)\n",
    "regularization_penalty = tf.contrib.layers.apply_regularization(l2_regularizer, weights)\n",
    "regularized_loss = cross_entropy + regularization_penalty\n",
    "train_step = tf.train.AdamOptimizer(TrainStepSize).minimize(regularized_loss)\n",
    "\n",
    "saver_triagenet = tf.train.Saver({\"W1\": W1,\"W2\": W2,\"W11\":W11,\"b11\":b11,\"b1\": b1,\"b2\": b2})"
   ]
  },
  {
   "cell_type": "code",
   "execution_count": null,
   "metadata": {
    "collapsed": true,
    "scrolled": true
   },
   "outputs": [],
   "source": [
    "bar = progressbar.ProgressBar(maxval=niter)\n",
    "with tf.Session() as sess:\n",
    "    init_op = tf.global_variables_initializer()\n",
    "    sess.run(init_op)\n",
    "\n",
    "    for i in range(0, niter):\n",
    "        idx_batch = np.random.choice(ndata, nbatch, replace=False)\n",
    "        \n",
    "        x_output, y_output = (x_train[idx_batch], y_train[idx_batch])\n",
    "        \n",
    "        if np.mod(i, 500) == 0:\n",
    "            pp = sess.run(tf_prob, feed_dict={x_tf: x_output})\n",
    "            ll = sess.run(cross_entropy, feed_dict={x_tf: x_output, y_tf: y_output})\n",
    "            rl = sess.run(regularization_penalty, feed_dict={x_tf: x_output, y_tf: y_output})\n",
    "            print(ll,rl)\n",
    "            idx_pos = (y_output).astype('bool')\n",
    "            #0.7 0.3\n",
    "            print(np.mean(pp[idx_pos] > 0.9),np.sum(pp[~idx_pos] > 0.1))\n",
    "            #est_label = np.argmax(pp,axis=1)\n",
    "            #true_label = np.argmax(y_output, axis=1)\n",
    "            #print(np.mean(est_label[true_label==0]==0),np.mean(est_label[true_label==1]==1),np.mean(est_label[true_label==2]==2))\n",
    "            #pp_test = sess.run(tf_prob, feed_dict={x_tf: wf_test[:,:,[0]]})\n",
    "            #print(np.mean(np.max(pp_test,axis=1) > 0.5))\n",
    "\n",
    "            pp_test=np.zeros([wf_test.shape[0],wf_test.shape[1]])\n",
    "            ntest =wf_test.shape[0]\n",
    "            for i in range(ntest/100):\n",
    "                pp_test[100*i:100*(i+1)]= sess.run(o_layer_test, feed_dict={x_tf: wf_test[100*i:100*(i+1)]})\n",
    "\n",
    "            pp_test[(ntest/100)*100:ntest] = sess.run(o_layer_test, feed_dict={x_tf: wf_test[(ntest/100)*100:ntest]})\n",
    "            print(np.mean(np.max(pp_test[:,40:60],axis=1) > 0))\n",
    "            \n",
    "            saver_triagenet.save(sess, os.path.join(nnd.config.root, nn_name))\n",
    "\n",
    "        sess.run(train_step, feed_dict={x_tf: x_output, y_tf: y_output})                \n",
    "        bar.update(i+1)\n",
    "    saver_triagenet.save(sess, os.path.join(nnd.config.root, nn_name))\n",
    "    bar.finish()"
   ]
  },
  {
   "cell_type": "markdown",
   "metadata": {
    "collapsed": true
   },
   "source": [
    "Test on real dataset"
   ]
  },
  {
   "cell_type": "code",
   "execution_count": null,
   "metadata": {
    "collapsed": true
   },
   "outputs": [],
   "source": [
    "bar = progressbar.ProgressBar(maxval=niter)\n",
    "with tf.Session() as sess:\n",
    "    saver_triagenet.restore(sess, os.path.join(nnd.config.root, nn_name))\n",
    "\n",
    "    layer1_test = tf.nn.relu(tf.nn.conv2d(tf.expand_dims(x_tf,-1), W1, strides=[1,1,1,1], padding='SAME')+b1)\n",
    "    layer11_test = tf.nn.relu(tf.nn.conv2d(layer1_test, W11, strides=[1,1,1,1], padding='SAME')+b11)\n",
    "    o_layer_test = tf.squeeze(tf.nn.conv2d(layer11_test, W2, strides=[1,1,1,1], padding='VALID')+b2)\n",
    "    \n",
    "    pp_test=np.zeros([wf_test.shape[0],wf_test.shape[1]])\n",
    "    ntest =wf_test.shape[0]\n",
    "    for i in range(ntest/100):\n",
    "        pp_test[100*i:100*(i+1)]= sess.run(o_layer_test, feed_dict={x_tf: wf_test[100*i:100*(i+1)]})\n",
    "    \n",
    "    pp_test[(ntest/100)*100:ntest] = sess.run(o_layer_test, feed_dict={x_tf: wf_test[(ntest/100)*100:ntest]})"
   ]
  },
  {
   "cell_type": "code",
   "execution_count": null,
   "metadata": {
    "collapsed": true
   },
   "outputs": [],
   "source": [
    "idx_fail = np.max(pp_test[:,40:60],axis=1) < 0\n",
    "np.mean(idx_fail)"
   ]
  },
  {
   "cell_type": "code",
   "execution_count": null,
   "metadata": {
    "collapsed": true,
    "scrolled": false
   },
   "outputs": [],
   "source": [
    "min_amp_plot = 2\n",
    "max_amp_plot = 50\n",
    "plt.plot(wf_test[np.where(idx_fail)[0][np.logical_and(np.max(wf_test[idx_fail,30:50,0],axis=1) > min_amp_plot, np.max(wf_test[idx_fail,30:50,0],axis=1) < max_amp_plot)],35:60,0].T)\n",
    "plt.ylim([-10,10])\n",
    "plt.show()\n",
    "plt.plot(pp_test[np.where(idx_fail)[0][np.logical_and(np.max(wf_test[idx_fail,30:50,0],axis=1) > min_amp_plot, np.max(wf_test[idx_fail,30:50,0],axis=1) < max_amp_plot)],35:60].T)\n",
    "plt.ylim([-10,10])\n",
    "plt.show()"
   ]
  },
  {
   "cell_type": "code",
   "execution_count": null,
   "metadata": {
    "collapsed": true
   },
   "outputs": [],
   "source": []
  },
  {
   "cell_type": "code",
   "execution_count": null,
   "metadata": {
    "collapsed": true
   },
   "outputs": [],
   "source": []
  },
  {
   "cell_type": "code",
   "execution_count": null,
   "metadata": {
    "collapsed": true
   },
   "outputs": [],
   "source": []
  },
  {
   "cell_type": "code",
   "execution_count": null,
   "metadata": {
    "collapsed": true
   },
   "outputs": [],
   "source": []
  },
  {
   "cell_type": "code",
   "execution_count": null,
   "metadata": {
    "collapsed": true
   },
   "outputs": [],
   "source": []
  },
  {
   "cell_type": "markdown",
   "metadata": {
    "collapsed": true
   },
   "source": [
    "Training Triage Net"
   ]
  },
  {
   "cell_type": "code",
   "execution_count": null,
   "metadata": {
    "collapsed": true
   },
   "outputs": [],
   "source": [
    "x = np.concatenate( (\n",
    "        x_clean + noise, \n",
    "        x_collision + noise[np.random.permutation(noise.shape[0])], \n",
    "        x_collision3 + noise[np.random.permutation(noise.shape[0])],\n",
    "    ) )\n",
    "x = x[:,(mid_point-R):(mid_point+R+1),:]\n",
    "y = np.concatenate( (\n",
    "        y_clean, \n",
    "        np.zeros((x_clean.shape[0])), \n",
    "        np.zeros((x_clean.shape[0])), \n",
    "                    ) )\n",
    "\n",
    "x_train = x\n",
    "y_train = y"
   ]
  },
  {
   "cell_type": "code",
   "execution_count": null,
   "metadata": {
    "collapsed": true
   },
   "outputs": [],
   "source": [
    "nnd = NeuralNetDetector(cfg)\n",
    "nn_name='triagenet1.ckpt'\n",
    "\n",
    "ndata, T, C = x_train.shape\n",
    "R1 = 31\n",
    "R2 = 5\n",
    "nneigh = 7\n",
    "ncells = [8, 16]\n",
    "D = R1*nneigh\n",
    "\n",
    "nbatch = 512\n",
    "niter = 5000\n",
    "\n",
    "x_tf = tf.placeholder(\"float\", [None, D])\n",
    "y_tf = tf.placeholder(\"float\", [None])\n",
    "\n",
    "\n",
    "W1 = nnd.weight_variable([D,ncells[0]])\n",
    "W2 = nnd.weight_variable([ncells[0],ncells[1]])\n",
    "W3 = nnd.weight_variable([ncells[1],1])\n",
    "\n",
    "b1 = nnd.bias_variable([ncells[0]])\n",
    "b2 = nnd.bias_variable([ncells[1]])\n",
    "b3 = nnd.bias_variable([1])\n",
    "\n",
    "layer1 = tf.nn.relu(tf.add(tf.matmul(x_tf, W1), b1))\n",
    "layer2 = tf.nn.relu(tf.add(tf.matmul(layer1, W2), b2))\n",
    "o_layer = tf.squeeze(tf.add(tf.matmul(layer2, W3), b3))\n",
    "\n",
    "\n",
    "#tf_prob = tf.nn.softmax(o_layer)\n",
    "#cross_entropy = tf.reduce_mean(tf.nn.softmax_cross_entropy_with_logits(labels=y_tf, logits=o_layer))\n",
    "\n",
    "tf_prob = tf.sigmoid(o_layer)\n",
    "cross_entropy = tf.reduce_mean(tf.nn.sigmoid_cross_entropy_with_logits(logits=o_layer, labels=y_tf))\n",
    "\n",
    "TrainStepSize = nnd.config.neural_network['nnTrainStepSize']\n",
    "TrainStepSize = 0.001\n",
    "#train_step = tf.train.AdamOptimizer(TrainStepSize).minimize(cross_entropy)\n",
    "weights = tf.trainable_variables()\n",
    "l2_penalty = nnd.config.neural_network['nnL2RegScale']\n",
    "l2_penalty = 2e-4\n",
    "l2_regularizer = tf.contrib.layers.l2_regularizer(\n",
    "            scale=l2_penalty)\n",
    "regularization_penalty = tf.contrib.layers.apply_regularization(l2_regularizer, weights)\n",
    "regularized_loss = cross_entropy + regularization_penalty\n",
    "train_step = tf.train.AdamOptimizer(TrainStepSize).minimize(regularized_loss)\n",
    "\n",
    "saver_triagenet = tf.train.Saver({\"W1\": W1,\"W2\": W2,\"W3\": W3,\"b1\": b1,\"b2\": b2,\"b3\": b3})"
   ]
  },
  {
   "cell_type": "code",
   "execution_count": null,
   "metadata": {
    "collapsed": true,
    "scrolled": true
   },
   "outputs": [],
   "source": [
    "bar = progressbar.ProgressBar(maxval=niter)\n",
    "with tf.Session() as sess:\n",
    "    init_op = tf.global_variables_initializer()\n",
    "    sess.run(init_op)\n",
    "\n",
    "    for i in range(0, niter):\n",
    "        idx_batch = np.random.choice(ndata, nbatch, replace=False)\n",
    "        \n",
    "        x_output, y_output = (x_train[idx_batch], y_train[idx_batch])\n",
    "        \n",
    "        if np.mod(i, 500) == 0:\n",
    "            pp = sess.run(tf_prob, feed_dict={x_tf: np.reshape(x_output,[nbatch,-1])})\n",
    "            ll = sess.run(cross_entropy, feed_dict={x_tf: np.reshape(x_output,[nbatch,-1]), y_tf: y_output})\n",
    "            rl = sess.run(regularization_penalty, feed_dict={x_tf: np.reshape(x_output,[nbatch,-1]), y_tf: y_output})\n",
    "            print(ll,rl)\n",
    "            idx_pos = (y_output).astype('bool')\n",
    "            print(np.mean(pp[idx_pos] > 0.5),np.mean(pp[~idx_pos] > 0.5))\n",
    "            saver_triagenet.save(sess, os.path.join(nnd.config.root, nn_name))\n",
    "\n",
    "        sess.run(train_step, feed_dict={x_tf: np.reshape(x_output,[nbatch,-1]), y_tf: y_output})                \n",
    "        bar.update(i+1)\n",
    "    saver_triagenet.save(sess, os.path.join(nnd.config.root, nn_name))\n",
    "    bar.finish()"
   ]
  },
  {
   "cell_type": "code",
   "execution_count": null,
   "metadata": {
    "collapsed": true
   },
   "outputs": [],
   "source": []
  },
  {
   "cell_type": "code",
   "execution_count": null,
   "metadata": {
    "collapsed": true
   },
   "outputs": [],
   "source": [
    "import numpy as np\n",
    "from yass.configuration import Configs\n",
    "from yass.preprocessing import Preprocessor\n",
    "from yass.neuralnet3 import NeuralNetDetector\n",
    "from yass.mainprocess import Mainprocessor\n",
    "from yass.deconvolution import Deconvolution\n",
    "\n",
    "%matplotlib inline\n",
    "import matplotlib.pyplot as plt"
   ]
  },
  {
   "cell_type": "code",
   "execution_count": null,
   "metadata": {
    "collapsed": true
   },
   "outputs": [],
   "source": [
    "cfg = Configs('configuration.yaml')\n",
    "cfg.neural_network['nnFilename'] = 'detectnet1.ckpt'\n",
    "cfg.neural_network['nnTriageFilename'] = 'triagenet1.ckpt'\n",
    "cfg.neural_network['nnNFilters'] = [16, 8, 1]\n",
    "cfg.neural_network['nnFilterSize'] = [31, 1, 1]  \n",
    "cfg.neural_network['nnTriageFilterSize'] = [8, 16]  \n",
    "\n",
    "cfg.nnThreshdold =  0"
   ]
  },
  {
   "cell_type": "code",
   "execution_count": null,
   "metadata": {
    "collapsed": true
   },
   "outputs": [],
   "source": [
    "cfg.filename = 'ej49_data1_set1.bin'\n",
    "cfg.geomFile =  'ej49_geometry1.txt'\n",
    "gt_data = '/ssd/data/peter/ej49_dataset/groundtruth_ej49_data1_set1.mat'"
   ]
  },
  {
   "cell_type": "code",
   "execution_count": null,
   "metadata": {
    "collapsed": true,
    "scrolled": true
   },
   "outputs": [],
   "source": [
    "pp = Preprocessor(cfg)\n",
    "score, clr_idx, spt = pp.process()"
   ]
  },
  {
   "cell_type": "code",
   "execution_count": null,
   "metadata": {
    "collapsed": true
   },
   "outputs": [],
   "source": [
    "from yass.preprocess.filter import butterworth\n",
    "pp.openFile()\n",
    "rec = pp.load(0,pp.config.batch_size)\n",
    "rec = butterworth(rec, pp.config.filterLow,\n",
    "                          pp.config.filterHighFactor,\n",
    "                          pp.config.filterOrder,\n",
    "                          pp.config.srate)\n",
    "small_t = np.min((int(pp.config.srate*5), rec.shape[0]))\n",
    "mid_T = int(np.ceil(rec.shape[0]/2))\n",
    "rec_temp = rec[np.arange(mid_T-small_t, mid_T+small_t)]\n",
    "sd = np.median(np.abs(rec), 0)/0.6745\n",
    "rec = np.divide(rec,sd)"
   ]
  },
  {
   "cell_type": "code",
   "execution_count": null,
   "metadata": {
    "collapsed": true
   },
   "outputs": [],
   "source": [
    "score[10].shape"
   ]
  },
  {
   "cell_type": "code",
   "execution_count": null,
   "metadata": {
    "collapsed": true
   },
   "outputs": [],
   "source": [
    "import scipy.io\n",
    "kk = scipy.io.loadmat(gt_data)\n",
    "L_gt = kk['L_gt']\n",
    "spt_gt = kk['spt_gt']\n",
    "K = np.max(L_gt)\n",
    "R = 15\n",
    "templates_gt = np.zeros((np.max(L_gt),2*R+1,49))\n",
    "for k in range(K):\n",
    "    spt_test = spt_gt[L_gt==(k+1)] + 15\n",
    "    spt_test = spt_test[np.logical_and(spt_test>R,spt_test<5*60*20000-R)]\n",
    "    nn = spt_test.shape[0]\n",
    "    wf = np.zeros((nn,2*R+1, 49))\n",
    "    for j in range(nn):\n",
    "        wf[j] = rec[(spt_test[j]-R):(spt_test[j]+R+1)]\n",
    "    templates_gt[k] = np.mean(wf,axis=0)\n",
    "\n",
    "amps = np.max(templates_gt,axis=1)\n",
    "mainc = np.argmax(amps,axis=1)\n",
    "max_amps = np.max(amps,axis=1)\n",
    "mainchannels = amps > max_amps[:,np.newaxis]*0.5"
   ]
  },
  {
   "cell_type": "code",
   "execution_count": null,
   "metadata": {
    "collapsed": true
   },
   "outputs": [],
   "source": [
    "R = 5\n",
    "captured2 = np.zeros(K)\n",
    "missed_spt = list()\n",
    "captured_spt = list()\n",
    "for k in range(K):\n",
    "    spt_test = spt_gt[L_gt==(k+1)] + 15\n",
    "    spt_test = spt_test[np.logical_and(spt_test>30,spt_test<5*60*20000-30)]\n",
    "    nn = spt_test.shape[0]\n",
    "    ch_idx = np.where(mainchannels[k])[0]\n",
    "    ch_idx = np.where(cfg.neighChannels[mainc[k]])[0]\n",
    "    spt_est = np.zeros(0)\n",
    "    for j in range(ch_idx.shape[0]):\n",
    "        spt_est = np.concatenate((spt_est,spt[ch_idx[j]][:,0]-pp.config.BUFF))\n",
    "    \n",
    "    captured_k = np.zeros(spt_test.shape[0],'bool')\n",
    "    for j in range(spt_test.shape[0]):\n",
    "        captured_k[j] = np.min(np.abs(spt_est - spt_test[j])) < R\n",
    "    \n",
    "    missed_spt.append(spt_test[~captured_k])\n",
    "    captured_spt.append(spt_test[captured_k])\n",
    "    captured2[k] = np.mean(captured_k)\n",
    "np.sum(captured2>0.9)"
   ]
  },
  {
   "cell_type": "code",
   "execution_count": null,
   "metadata": {
    "collapsed": true
   },
   "outputs": [],
   "source": [
    "captured2"
   ]
  },
  {
   "cell_type": "code",
   "execution_count": null,
   "metadata": {
    "collapsed": true
   },
   "outputs": [],
   "source": [
    "plt.scatter(score[0][:,0,1],score[0][:,1,0])"
   ]
  },
  {
   "cell_type": "code",
   "execution_count": null,
   "metadata": {
    "collapsed": true
   },
   "outputs": [],
   "source": [
    "c = 0\n",
    "spt_test =spt[c][:,0]-pp.config.BUFF\n",
    "spt_test = spt_test[np.logical_and(spt_test > 15, spt_test < 60*5*20000 - 15)]\n",
    "print(spt_test.shape[0])\n",
    "wf = np.zeros((spt_test.shape[0],31))\n",
    "for j in range(spt_test.shape[0]):\n",
    "    wf[j] = rec[(spt_test[j]-15):(spt_test[j]+15+1),2]"
   ]
  },
  {
   "cell_type": "code",
   "execution_count": null,
   "metadata": {
    "collapsed": true
   },
   "outputs": [],
   "source": [
    "idx = np.argsort(np.max(wf,axis=1))"
   ]
  },
  {
   "cell_type": "code",
   "execution_count": null,
   "metadata": {
    "collapsed": true
   },
   "outputs": [],
   "source": [
    "nstart = 2000\n",
    "nshow = 1000\n",
    "plt.plot(wf[nstart:(nstart+nshow)].T)\n",
    "plt.show()"
   ]
  },
  {
   "cell_type": "code",
   "execution_count": null,
   "metadata": {
    "collapsed": true
   },
   "outputs": [],
   "source": []
  },
  {
   "cell_type": "code",
   "execution_count": null,
   "metadata": {
    "collapsed": true
   },
   "outputs": [],
   "source": []
  },
  {
   "cell_type": "code",
   "execution_count": null,
   "metadata": {
    "collapsed": true
   },
   "outputs": [],
   "source": [
    "nnd = NeuralNetDetector(cfg)\n",
    "ndata, T, C = x_train.shape\n",
    "R1 = 31\n",
    "R2 = 5\n",
    "nneigh = 7\n",
    "ncells = [4, 1, 2]\n",
    "\n",
    "nbatch = 512\n",
    "niter = 20000\n",
    "\n",
    "# Ndata, Time, Channels (7)    \n",
    "x_tf = tf.placeholder(\"float\", [None, None, None])\n",
    "y_tf = tf.placeholder(\"float\", [None, None])\n",
    "\n",
    "W1 = nnd.weight_variable([R1,1,1,ncells[0]])\n",
    "b1 = nnd.bias_variable([ncells[0]])\n",
    "layer1 = tf.nn.relu(tf.nn.conv2d(tf.expand_dims(x_tf,-1), W1, strides=[1,1,1,1], padding='SAME')+b1)\n",
    "\n",
    "W2 = nnd.weight_variable([1,nneigh,ncells[0],ncells[1]])\n",
    "b2 = nnd.bias_variable([ncells[1]])\n",
    "layer2 = tf.nn.relu(tf.nn.conv2d(layer1, W2, strides=[1,1,1,1], padding='VALID')+b2)\n",
    "\n",
    "W3 = nnd.weight_variable([1,1,ncells[1],ncells[2]])\n",
    "b3 = nnd.bias_variable([ncells[2]])\n",
    "layer3 = tf.nn.relu(tf.nn.conv2d(layer2, W3, strides=[1,1,1,1], padding='SAME')+b3)\n",
    "\n",
    "W4 = nnd.weight_variable([R2,1,ncells[1],1])\n",
    "b4 = nnd.bias_variable([1])\n",
    "o_layer = tf.squeeze(tf.nn.conv2d(layer2, W4, strides=[1,1,1,1], padding='SAME')+b4)\n",
    "\n",
    "tf_prob = tf.sigmoid(o_layer)\n",
    "\n",
    "\n",
    "cross_entropy = tf.reduce_mean(tf.nn.sigmoid_cross_entropy_with_logits(logits=o_layer, labels=y_tf))\n",
    "TrainStepSize = nnd.config.neural_network['nnTrainStepSize']\n",
    "TrainStepSize = 0.001\n",
    "#train_step = tf.train.AdamOptimizer(TrainStepSize).minimize(cross_entropy)\n",
    "weights = tf.trainable_variables()\n",
    "l2_penalty = nnd.config.neural_network['nnL2RegScale']\n",
    "l2_penalty = 1e-7\n",
    "l2_regularizer = tf.contrib.layers.l2_regularizer(\n",
    "            scale=l2_penalty)\n",
    "regularization_penalty = tf.contrib.layers.apply_regularization(l2_regularizer, weights)\n",
    "regularized_loss = cross_entropy + regularization_penalty\n",
    "train_step = tf.train.AdamOptimizer(TrainStepSize).minimize(regularized_loss)\n",
    "\n",
    "saver_triagenet = tf.train.Saver({\"W1\": W1,\"W2\": W2,\"W3\": W3,\"W4\": W4,\"b1\": b1,\"b2\": b2,\"b3\": b3,\"b4\": b4})"
   ]
  },
  {
   "cell_type": "code",
   "execution_count": null,
   "metadata": {
    "collapsed": true,
    "scrolled": true
   },
   "outputs": [],
   "source": [
    "bar = progressbar.ProgressBar(maxval=niter)\n",
    "with tf.Session() as sess:\n",
    "    init_op = tf.global_variables_initializer()\n",
    "    sess.run(init_op)\n",
    "\n",
    "    for i in range(0, niter):\n",
    "        idx_batch = np.random.choice(ndata, nbatch, replace=False)\n",
    "        \n",
    "        x_output, y_output = (x_train[idx_batch], y_train[idx_batch])\n",
    "        \n",
    "        if np.mod(i, 500) == 0:\n",
    "            pp = sess.run(tf_prob, feed_dict={x_tf: x_output[:,:,[0]]})\n",
    "            ll = sess.run(cross_entropy, feed_dict={x_tf: x_output[:,:,[0]], y_tf: y_output})\n",
    "            rl = sess.run(regularization_penalty, feed_dict={x_tf: x_output[:,:,[0]], y_tf: y_output})\n",
    "            print(ll,rl)\n",
    "            idx_pos = (y_output).astype('bool')\n",
    "            print(np.mean(pp[idx_pos] > 0.5),np.sum(pp[~idx_pos] > 0.5))\n",
    "            pp_test = sess.run(tf_prob, feed_dict={x_tf: wf_test[:,:,[0]]})\n",
    "            print(np.mean(np.max(pp_test,axis=1) > 0.5))\n",
    "            saver_triagenet.save(sess, os.path.join(nnd.config.root, 'detectnet1.ckpt'))\n",
    "\n",
    "        sess.run(train_step, feed_dict={x_tf: x_output[:,:,[0]], y_tf: y_output})                \n",
    "        bar.update(i+1)\n",
    "    saver_triagenet.save(sess, os.path.join(nnd.config.root, 'detectnet1.ckpt'))\n",
    "    bar.finish()"
   ]
  },
  {
   "cell_type": "code",
   "execution_count": null,
   "metadata": {
    "collapsed": true
   },
   "outputs": [],
   "source": []
  },
  {
   "cell_type": "code",
   "execution_count": null,
   "metadata": {
    "collapsed": true
   },
   "outputs": [],
   "source": [
    "bar = progressbar.ProgressBar(maxval=niter)\n",
    "with tf.Session() as sess:\n",
    "    saver_triagenet.restore(sess, os.path.join(nnd.config.root, 'detectnet1.ckpt'))\n",
    "\n",
    "    layer1 = tf.nn.relu(tf.nn.conv2d(tf.expand_dims(x_tf,-1), W1, strides=[1,1,1,1], padding='SAME')+b1)\n",
    "    o_layer = tf.squeeze(tf.nn.conv2d(layer1, W2, strides=[1,1,1,1], padding='VALID')+b2)\n",
    "    tf_prob = tf.sigmoid(o_layer)\n",
    "\n",
    "    pp_test = sess.run(o_layer, feed_dict={x_tf: wf_test})\n",
    "    print(np.mean(np.max(pp_test,axis=1) > 0.5))"
   ]
  },
  {
   "cell_type": "code",
   "execution_count": null,
   "metadata": {
    "collapsed": true
   },
   "outputs": [],
   "source": [
    "bar = progressbar.ProgressBar(maxval=niter)\n",
    "with tf.Session() as sess:\n",
    "    saver_triagenet.restore(sess, os.path.join(nnd.config.root, 'detectnet1.ckpt'))\n",
    "\n",
    "    layer1 = tf.nn.relu(tf.nn.conv2d(tf.expand_dims(x_tf,-1), W1, strides=[1,1,1,1], padding='SAME')+b1)\n",
    "    o_layer = tf.squeeze(tf.nn.conv2d(layer1, W2, strides=[1,1,1,1], padding='VALID')+b2)\n",
    "    tf_prob = tf.sigmoid(o_layer)\n",
    "\n",
    "    WW1 = sess.run(W1, feed_dict={x_tf: wf_test})\n",
    "    bb1 = sess.run(b1, feed_dict={x_tf: wf_test})\n",
    "    print(np.mean(np.max(pp_test,axis=1) > 0.5))"
   ]
  },
  {
   "cell_type": "code",
   "execution_count": null,
   "metadata": {
    "collapsed": true
   },
   "outputs": [],
   "source": []
  },
  {
   "cell_type": "code",
   "execution_count": null,
   "metadata": {
    "collapsed": true
   },
   "outputs": [],
   "source": []
  },
  {
   "cell_type": "code",
   "execution_count": null,
   "metadata": {
    "collapsed": true
   },
   "outputs": [],
   "source": [
    "idx_fail = np.max(pp_test[:,40:60,0],axis=1) > 10"
   ]
  },
  {
   "cell_type": "code",
   "execution_count": null,
   "metadata": {
    "collapsed": true
   },
   "outputs": [],
   "source": [
    "np.mean(idx_fail)"
   ]
  },
  {
   "cell_type": "code",
   "execution_count": null,
   "metadata": {
    "collapsed": true
   },
   "outputs": [],
   "source": [
    "plt.plot(wf_test[np.where(idx_fail)[0][np.logical_and(np.max(wf_test[idx_fail,30:50,0],axis=1) > 2, np.max(wf_test[idx_fail,30:50,0],axis=1) < 5)],30:60,0].T)\n",
    "plt.show()"
   ]
  },
  {
   "cell_type": "code",
   "execution_count": null,
   "metadata": {
    "collapsed": true
   },
   "outputs": [],
   "source": [
    "plt.plot(pp_test[np.where(idx_fail)[0][np.logical_and(np.max(wf_test[idx_fail,30:50,0],axis=1) > 2,np.max(wf_test[idx_fail,30:50,0],axis=1) < 5)],40:60].T)\n",
    "plt.show()"
   ]
  },
  {
   "cell_type": "code",
   "execution_count": null,
   "metadata": {
    "collapsed": true
   },
   "outputs": [],
   "source": [
    "wf_test[]"
   ]
  },
  {
   "cell_type": "code",
   "execution_count": null,
   "metadata": {
    "collapsed": true
   },
   "outputs": [],
   "source": [
    "plt.plot(wf_test[np.where(idx_fail)[0][100:120],30:60,0].T)\n",
    "plt.show()"
   ]
  },
  {
   "cell_type": "code",
   "execution_count": null,
   "metadata": {
    "collapsed": true
   },
   "outputs": [],
   "source": []
  },
  {
   "cell_type": "code",
   "execution_count": null,
   "metadata": {
    "collapsed": true
   },
   "outputs": [],
   "source": [
    "import os\n",
    "import numpy as np\n",
    "import tensorflow as tf\n",
    "import progressbar\n",
    "%matplotlib inline\n",
    "import matplotlib.pyplot as plt"
   ]
  },
  {
   "cell_type": "code",
   "execution_count": null,
   "metadata": {
    "collapsed": true
   },
   "outputs": [],
   "source": [
    "from yass.configuration import Configs\n",
    "from yass.neuralnet import NeuralNetDetector\n",
    "from yass.preprocessing import Preprocessor\n",
    "cfg = Configs('configuration.yaml')"
   ]
  },
  {
   "cell_type": "code",
   "execution_count": null,
   "metadata": {
    "collapsed": true,
    "scrolled": true
   },
   "outputs": [],
   "source": [
    "import scipy.io\n",
    "kk = scipy.io.loadmat('/ssd/data/shenghao/NN_small15000_minshift5.mat')\n",
    "#kk = scipy.io.loadmat('/ssd/data/shenghao/NN_small15000_minshift5_thres0_7.mat')\n",
    "X = kk['X']\n",
    "y = kk['y']\n",
    "y[y==2] = 1"
   ]
  },
  {
   "cell_type": "code",
   "execution_count": null,
   "metadata": {
    "collapsed": true
   },
   "outputs": [],
   "source": [
    "nnd = NeuralNetDetector(cfg)\n",
    "neighChannels = nnd.config.neighChannels\n",
    "geom = nnd.config.geom\n",
    "nneigh = np.max(np.sum(neighChannels, 0))\n",
    "C = neighChannels.shape[0]\n",
    "c_idx = np.ones((C, nneigh), 'int32')*C\n",
    "for c in range(C):\n",
    "    ch_idx, temp = order_channels_by_distance(c,np.where(neighChannels[c])[0],geom)\n",
    "    c_idx[c,:ch_idx.shape[0]] = ch_idx"
   ]
  },
  {
   "cell_type": "code",
   "execution_count": null,
   "metadata": {
    "collapsed": true
   },
   "outputs": [],
   "source": [
    "def make_subset2(X,y,c_idx):\n",
    "    ndata, T, C = X.shape\n",
    "    nneigh = c_idx.shape[1]\n",
    "\n",
    "    X_zero_added = np.concatenate( (X, np.zeros((ndata,T,1)) ), axis= 2)\n",
    "    y_zero_added = np.concatenate( (y, np.zeros((ndata,T,1)) ), axis= 2)\n",
    "\n",
    "    X_output = np.zeros( (ndata*5, T, nneigh))\n",
    "    y_output = np.zeros( (ndata*5, T))\n",
    "\n",
    "    count = 0\n",
    "    for j in range(ndata):\n",
    "        nspikes = np.sum(y[j])\n",
    "        if nspikes > 0:\n",
    "            idx_loc = np.unique(np.where(y[j])[1])\n",
    "        else:\n",
    "            idx_loc = np.random.choice(C, 5, replace=False)\n",
    "\n",
    "        for c in range( np.min( (idx_loc.shape[0],5) ) ):\n",
    "            X_output[count] = X_zero_added[j][:,c_idx[idx_loc[c]]][:,np.random.choice(nneigh, nneigh, replace=False)]\n",
    "            y_output[count] = np.sum(y_zero_added[j][:,c_idx[idx_loc[c]]],axis=1) > 0\n",
    "            count += 1\n",
    "\n",
    "    X_output = X_output[:count]\n",
    "    y_output = y_output[:count]\n",
    "    \n",
    "    return X_output, y_output"
   ]
  },
  {
   "cell_type": "code",
   "execution_count": null,
   "metadata": {
    "collapsed": true
   },
   "outputs": [],
   "source": [
    "import scipy.io\n",
    "wf_test = scipy.io.loadmat('/ssd/data/peter/YASS/test/wf_test.mat')['wf_test']"
   ]
  },
  {
   "cell_type": "code",
   "execution_count": null,
   "metadata": {
    "collapsed": true
   },
   "outputs": [],
   "source": [
    "ndata, T, C = x_train.shape\n",
    "R1 = 31\n",
    "R2 = 5\n",
    "nneigh = 7\n",
    "ncells = [32, 64, 128]\n",
    "\n",
    "nbatch = 512\n",
    "niter = 15000\n",
    "\n",
    "# Ndata, Time, Channels (7)    \n",
    "x_tf = tf.placeholder(\"float\", [None, None, None])\n",
    "y_tf = tf.placeholder(\"float\", [None, None])\n",
    "\n",
    "W1 = nnd.weight_variable([R1,1,1,ncells[0]])\n",
    "b1 = nnd.bias_variable([ncells[0]])\n",
    "layer1 = tf.nn.relu(tf.nn.conv2d(tf.expand_dims(x_tf,-1), W1, strides=[1,1,1,1], padding='SAME')+b1)\n",
    "\n",
    "W2 = nnd.weight_variable([1,nneigh,ncells[0],ncells[1]])\n",
    "b2 = nnd.bias_variable([ncells[1]])\n",
    "layer2 = tf.nn.relu(tf.nn.conv2d(layer1, W2, strides=[1,1,1,1], padding='VALID')+b2)\n",
    "\n",
    "W3 = nnd.weight_variable([1,1,ncells[1],ncells[2]])\n",
    "b3 = nnd.bias_variable([ncells[2]])\n",
    "layer3 = tf.nn.relu(tf.nn.conv2d(layer2, W3, strides=[1,1,1,1], padding='SAME')+b3)\n",
    "\n",
    "W4 = nnd.weight_variable([R2,1,ncells[2],1])\n",
    "b4 = nnd.bias_variable([1])\n",
    "o_layer = tf.squeeze(tf.nn.conv2d(layer3, W4, strides=[1,1,1,1], padding='SAME')+b4)\n",
    "\n",
    "tf_prob = tf.sigmoid(o_layer)\n",
    "\n",
    "\n",
    "cross_entropy = tf.reduce_mean(tf.nn.sigmoid_cross_entropy_with_logits(logits=o_layer, labels=y_tf))\n",
    "TrainStepSize = nnd.config.neural_network['nnTrainStepSize']\n",
    "TrainStepSize = 0.001\n",
    "#train_step = tf.train.AdamOptimizer(TrainStepSize).minimize(cross_entropy)\n",
    "weights = tf.trainable_variables()\n",
    "l2_penalty = nnd.config.neural_network['nnL2RegScale']\n",
    "l2_regularizer = tf.contrib.layers.l2_regularizer(\n",
    "            scale=l2_penalty)\n",
    "regularization_penalty = tf.contrib.layers.apply_regularization(l2_regularizer, weights)\n",
    "regularized_loss = cross_entropy + regularization_penalty\n",
    "train_step = tf.train.AdamOptimizer(TrainStepSize).minimize(regularized_loss)\n",
    "\n",
    "saver_triagenet = tf.train.Saver({\"W1\": W1,\"W2\": W2,\"W3\": W3,\"W4\": W4,\"b1\": b1,\"b2\": b2,\"b3\": b3,\"b4\": b4})"
   ]
  },
  {
   "cell_type": "code",
   "execution_count": null,
   "metadata": {
    "collapsed": true,
    "scrolled": true
   },
   "outputs": [],
   "source": [
    "bar = progressbar.ProgressBar(maxval=niter)\n",
    "with tf.Session() as sess:\n",
    "    init_op = tf.global_variables_initializer()\n",
    "    sess.run(init_op)\n",
    "\n",
    "    for i in range(0, niter):\n",
    "        idx_batch = np.random.choice(ndata, nbatch, replace=False)\n",
    "        \n",
    "        x_output, y_output = (x_train[idx_batch], y_train[idx_batch])\n",
    "        \n",
    "        if np.mod(i, 500) == 0:\n",
    "            pp = sess.run(tf_prob, feed_dict={x_tf: x_output})\n",
    "            ll = sess.run(cross_entropy, feed_dict={x_tf: x_output, y_tf: y_output})\n",
    "            rl = sess.run(regularization_penalty, feed_dict={x_tf: x_output, y_tf: y_output})\n",
    "            print(ll,rl)\n",
    "            idx_pos = (y_output).astype('bool')\n",
    "            print(np.mean(pp[idx_pos] > 0.1),np.sum(pp[~idx_pos] > 0.1))\n",
    "            pp_test = sess.run(tf_prob, feed_dict={x_tf: wf_test})\n",
    "            print(np.mean(np.max(pp_test,axis=1) > 0.1))\n",
    "            saver_triagenet.save(sess, os.path.join(nnd.config.root, 'detectnet6.ckpt'))\n",
    "\n",
    "        sess.run(train_step, feed_dict={x_tf: x_output, y_tf: y_output})                \n",
    "        bar.update(i+1)\n",
    "    saver_triagenet.save(sess, os.path.join(nnd.config.root, 'detectnet6.ckpt'))\n",
    "    bar.finish()"
   ]
  },
  {
   "cell_type": "markdown",
   "metadata": {},
   "source": [
    "Test on real dataset"
   ]
  },
  {
   "cell_type": "code",
   "execution_count": null,
   "metadata": {
    "collapsed": true
   },
   "outputs": [],
   "source": [
    "import numpy as np\n",
    "from yass.configuration import Configs\n",
    "from yass.preprocessing import Preprocessor\n",
    "from yass.neuralnet import NeuralNetDetector\n",
    "from yass.mainprocess import Mainprocessor\n",
    "from yass.deconvolution import Deconvolution"
   ]
  },
  {
   "cell_type": "code",
   "execution_count": null,
   "metadata": {
    "collapsed": true
   },
   "outputs": [],
   "source": [
    "cfg = Configs('configuration.yaml')"
   ]
  },
  {
   "cell_type": "code",
   "execution_count": null,
   "metadata": {
    "collapsed": true
   },
   "outputs": [],
   "source": [
    "cfg.filename = 'ej49_data2_set1.bin'\n",
    "cfg.geomFile =  'ej49_geometry2.txt'"
   ]
  },
  {
   "cell_type": "code",
   "execution_count": null,
   "metadata": {
    "collapsed": true
   },
   "outputs": [],
   "source": [
    "pp = Preprocessor(cfg)\n",
    "from yass.preprocess.filter import butterworth\n",
    "pp.openFile()\n",
    "rec = pp.load(0,pp.config.batch_size)\n",
    "rec = butterworth(rec, pp.config.filterLow,\n",
    "                          pp.config.filterHighFactor,\n",
    "                          pp.config.filterOrder,\n",
    "                          pp.config.srate)\n",
    "small_t = np.min((int(pp.config.srate*5), rec.shape[0]))\n",
    "mid_T = int(np.ceil(rec.shape[0]/2))\n",
    "rec_temp = rec[np.arange(mid_T-small_t, mid_T+small_t)]\n",
    "sd = np.median(np.abs(rec), 0)/0.6745\n",
    "rec = np.divide(rec,sd)"
   ]
  },
  {
   "cell_type": "code",
   "execution_count": null,
   "metadata": {
    "collapsed": true
   },
   "outputs": [],
   "source": [
    "import scipy.io\n",
    "kk = scipy.io.loadmat('/ssd/data/peter/ej49_dataset/groundtruth_ej49_data2_set1.mat')\n",
    "L_gt = kk['L_gt']\n",
    "spt_gt = kk['spt_gt']\n",
    "K = np.max(L_gt)\n",
    "R = 15\n",
    "templates_gt = np.zeros((np.max(L_gt),2*R+1,49))\n",
    "for k in range(K):\n",
    "    spt_test = spt_gt[L_gt==(k+1)] + 15\n",
    "    spt_test = spt_test[np.logical_and(spt_test>R,spt_test<5*60*20000-R)]\n",
    "    nn = spt_test.shape[0]\n",
    "    wf = np.zeros((nn,2*R+1, 49))\n",
    "    for j in range(nn):\n",
    "        wf[j] = rec[(spt_test[j]-R):(spt_test[j]+R+1)]\n",
    "    templates_gt[k] = np.mean(wf,axis=0)\n",
    "\n",
    "amps = np.max(templates_gt,axis=1)\n",
    "mainc = np.argmax(amps,axis=1)\n",
    "max_amps = np.max(amps,axis=1)\n",
    "mainchannels = amps > max_amps[:,np.newaxis]*0.5"
   ]
  },
  {
   "cell_type": "code",
   "execution_count": null,
   "metadata": {
    "collapsed": true
   },
   "outputs": [],
   "source": [
    "cfg.neural_network['nnFilename'] = 'detectnet6.ckpt'\n",
    "cfg.neural_network['nnNFilters'] = [16, 32, 64]\n",
    "cfg.neural_network['nnFilterSize'] = [31, 1, 5]  \n",
    "cfg.nnThreshdold =  0.5"
   ]
  },
  {
   "cell_type": "code",
   "execution_count": null,
   "metadata": {
    "collapsed": true,
    "scrolled": true
   },
   "outputs": [],
   "source": [
    "pp = Preprocessor(cfg)\n",
    "score, clr_idx, spt = pp.process()"
   ]
  },
  {
   "cell_type": "code",
   "execution_count": null,
   "metadata": {
    "collapsed": true
   },
   "outputs": [],
   "source": [
    "R = 20\n",
    "captured2 = np.zeros(K)\n",
    "missed_spt = list()\n",
    "captured_spt = list()\n",
    "for k in range(K):\n",
    "    spt_test = spt_gt[L_gt==(k+1)] + 15\n",
    "    spt_test = spt_test[np.logical_and(spt_test>30,spt_test<5*60*20000-30)]\n",
    "    nn = spt_test.shape[0]\n",
    "    ch_idx = np.where(mainchannels[k])[0]\n",
    "    spt_est = np.zeros(0)\n",
    "    for j in range(ch_idx.shape[0]):\n",
    "        spt_est = np.concatenate((spt_est,spt[ch_idx[j]][:,0]-pp.config.BUFF))\n",
    "    \n",
    "    captured_k = np.zeros(spt_test.shape[0],'bool')\n",
    "    for j in range(spt_test.shape[0]):\n",
    "        captured_k[j] = np.min(np.abs(spt_est - spt_test[j])) < R\n",
    "    \n",
    "    missed_spt.append(spt_test[~captured_k])\n",
    "    captured_spt.append(spt_test[captured_k])\n",
    "    captured2[k] = np.mean(captured_k)\n",
    "np.sum(captured2>0.9)"
   ]
  },
  {
   "cell_type": "code",
   "execution_count": null,
   "metadata": {
    "collapsed": true
   },
   "outputs": [],
   "source": [
    "captured2"
   ]
  },
  {
   "cell_type": "code",
   "execution_count": null,
   "metadata": {
    "collapsed": true
   },
   "outputs": [],
   "source": []
  },
  {
   "cell_type": "code",
   "execution_count": null,
   "metadata": {
    "collapsed": true
   },
   "outputs": [],
   "source": [
    "scipy.io.savemat('/ssd/data/peter/YASS/test/wf_test.mat',{'wf_test':wf_test})"
   ]
  },
  {
   "cell_type": "code",
   "execution_count": null,
   "metadata": {
    "collapsed": true
   },
   "outputs": [],
   "source": [
    "ks = np.array([3, 17, 18])\n",
    "wf_test = np.zeros((0,2*spikeSize+1,7))\n",
    "for k in range(ks.shape[0]):\n",
    "    spt_test = missed_spt[ks[k]]\n",
    "    nn = spt_test.shape[0]\n",
    "    wf_missed = np.zeros((nn,2*spikeSize+1,49))\n",
    "    for j in range(nn):\n",
    "        wf_missed[j] = rec[(spt_test[j]-spikeSize):(spt_test[j]+spikeSize+1)]\n",
    "    \n",
    "    ch_idx = np.where(cfg.neighChannels[mainc[k]])[0]\n",
    "    ch_idx, temp = order_channels_by_distance(mainc[k],ch_idx,cfg.geom)\n",
    "    wf_missed = wf_missed[:,:,ch_idx]\n",
    "    if ch_idx.shape[0] < 7:\n",
    "        wf_test = np.concatenate( (wf_test,np.concatenate( (wf_missed,np.zeros((nn,2*spikeSize+1,7-ch_idx.shape[0]))), axis=2)), axis = 0)"
   ]
  },
  {
   "cell_type": "code",
   "execution_count": null,
   "metadata": {
    "collapsed": true
   },
   "outputs": [],
   "source": []
  },
  {
   "cell_type": "code",
   "execution_count": null,
   "metadata": {
    "collapsed": true,
    "scrolled": true
   },
   "outputs": [],
   "source": [
    "spikeSize = 40\n",
    "k = 18\n",
    "spt_test = missed_spt[k]\n",
    "nn = spt_test.shape[0]\n",
    "wf_missed = np.zeros((nn,2*spikeSize+1,49))\n",
    "for j in range(nn):\n",
    "    wf_missed[j] = rec[(spt_test[j]-spikeSize):(spt_test[j]+spikeSize+1)]\n",
    "\n",
    "spt_test = captured_spt[k]\n",
    "nn = spt_test.shape[0]\n",
    "wf_captured = np.zeros((nn,2*spikeSize+1,49))\n",
    "for j in range(nn):\n",
    "    wf_captured[j] = rec[(spt_test[j]-spikeSize):(spt_test[j]+spikeSize+1)]\n",
    "\n",
    "\n",
    "print(max_amps[k], captured2[k])\n",
    "ch_idx = np.where(cfg.neighChannels[mainc[k]])[0]\n",
    "for j in range(ch_idx.shape[0]):  \n",
    "    plt.subplot(1,2,1)\n",
    "    plt.plot(wf_missed[:,:,ch_idx[j]].T)\n",
    "    plt.subplot(1,2,2)\n",
    "    plt.plot(wf_captured[:,:,ch_idx[j]].T)\n",
    "    plt.show()"
   ]
  },
  {
   "cell_type": "code",
   "execution_count": null,
   "metadata": {
    "collapsed": true
   },
   "outputs": [],
   "source": []
  }
 ],
 "metadata": {
  "kernelspec": {
   "display_name": "Python 2",
   "language": "python",
   "name": "python2"
  },
  "language_info": {
   "codemirror_mode": {
    "name": "ipython",
    "version": 2
   },
   "file_extension": ".py",
   "mimetype": "text/x-python",
   "name": "python",
   "nbconvert_exporter": "python",
   "pygments_lexer": "ipython2",
   "version": "2.7.13"
  }
 },
 "nbformat": 4,
 "nbformat_minor": 1
}
