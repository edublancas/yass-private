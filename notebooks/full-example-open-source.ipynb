{
 "cells": [
  {
   "cell_type": "code",
   "execution_count": 1,
   "metadata": {},
   "outputs": [],
   "source": [
    "%load_ext autoreload\n",
    "%autoreload 2"
   ]
  },
  {
   "cell_type": "code",
   "execution_count": 2,
   "metadata": {},
   "outputs": [],
   "source": [
    "import logging\n",
    "\n",
    "import matplotlib.pyplot as plt\n",
    "import numpy as np\n",
    "\n",
    "import yass\n",
    "from yass import preprocess\n",
    "from yass import process\n",
    "from yass import deconvolution"
   ]
  },
  {
   "cell_type": "code",
   "execution_count": 3,
   "metadata": {},
   "outputs": [],
   "source": [
    "# configure logging module to get useful information\n",
    "logging.basicConfig(level=logging.INFO)\n",
    "\n",
    "# set yass configuration parameters\n",
    "yass.set_config('../config/nnet100k.yaml')"
   ]
  },
  {
   "cell_type": "markdown",
   "metadata": {},
   "source": [
    "# Preprocessor"
   ]
  },
  {
   "cell_type": "code",
   "execution_count": 4,
   "metadata": {
    "scrolled": true
   },
   "outputs": [
    {
     "name": "stderr",
     "output_type": "stream",
     "text": [
      "INFO:yass.batch.batch:Number of batches: 1. Batch size: 100000 (observations  per channel. Residual: 0. Total number of observations 100000\n",
      "INFO:yass.preprocess.run:Initialized butterworth batch processor: BatchProcessor for file /users/Edu/data/yass/sample_100k.bin (1400000 bytes). Already processed 0 out of 1 batches. Max memory: 1000000000 bytes\n",
      "INFO:yass.batch.batch:Number of batches: 1. Batch size: 100000 (observations  per channel. Residual: 0. Total number of observations 100000\n",
      "INFO:yass.batch.batch:Number of batches: 1. Batch size: 100000 (observations  per channel. Residual: 0. Total number of observations 100000\n",
      "INFO:yass.preprocess.run:Initialized standarization batch processor: BatchProcessor for file /users/Edu/data/yass/tmp/filtered.bin (5600000 bytes). Already processed 0 out of 1 batches. Max memory: 1000000000 bytes\n",
      "INFO:yass.batch.batch:Number of batches: 1. Batch size: 100000 (observations  per channel. Residual: 0. Total number of observations 100000\n",
      "INFO:yass.preprocess.run:Initialized preprocess batch processor: BatchProcessor for file /users/Edu/data/yass/tmp/standarized.bin (5600000 bytes). Already processed 0 out of 1 batches. Max memory: 1000000000 bytes\n"
     ]
    },
    {
     "name": "stdout",
     "output_type": "stream",
     "text": [
      "INFO:tensorflow:Restoring parameters from /users/Edu/data/yass/ae_31.ckpt\n"
     ]
    },
    {
     "name": "stderr",
     "output_type": "stream",
     "text": [
      "INFO:tensorflow:Restoring parameters from /users/Edu/data/yass/ae_31.ckpt\n"
     ]
    },
    {
     "name": "stdout",
     "output_type": "stream",
     "text": [
      "INFO:tensorflow:Restoring parameters from /users/Edu/data/yass/detectnet1.ckpt\n"
     ]
    },
    {
     "name": "stderr",
     "output_type": "stream",
     "text": [
      "INFO:tensorflow:Restoring parameters from /users/Edu/data/yass/detectnet1.ckpt\n"
     ]
    },
    {
     "name": "stdout",
     "output_type": "stream",
     "text": [
      "INFO:tensorflow:Restoring parameters from /users/Edu/data/yass/ae_31.ckpt\n"
     ]
    },
    {
     "name": "stderr",
     "output_type": "stream",
     "text": [
      "INFO:tensorflow:Restoring parameters from /users/Edu/data/yass/ae_31.ckpt\n"
     ]
    },
    {
     "name": "stdout",
     "output_type": "stream",
     "text": [
      "INFO:tensorflow:Restoring parameters from /users/Edu/data/yass/triagenet1.ckpt\n"
     ]
    },
    {
     "name": "stderr",
     "output_type": "stream",
     "text": [
      "INFO:tensorflow:Restoring parameters from /users/Edu/data/yass/triagenet1.ckpt\n"
     ]
    },
    {
     "name": "stdout",
     "output_type": "stream",
     "text": [
      "INFO:tensorflow:Restoring parameters from /users/Edu/data/yass/triagenet1.ckpt\n"
     ]
    },
    {
     "name": "stderr",
     "output_type": "stream",
     "text": [
      "INFO:tensorflow:Restoring parameters from /users/Edu/data/yass/triagenet1.ckpt\n"
     ]
    },
    {
     "name": "stdout",
     "output_type": "stream",
     "text": [
      "INFO:tensorflow:Restoring parameters from /users/Edu/data/yass/triagenet1.ckpt\n"
     ]
    },
    {
     "name": "stderr",
     "output_type": "stream",
     "text": [
      "INFO:tensorflow:Restoring parameters from /users/Edu/data/yass/triagenet1.ckpt\n"
     ]
    },
    {
     "name": "stdout",
     "output_type": "stream",
     "text": [
      "INFO:tensorflow:Restoring parameters from /users/Edu/data/yass/triagenet1.ckpt\n"
     ]
    },
    {
     "name": "stderr",
     "output_type": "stream",
     "text": [
      "INFO:tensorflow:Restoring parameters from /users/Edu/data/yass/triagenet1.ckpt\n"
     ]
    },
    {
     "name": "stdout",
     "output_type": "stream",
     "text": [
      "INFO:tensorflow:Restoring parameters from /users/Edu/data/yass/triagenet1.ckpt\n"
     ]
    },
    {
     "name": "stderr",
     "output_type": "stream",
     "text": [
      "INFO:tensorflow:Restoring parameters from /users/Edu/data/yass/triagenet1.ckpt\n"
     ]
    },
    {
     "name": "stdout",
     "output_type": "stream",
     "text": [
      "INFO:tensorflow:Restoring parameters from /users/Edu/data/yass/triagenet1.ckpt\n"
     ]
    },
    {
     "name": "stderr",
     "output_type": "stream",
     "text": [
      "INFO:tensorflow:Restoring parameters from /users/Edu/data/yass/triagenet1.ckpt\n"
     ]
    },
    {
     "name": "stdout",
     "output_type": "stream",
     "text": [
      "INFO:tensorflow:Restoring parameters from /users/Edu/data/yass/triagenet1.ckpt\n"
     ]
    },
    {
     "name": "stderr",
     "output_type": "stream",
     "text": [
      "INFO:tensorflow:Restoring parameters from /users/Edu/data/yass/triagenet1.ckpt\n",
      "INFO:yass.preprocess.run:Preprocessing done in 2 seconds.\n",
      "INFO:yass.preprocess.run:\treading data:\t0 seconds\n",
      "INFO:yass.preprocess.run:\tfiltering:\t0 seconds\n",
      "INFO:yass.preprocess.run:\tstandardization:\t0 seconds\n",
      "INFO:yass.preprocess.run:\tdetection:\t1.169756 seconds\n",
      "INFO:yass.preprocess.run:\twhitening:\t0.018186 seconds\n",
      "INFO:yass.preprocess.run:\tsaving recording:\t0.002257 seconds\n",
      "INFO:yass.preprocess.run:\tgetting waveforms:\t0.802654 seconds\n"
     ]
    }
   ],
   "source": [
    "# run preprocessor\n",
    "score, clr_idx, spt = preprocess.run()"
   ]
  },
  {
   "cell_type": "code",
   "execution_count": 5,
   "metadata": {},
   "outputs": [
    {
     "data": {
      "text/plain": [
       "7"
      ]
     },
     "execution_count": 5,
     "metadata": {},
     "output_type": "execute_result"
    }
   ],
   "source": [
    "len(score)"
   ]
  },
  {
   "cell_type": "code",
   "execution_count": 6,
   "metadata": {},
   "outputs": [
    {
     "data": {
      "text/plain": [
       "(24, 3, 7)"
      ]
     },
     "execution_count": 6,
     "metadata": {},
     "output_type": "execute_result"
    }
   ],
   "source": [
    "score[0].shape"
   ]
  },
  {
   "cell_type": "code",
   "execution_count": 7,
   "metadata": {},
   "outputs": [
    {
     "data": {
      "text/plain": [
       "array([[[  2.12516378,   6.49560078,   0.03912137,   1.84174519,\n",
       "           0.26052048,  -1.13213871,  -0.73797652],\n",
       "        [  2.8225692 ,  -0.21323244,  -2.26516002,   1.30797597,\n",
       "          -2.1469118 ,   2.92537192,   0.31439169],\n",
       "        [  8.21978387,   0.40392378,   3.80732387,  -0.58009342,\n",
       "           4.77968914,   2.2307871 ,  -0.52612647]],\n",
       "\n",
       "       [[ -1.90976469,  -1.4590097 ,  -0.60051599,   0.55297806,\n",
       "          -2.43148874,  -2.56307796,   0.83960869],\n",
       "        [  6.82840736,  -0.52139048,  -0.67981387,  -0.48588003,\n",
       "          -0.45237832,  -1.48731292,   0.25520471],\n",
       "        [ 13.83891079,  -0.91271949,   0.18715997,  -1.04290219,\n",
       "           3.56932953,  -1.2146041 ,  -1.37132214]],\n",
       "\n",
       "       [[ -1.46332119,  -1.97585361,   0.47494556,  -0.20519677,\n",
       "           0.22794376,   3.86599967,  -0.13060029],\n",
       "        [  3.16656985,  -1.47383773,  -1.04128221,   0.10063019,\n",
       "          -0.94562682,   8.77413999,   0.15417064],\n",
       "        [ 13.94479422,  -2.75082615,  -3.97680213,  -2.16350508,\n",
       "          -0.45230923,  -1.58792603,   2.31090834]],\n",
       "\n",
       "       [[ -1.11209103,  -1.00851968,   0.75932184,  -2.4388602 ,\n",
       "           0.62679287,   3.56058386,   1.2825079 ],\n",
       "        [  3.88762125,  -0.23603367,  -0.84305299,   1.10206719,\n",
       "          -1.88104137,   8.64809656,   0.89074917],\n",
       "        [ 11.62185657,  -2.47386659,   1.96417355,  -0.10635516,\n",
       "           2.59313639,  -4.27368276,   0.8956108 ]],\n",
       "\n",
       "       [[ -4.69640034,   3.1953357 ,   0.67069696,   0.81170529,\n",
       "          -1.38914865,   3.01746   ,   1.47128146],\n",
       "        [  4.74945478,   0.20463863,  -1.05619364,  -0.34838039,\n",
       "           1.55460888,  -2.08357541,   3.37202539],\n",
       "        [ 12.78776741,  -2.83632289,  -0.29579064,   1.88143664,\n",
       "           0.19261856,  -7.40255391,  -4.1936171 ]],\n",
       "\n",
       "       [[  0.79089627,   3.73894477,   0.12831554,   2.20869941,\n",
       "           0.78789725,  -0.52742983,  -0.33345675],\n",
       "        [  1.75038749,   4.03609979,  -2.05700387,   2.9870629 ,\n",
       "           0.75692749,   0.41811577,  -0.7110397 ],\n",
       "        [  7.08160979,   2.58380199,   4.56469461,   2.7579302 ,\n",
       "          -0.24427224,   0.85134602,   0.02703626]],\n",
       "\n",
       "       [[ -2.23759581,  -5.35426411,   0.18966486,  -0.27229049,\n",
       "          -0.49446998,  -0.13883156,  -2.63799911],\n",
       "        [  8.49316924,   4.67190492,   1.46220389,   1.96782573,\n",
       "           1.50378821,   3.26237648,   1.58508344],\n",
       "        [ 10.45941339,  11.53451726,  -1.50844976,  -1.04778295,\n",
       "          -3.88177904,   3.58963214,  -1.52663108]],\n",
       "\n",
       "       [[  0.65703796,  -2.46347978,   0.93078736,  -1.21111899,\n",
       "          -0.97478134,   0.70817151,   0.86142436],\n",
       "        [  2.98023778,   0.51649763,   0.3493426 ,   1.25941727,\n",
       "           1.17215767,   7.05059882,   0.69204346],\n",
       "        [ 10.14905369,   0.21839145,   0.31205214,  -0.03259139,\n",
       "          -1.01268737,  -3.69768029,  -0.41155882]],\n",
       "\n",
       "       [[ -3.27030918,  -1.3618326 ,   1.07172178,   3.00962345,\n",
       "           4.29705083,   5.30482933,   0.41304661],\n",
       "        [  1.91616052,  -1.75471115,  -0.56111752,   0.09102835,\n",
       "           1.00636759,   9.57826443,   3.89878204],\n",
       "        [ 12.35414991,  -4.10952812,   0.76559633,   2.19911923,\n",
       "          -1.00717774,  -0.725649  ,   6.10600227]],\n",
       "\n",
       "       [[ -3.14437197,  -0.39878933,   1.68187685,  -1.84508211,\n",
       "           1.4799836 ,  -0.80663625,   1.69947543],\n",
       "        [  4.2488634 ,   0.1602523 ,  -1.5443709 ,  -0.83176627,\n",
       "           0.61552833,   0.47394528,   0.20343504],\n",
       "        [ 14.63302134,  -1.83959673,   1.78735235,  -0.14044332,\n",
       "           3.51220116,  -3.31161669,  -0.58299821]]])"
      ]
     },
     "execution_count": 7,
     "metadata": {},
     "output_type": "execute_result"
    }
   ],
   "source": [
    "score[0][:10]"
   ]
  },
  {
   "cell_type": "code",
   "execution_count": 8,
   "metadata": {},
   "outputs": [
    {
     "data": {
      "text/plain": [
       "7"
      ]
     },
     "execution_count": 8,
     "metadata": {},
     "output_type": "execute_result"
    }
   ],
   "source": [
    "len(clr_idx)"
   ]
  },
  {
   "cell_type": "code",
   "execution_count": 9,
   "metadata": {},
   "outputs": [
    {
     "data": {
      "text/plain": [
       "(24,)"
      ]
     },
     "execution_count": 9,
     "metadata": {},
     "output_type": "execute_result"
    }
   ],
   "source": [
    "clr_idx[0].shape"
   ]
  },
  {
   "cell_type": "code",
   "execution_count": 10,
   "metadata": {},
   "outputs": [
    {
     "data": {
      "text/plain": [
       "array([ 15,  24,  29,  31,  39,  64, 104, 105, 110, 111, 119, 123, 144,\n",
       "       158, 163, 175, 177, 182, 222, 252, 265, 290, 305, 307])"
      ]
     },
     "execution_count": 10,
     "metadata": {},
     "output_type": "execute_result"
    }
   ],
   "source": [
    "clr_idx[0]"
   ]
  },
  {
   "cell_type": "code",
   "execution_count": 11,
   "metadata": {},
   "outputs": [
    {
     "data": {
      "text/plain": [
       "7"
      ]
     },
     "execution_count": 11,
     "metadata": {},
     "output_type": "execute_result"
    }
   ],
   "source": [
    "len(spt)"
   ]
  },
  {
   "cell_type": "code",
   "execution_count": 12,
   "metadata": {},
   "outputs": [
    {
     "data": {
      "text/plain": [
       "(309, 2)"
      ]
     },
     "execution_count": 12,
     "metadata": {},
     "output_type": "execute_result"
    }
   ],
   "source": [
    "spt[0].shape"
   ]
  },
  {
   "cell_type": "code",
   "execution_count": 13,
   "metadata": {},
   "outputs": [
    {
     "data": {
      "text/plain": [
       "array([0, 0, 0, 0, 0, 0, 0, 0, 0, 0, 0, 0, 0, 0, 0, 0, 0, 0, 0, 0, 0, 0, 0,\n",
       "       0, 0, 0, 0, 0, 0, 0, 0, 0, 0, 0, 0, 0, 0, 0, 0, 0, 0, 0, 0, 0, 0, 0,\n",
       "       0, 0, 0, 0, 0, 0, 0, 0, 0, 0, 0, 0, 0, 0, 0, 0, 0, 0, 0, 0, 0, 0, 0,\n",
       "       0, 0, 0, 0, 0, 0, 0, 0, 0, 0, 0, 0, 0, 0, 0, 0, 0, 0, 0, 0, 0, 0, 0,\n",
       "       0, 0, 0, 0, 0, 0, 0, 0, 0, 0, 0, 0, 0, 0, 0, 0, 0, 0, 0, 0, 0, 0, 0,\n",
       "       0, 0, 0, 0, 0, 0, 0, 0, 0, 0, 0, 0, 0, 0, 0, 0, 0, 0, 0, 0, 0, 0, 0,\n",
       "       0, 0, 0, 0, 0, 0, 0, 0, 0, 0, 0, 0, 0, 0, 0, 0, 0, 0, 0, 0, 0, 0, 0,\n",
       "       0, 0, 0, 0, 0, 0, 0, 0, 0, 0, 0, 0, 0, 0, 0, 0, 0, 0, 0, 0, 0, 0, 0,\n",
       "       0, 0, 0, 0, 0, 0, 0, 0, 0, 0, 0, 0, 0, 0, 0, 0, 0, 0, 0, 0, 0, 0, 0,\n",
       "       0, 0, 0, 0, 0, 0, 0, 0, 0, 0, 0, 0, 0, 0, 0, 0, 0, 0, 0, 0, 0, 0, 0,\n",
       "       0, 0, 0, 0, 0, 0, 0, 0, 0, 0, 0, 0, 0, 0, 0, 0, 0, 0, 0, 0, 0, 0, 0,\n",
       "       0, 0, 0, 0, 0, 0, 0, 0, 0, 0, 0, 0, 0, 0, 0, 0, 0, 0, 0, 0, 0, 0, 0,\n",
       "       0, 0, 0, 0, 0, 0, 0, 0, 0, 0, 0, 0, 0, 0, 0, 0, 0, 0, 0, 0, 0, 0, 0,\n",
       "       0, 0, 0, 0, 0, 0, 0, 0, 0, 0, 0, 0, 0, 0, 0, 0, 0, 0, 0, 0, 0, 0, 0,\n",
       "       0, 0, 0, 0, 0, 0, 0, 0, 0, 0, 0, 0, 0, 0, 0, 0, 0, 0, 0, 0, 0, 0, 0,\n",
       "       0, 0, 0, 0, 0, 0, 0, 0, 0, 0, 0, 0, 0, 0, 0, 0, 0, 0, 0, 0, 0, 0, 0,\n",
       "       0, 0, 0, 0, 0, 0, 0, 0, 0, 0, 0, 0, 0, 0, 0, 0, 0, 0, 0, 0, 0, 0, 0,\n",
       "       0, 0, 0, 0, 0, 0, 0, 0, 0, 0, 0, 0, 0, 0, 0, 0, 0, 0, 0, 0, 0, 0, 0,\n",
       "       0, 0, 0, 0, 0, 0, 0, 0, 0, 0, 0, 0, 0, 0, 0, 0, 0, 0, 0, 0, 0, 0, 0,\n",
       "       0, 0, 0, 0, 0, 0, 0, 0, 0, 0, 0, 0, 0, 0, 0, 0, 0, 0, 0, 0, 0, 0, 0,\n",
       "       0, 0, 0, 0, 0, 0, 0, 0, 0, 0, 0, 0, 0, 0, 0, 0, 0, 0, 0, 0, 0, 0, 0,\n",
       "       0, 0, 0, 0, 0, 0, 0, 0, 0, 0, 0, 0, 0, 0, 0, 0, 0, 0, 0, 0, 0, 0, 0,\n",
       "       0, 0, 0, 0, 0, 0, 0, 0, 0, 0, 0, 0, 0, 0, 0, 0, 0, 0, 0, 0, 0, 0, 0,\n",
       "       0, 0, 0, 0, 0, 0, 0, 0, 0, 0, 0, 0, 0, 0, 0, 0, 0, 0, 0, 0, 0, 0, 0,\n",
       "       0, 0, 0, 0, 0, 0, 0, 0, 0, 0, 0, 0, 0, 0, 0, 0, 0, 0, 0, 0, 0, 0, 0,\n",
       "       0, 0, 0, 0, 0, 0, 0, 0, 0, 0, 0, 0, 0, 0, 0, 0, 0, 0, 0, 0, 0, 0, 0,\n",
       "       0, 0, 0, 0, 0, 0, 0, 0, 0, 0, 0, 0, 0, 0, 0, 0, 0, 0, 0, 0, 0, 0, 0,\n",
       "       0, 0, 0, 0, 0, 0, 0, 0, 0, 0, 0, 0, 0, 0, 0, 0, 0, 0, 0, 0, 0, 0, 0,\n",
       "       0, 0, 0, 0, 0, 0, 0, 0, 0, 0, 0, 0, 0, 0, 0, 0, 0, 0, 0, 0, 0, 0, 0,\n",
       "       0, 0, 0, 0, 0, 0, 0, 0, 0, 0, 0, 0, 0, 0, 0, 0, 0, 0, 0, 0, 0, 0, 0,\n",
       "       0, 0, 0, 0, 0, 0, 0, 0, 0, 0, 0, 0, 0, 0, 0, 0, 0, 0, 0, 0, 0, 0, 0,\n",
       "       0, 0, 0, 0, 0, 0, 0, 0, 0, 0, 0, 0, 0, 0, 0, 0, 0, 0, 0, 0, 0, 0, 0,\n",
       "       0, 0, 0, 0, 0, 0, 0, 0, 0, 0, 0, 0, 0, 0, 0, 0, 0, 0, 0, 0, 0, 0, 0,\n",
       "       0, 0, 0, 0, 0, 0, 0, 0, 0, 0, 0, 0, 0, 0, 0, 0, 0, 0, 0, 0, 0, 0, 0,\n",
       "       0, 0, 0, 0, 0, 0, 0, 0, 0, 0, 0, 0, 0, 0, 0, 0, 0, 0, 0, 0, 0, 0, 0,\n",
       "       0, 0, 0, 0, 0, 0, 0, 0, 0, 0, 0, 0, 0, 0, 0, 0, 0, 0, 0, 0, 0, 0, 0,\n",
       "       0, 0, 0, 0, 0, 0, 0, 0, 0, 0, 0, 0, 0, 0, 0, 0, 0, 0, 0, 0, 0, 0, 0,\n",
       "       0, 0, 0, 0, 0, 0, 0, 0, 0, 0, 0, 0, 0, 0, 0, 0, 0, 0, 0, 0, 0, 0, 0,\n",
       "       0, 0, 0, 0, 0, 0, 0, 0, 0, 0, 0, 0, 0, 0, 0, 0, 0, 0], dtype=int32)"
      ]
     },
     "execution_count": 13,
     "metadata": {},
     "output_type": "execute_result"
    }
   ],
   "source": [
    "spt[2][:,1]"
   ]
  },
  {
   "cell_type": "code",
   "execution_count": 14,
   "metadata": {},
   "outputs": [
    {
     "data": {
      "text/plain": [
       "[(24, 3, 7),\n",
       " (72, 3, 4),\n",
       " (14, 3, 4),\n",
       " (19, 3, 4),\n",
       " (140, 3, 4),\n",
       " (110, 3, 4),\n",
       " (164, 3, 4)]"
      ]
     },
     "execution_count": 14,
     "metadata": {},
     "output_type": "execute_result"
    }
   ],
   "source": [
    "[s.shape for s in score]"
   ]
  },
  {
   "cell_type": "code",
   "execution_count": 15,
   "metadata": {},
   "outputs": [
    {
     "data": {
      "text/plain": [
       "[(24,), (72,), (14,), (19,), (140,), (110,), (164,)]"
      ]
     },
     "execution_count": 15,
     "metadata": {},
     "output_type": "execute_result"
    }
   ],
   "source": [
    "[s.shape for s in clr_idx]"
   ]
  },
  {
   "cell_type": "code",
   "execution_count": 16,
   "metadata": {},
   "outputs": [
    {
     "data": {
      "text/plain": [
       "[(309, 2), (1445, 2), (892, 2), (943, 2), (1258, 2), (974, 2), (950, 2)]"
      ]
     },
     "execution_count": 16,
     "metadata": {},
     "output_type": "execute_result"
    }
   ],
   "source": [
    "[s.shape for s in spt]"
   ]
  },
  {
   "cell_type": "markdown",
   "metadata": {},
   "source": [
    "# Processor"
   ]
  },
  {
   "cell_type": "code",
   "execution_count": 31,
   "metadata": {},
   "outputs": [
    {
     "name": "stderr",
     "output_type": "stream",
     "text": [
      "INFO:yass.process.run:Triaging...\n",
      "INFO:yass.process.run:Coresettting...\n",
      "INFO:yass.process.run:Masking...\n",
      "INFO:yass.process.run:Clustering...\n",
      "100% (1 of 1) |###########################| Elapsed Time: 0:00:00 Time: 0:00:00\n",
      "INFO:yass.process.run:Getting Templates...\n",
      "100% (1 of 1) |###########################| Elapsed Time: 0:00:00 Time: 0:00:00\n",
      "INFO:yass.process.run:Mainprocess done in 0 seconds.\n",
      "INFO:yass.process.run:\ttriage:\t0.004989 seconds\n",
      "INFO:yass.process.run:\tcoreset:\t0.079783 seconds\n",
      "INFO:yass.process.run:\tmasking:\t0.005222 seconds\n",
      "INFO:yass.process.run:\tclustering:\t0.430745 seconds\n",
      "INFO:yass.process.run:\tmake templates:\t0.039326 seconds\n"
     ]
    }
   ],
   "source": [
    "# run processor\n",
    "spike_train, spt_left, templates = process.run(score, clr_idx, spt)"
   ]
  },
  {
   "cell_type": "code",
   "execution_count": 32,
   "metadata": {},
   "outputs": [
    {
     "data": {
      "text/plain": [
       "(437, 2)"
      ]
     },
     "execution_count": 32,
     "metadata": {},
     "output_type": "execute_result"
    }
   ],
   "source": [
    "spike_train.shape"
   ]
  },
  {
   "cell_type": "code",
   "execution_count": 33,
   "metadata": {},
   "outputs": [
    {
     "data": {
      "text/plain": [
       "array([[ 4717,     2],\n",
       "       [ 6862,     2],\n",
       "       [10162,     2],\n",
       "       [19078,     2],\n",
       "       [30308,     2],\n",
       "       [32365,     2],\n",
       "       [35180,     2],\n",
       "       [49427,     2],\n",
       "       [51948,     2],\n",
       "       [53113,     2],\n",
       "       [79221,     2],\n",
       "       [83737,     2],\n",
       "       [93739,     2],\n",
       "       [99171,     2],\n",
       "       [99419,     2],\n",
       "       [ 2191,     2],\n",
       "       [ 3541,     2],\n",
       "       [ 5088,     2],\n",
       "       [ 7753,     2],\n",
       "       [ 9114,     2],\n",
       "       [11762,     2],\n",
       "       [12650,     2],\n",
       "       [14617,     2],\n",
       "       [15366,     2],\n",
       "       [15451,     2],\n",
       "       [17288,     2],\n",
       "       [19298,     2],\n",
       "       [19898,     2],\n",
       "       [21572,     2],\n",
       "       [23402,     2],\n",
       "       [24199,     2],\n",
       "       [24676,     2],\n",
       "       [26583,     2],\n",
       "       [31099,     2],\n",
       "       [31595,     2],\n",
       "       [32245,     2],\n",
       "       [32564,     2],\n",
       "       [34369,     2],\n",
       "       [35911,     2],\n",
       "       [36374,     2],\n",
       "       [37960,     2],\n",
       "       [39385,     2],\n",
       "       [39680,     2],\n",
       "       [40111,     2],\n",
       "       [40604,     2],\n",
       "       [41735,     2],\n",
       "       [45910,     2],\n",
       "       [47011,     2],\n",
       "       [47183,     2],\n",
       "       [51293,     2],\n",
       "       [53538,     2],\n",
       "       [54235,     2],\n",
       "       [56270,     2],\n",
       "       [59374,     2],\n",
       "       [60422,     2],\n",
       "       [61576,     2],\n",
       "       [62731,     2],\n",
       "       [62775,     2],\n",
       "       [62917,     2],\n",
       "       [64300,     2],\n",
       "       [66741,     2],\n",
       "       [71145,     2],\n",
       "       [73563,     2],\n",
       "       [74792,     2],\n",
       "       [78427,     2],\n",
       "       [82001,     2],\n",
       "       [82678,     2],\n",
       "       [84036,     2],\n",
       "       [85179,     2],\n",
       "       [85742,     2],\n",
       "       [87152,     2],\n",
       "       [89902,     2],\n",
       "       [90305,     2],\n",
       "       [91326,     2],\n",
       "       [93406,     2],\n",
       "       [97920,     2],\n",
       "       [99848,     2],\n",
       "       [  853,     1],\n",
       "       [44595,     1],\n",
       "       [57685,     1],\n",
       "       [60622,     1],\n",
       "       [73801,     1],\n",
       "       [79375,     1],\n",
       "       [86576,     1],\n",
       "       [ 4151,     1],\n",
       "       [22975,     2],\n",
       "       [32236,     2],\n",
       "       [36194,     1],\n",
       "       [38324,     2],\n",
       "       [47798,     2],\n",
       "       [52346,     2],\n",
       "       [61146,     2],\n",
       "       [61825,     2],\n",
       "       [65298,     2],\n",
       "       [71697,     1],\n",
       "       [71757,     2],\n",
       "       [78796,     2],\n",
       "       [88849,     2],\n",
       "       [  514,     1],\n",
       "       [  561,     1],\n",
       "       [ 1571,     1],\n",
       "       [ 4092,     1],\n",
       "       [ 4318,     1],\n",
       "       [ 5271,     1],\n",
       "       [ 5671,     1],\n",
       "       [ 5771,     1],\n",
       "       [ 8831,     1],\n",
       "       [ 8936,     1],\n",
       "       [ 9089,     1],\n",
       "       [ 9271,     1],\n",
       "       [10500,     1],\n",
       "       [10819,     1],\n",
       "       [11470,     1],\n",
       "       [11696,     1],\n",
       "       [12378,     1],\n",
       "       [13593,     1],\n",
       "       [14736,     1],\n",
       "       [15086,     1],\n",
       "       [15282,     1],\n",
       "       [16432,     1],\n",
       "       [17534,     1],\n",
       "       [18118,     1],\n",
       "       [18394,     1],\n",
       "       [19123,     1],\n",
       "       [19492,     1],\n",
       "       [21438,     1],\n",
       "       [21556,     1],\n",
       "       [22291,     1],\n",
       "       [22477,     1],\n",
       "       [22859,     1],\n",
       "       [23142,     1],\n",
       "       [23811,     1],\n",
       "       [24536,     1],\n",
       "       [24626,     1],\n",
       "       [24774,     1],\n",
       "       [25144,     1],\n",
       "       [27211,     1],\n",
       "       [30095,     1],\n",
       "       [30187,     1],\n",
       "       [30480,     1],\n",
       "       [32636,     1],\n",
       "       [33168,     1],\n",
       "       [34897,     1],\n",
       "       [35415,     1],\n",
       "       [35506,     1],\n",
       "       [36120,     1],\n",
       "       [36308,     1],\n",
       "       [36580,     1],\n",
       "       [37560,     1],\n",
       "       [37608,     1],\n",
       "       [38691,     1],\n",
       "       [41788,     1],\n",
       "       [41823,     1],\n",
       "       [43239,     1],\n",
       "       [43625,     1],\n",
       "       [43870,     1],\n",
       "       [44631,     1],\n",
       "       [46494,     1],\n",
       "       [46999,     1],\n",
       "       [47452,     1],\n",
       "       [48763,     1],\n",
       "       [49036,     1],\n",
       "       [50135,     1],\n",
       "       [50184,     1],\n",
       "       [50605,     1],\n",
       "       [52650,     1],\n",
       "       [53302,     1],\n",
       "       [56389,     1],\n",
       "       [56610,     1],\n",
       "       [56982,     1],\n",
       "       [57266,     1],\n",
       "       [57763,     1],\n",
       "       [60993,     1],\n",
       "       [62452,     1],\n",
       "       [63751,     1],\n",
       "       [65051,     1],\n",
       "       [65929,     1],\n",
       "       [66476,     1],\n",
       "       [67430,     1],\n",
       "       [67627,     1],\n",
       "       [68435,     1],\n",
       "       [69756,     1],\n",
       "       [72600,     1],\n",
       "       [72974,     1],\n",
       "       [75498,     1],\n",
       "       [75654,     1],\n",
       "       [76608,     1],\n",
       "       [78590,     1],\n",
       "       [80425,     1],\n",
       "       [82812,     1],\n",
       "       [82904,     1],\n",
       "       [86227,     1],\n",
       "       [86602,     1],\n",
       "       [87455,     1],\n",
       "       [87989,     1],\n",
       "       [88628,     1],\n",
       "       [88728,     1],\n",
       "       [89458,     1],\n",
       "       [89879,     1],\n",
       "       [90098,     1],\n",
       "       [90536,     1],\n",
       "       [91424,     1],\n",
       "       [92743,     1],\n",
       "       [92958,     1],\n",
       "       [95637,     1],\n",
       "       [95794,     1],\n",
       "       [95868,     1],\n",
       "       [96870,     1],\n",
       "       [97705,     1],\n",
       "       [98015,     1],\n",
       "       [99526,     1],\n",
       "       [99657,     1],\n",
       "       [ 3502,     0],\n",
       "       [ 4346,     2],\n",
       "       [ 4527,     2],\n",
       "       [ 7106,     0],\n",
       "       [ 9376,     2],\n",
       "       [ 9713,     0],\n",
       "       [ 9861,     2],\n",
       "       [10848,     0],\n",
       "       [11421,     0],\n",
       "       [11719,     0],\n",
       "       [13936,     0],\n",
       "       [14372,     0],\n",
       "       [15838,     0],\n",
       "       [17795,     0],\n",
       "       [18089,     0],\n",
       "       [18266,     0],\n",
       "       [19216,     2],\n",
       "       [22050,     0],\n",
       "       [23865,     0],\n",
       "       [24739,     2],\n",
       "       [25016,     0],\n",
       "       [27041,     0],\n",
       "       [27276,     0],\n",
       "       [27517,     0],\n",
       "       [28416,     0],\n",
       "       [29199,     0],\n",
       "       [31233,     0],\n",
       "       [33091,     0],\n",
       "       [33557,     0],\n",
       "       [33830,     0],\n",
       "       [34405,     0],\n",
       "       [35007,     2],\n",
       "       [35374,     0],\n",
       "       [36590,     2],\n",
       "       [39225,     0],\n",
       "       [39493,     0],\n",
       "       [39811,     0],\n",
       "       [42042,     0],\n",
       "       [42478,     0],\n",
       "       [43336,     0],\n",
       "       [43500,     0],\n",
       "       [44825,     0],\n",
       "       [45417,     0],\n",
       "       [47984,     2],\n",
       "       [48318,     0],\n",
       "       [48548,     0],\n",
       "       [48854,     0],\n",
       "       [51005,     0],\n",
       "       [53278,     0],\n",
       "       [55130,     0],\n",
       "       [60569,     0],\n",
       "       [60780,     0],\n",
       "       [63071,     0],\n",
       "       [65437,     0],\n",
       "       [68105,     0],\n",
       "       [68708,     0],\n",
       "       [69539,     0],\n",
       "       [70262,     2],\n",
       "       [73263,     0],\n",
       "       [73664,     0],\n",
       "       [74736,     2],\n",
       "       [74886,     0],\n",
       "       [75149,     0],\n",
       "       [75595,     0],\n",
       "       [77088,     2],\n",
       "       [78225,     0],\n",
       "       [78640,     0],\n",
       "       [79445,     2],\n",
       "       [79528,     0],\n",
       "       [82593,     0],\n",
       "       [82749,     0],\n",
       "       [83553,     0],\n",
       "       [84581,     0],\n",
       "       [85464,     0],\n",
       "       [86214,     0],\n",
       "       [87314,     0],\n",
       "       [87710,     0],\n",
       "       [88112,     0],\n",
       "       [88260,     0],\n",
       "       [88707,     0],\n",
       "       [88992,     0],\n",
       "       [89486,     0],\n",
       "       [89781,     0],\n",
       "       [90073,     0],\n",
       "       [90847,     0],\n",
       "       [97109,     0],\n",
       "       [97581,     0],\n",
       "       [97750,     0],\n",
       "       [97841,     0],\n",
       "       [99384,     0],\n",
       "       [  157,     2],\n",
       "       [  400,     3],\n",
       "       [  963,     2],\n",
       "       [ 1743,     3],\n",
       "       [ 2069,     3],\n",
       "       [ 2260,     2],\n",
       "       [ 3072,     3],\n",
       "       [ 3783,     3],\n",
       "       [ 4445,     2],\n",
       "       [ 5735,     3],\n",
       "       [ 6171,     3],\n",
       "       [ 6459,     3],\n",
       "       [ 7881,     3],\n",
       "       [ 8037,     3],\n",
       "       [10398,     3],\n",
       "       [12269,     3],\n",
       "       [12784,     3],\n",
       "       [12926,     3],\n",
       "       [13080,     3],\n",
       "       [13807,     3],\n",
       "       [14504,     3],\n",
       "       [14650,     3],\n",
       "       [15222,     3],\n",
       "       [15419,     3],\n",
       "       [16267,     3],\n",
       "       [16458,     3],\n",
       "       [16600,     3],\n",
       "       [16885,     3],\n",
       "       [17053,     3],\n",
       "       [17830,     3],\n",
       "       [18014,     3],\n",
       "       [18189,     3],\n",
       "       [20414,     3],\n",
       "       [22131,     2],\n",
       "       [23996,     3],\n",
       "       [25448,     3],\n",
       "       [25571,     3],\n",
       "       [26357,     2],\n",
       "       [26478,     3],\n",
       "       [27984,     3],\n",
       "       [28628,     3],\n",
       "       [29861,     3],\n",
       "       [30228,     3],\n",
       "       [30342,     3],\n",
       "       [30979,     3],\n",
       "       [31067,     3],\n",
       "       [31157,     3],\n",
       "       [31548,     2],\n",
       "       [31690,     3],\n",
       "       [33372,     2],\n",
       "       [33911,     3],\n",
       "       [34193,     3],\n",
       "       [34311,     3],\n",
       "       [34586,     3],\n",
       "       [36187,     3],\n",
       "       [36358,     3],\n",
       "       [37025,     3],\n",
       "       [37109,     3],\n",
       "       [37333,     3],\n",
       "       [37699,     3],\n",
       "       [38184,     3],\n",
       "       [38424,     3],\n",
       "       [44518,     2],\n",
       "       [44931,     3],\n",
       "       [45226,     3],\n",
       "       [45764,     2],\n",
       "       [46116,     3],\n",
       "       [46322,     3],\n",
       "       [46615,     2],\n",
       "       [47632,     3],\n",
       "       [48467,     3],\n",
       "       [48987,     3],\n",
       "       [50641,     3],\n",
       "       [50920,     3],\n",
       "       [51411,     3],\n",
       "       [51594,     3],\n",
       "       [52297,     3],\n",
       "       [52552,     3],\n",
       "       [53395,     3],\n",
       "       [54381,     3],\n",
       "       [55613,     3],\n",
       "       [56132,     3],\n",
       "       [58457,     2],\n",
       "       [59101,     3],\n",
       "       [59284,     3],\n",
       "       [59685,     3],\n",
       "       [60520,     2],\n",
       "       [61330,     3],\n",
       "       [61471,     3],\n",
       "       [61663,     3],\n",
       "       [62009,     2],\n",
       "       [62123,     3],\n",
       "       [62249,     3],\n",
       "       [62508,     2],\n",
       "       [64114,     3],\n",
       "       [64189,     3],\n",
       "       [64704,     3],\n",
       "       [64861,     3],\n",
       "       [65186,     3],\n",
       "       [66241,     3],\n",
       "       [69939,     3],\n",
       "       [70473,     3],\n",
       "       [70566,     3],\n",
       "       [70758,     3],\n",
       "       [71891,     3],\n",
       "       [72349,     3],\n",
       "       [75294,     3],\n",
       "       [75756,     3],\n",
       "       [77384,     3],\n",
       "       [78083,     3],\n",
       "       [78400,     3],\n",
       "       [79631,     2],\n",
       "       [79933,     3],\n",
       "       [80094,     3],\n",
       "       [81154,     3],\n",
       "       [81443,     3],\n",
       "       [81541,     3],\n",
       "       [82323,     3],\n",
       "       [84092,     3],\n",
       "       [84248,     2],\n",
       "       [84300,     3],\n",
       "       [86893,     3],\n",
       "       [87088,     3],\n",
       "       [87805,     2],\n",
       "       [89207,     3],\n",
       "       [91151,     3],\n",
       "       [91947,     3],\n",
       "       [92094,     3],\n",
       "       [93955,     3],\n",
       "       [94452,     3],\n",
       "       [95835,     2],\n",
       "       [96655,     3],\n",
       "       [97424,     3],\n",
       "       [97617,     3],\n",
       "       [98208,     3]], dtype=int32)"
      ]
     },
     "execution_count": 33,
     "metadata": {},
     "output_type": "execute_result"
    }
   ],
   "source": [
    "spike_train"
   ]
  },
  {
   "cell_type": "code",
   "execution_count": 34,
   "metadata": {},
   "outputs": [
    {
     "data": {
      "text/plain": [
       "7"
      ]
     },
     "execution_count": 34,
     "metadata": {},
     "output_type": "execute_result"
    }
   ],
   "source": [
    "len(spt_left)"
   ]
  },
  {
   "cell_type": "code",
   "execution_count": 35,
   "metadata": {},
   "outputs": [
    {
     "data": {
      "text/plain": [
       "[(294, 2), (1383, 2), (885, 2), (929, 2), (1144, 2), (884, 2), (815, 2)]"
      ]
     },
     "execution_count": 35,
     "metadata": {},
     "output_type": "execute_result"
    }
   ],
   "source": [
    "[s.shape for s in spt_left]"
   ]
  },
  {
   "cell_type": "code",
   "execution_count": 36,
   "metadata": {},
   "outputs": [
    {
     "data": {
      "text/plain": [
       "array([[ 1091,     0],\n",
       "       [ 1303,     0],\n",
       "       [ 1674,     0],\n",
       "       [ 2077,     0],\n",
       "       [ 2462,     0],\n",
       "       [ 2601,     0],\n",
       "       [ 2686,     0],\n",
       "       [ 2783,     0],\n",
       "       [ 3271,     0],\n",
       "       [ 3816,     0],\n",
       "       [ 3880,     0],\n",
       "       [ 4213,     0],\n",
       "       [ 4443,     0],\n",
       "       [ 4539,     0],\n",
       "       [ 4682,     0],\n",
       "       [ 4877,     0],\n",
       "       [ 5107,     0],\n",
       "       [ 5428,     0],\n",
       "       [ 5986,     0],\n",
       "       [ 6487,     0],\n",
       "       [ 6586,     0],\n",
       "       [ 6599,     0],\n",
       "       [ 6849,     0],\n",
       "       [ 7324,     0],\n",
       "       [ 7404,     0],\n",
       "       [ 7597,     0],\n",
       "       [ 7980,     0],\n",
       "       [ 8193,     0],\n",
       "       [ 8370,     0],\n",
       "       [ 8583,     0],\n",
       "       [ 8644,     0],\n",
       "       [ 8734,     0],\n",
       "       [ 8963,     0],\n",
       "       [ 9303,     0],\n",
       "       [ 9555,     0],\n",
       "       [ 9704,     0],\n",
       "       [ 9990,     0],\n",
       "       [10331,     0],\n",
       "       [10499,     0],\n",
       "       [11341,     0],\n",
       "       [11503,     0],\n",
       "       [11956,     0],\n",
       "       [12466,     0],\n",
       "       [12925,     0],\n",
       "       [13231,     0],\n",
       "       [13352,     0],\n",
       "       [13972,     0],\n",
       "       [14127,     0],\n",
       "       [14244,     0],\n",
       "       [14942,     0],\n",
       "       [15255,     0],\n",
       "       [15572,     0],\n",
       "       [15626,     0],\n",
       "       [15704,     0],\n",
       "       [16002,     0],\n",
       "       [16584,     0],\n",
       "       [16999,     0],\n",
       "       [17255,     0],\n",
       "       [17822,     0],\n",
       "       [18590,     0],\n",
       "       [18741,     0],\n",
       "       [19483,     0],\n",
       "       [19512,     0],\n",
       "       [19869,     0],\n",
       "       [20944,     0],\n",
       "       [21084,     0],\n",
       "       [21394,     0],\n",
       "       [21479,     0],\n",
       "       [21530,     0],\n",
       "       [21568,     0],\n",
       "       [22087,     0],\n",
       "       [22241,     0],\n",
       "       [22729,     0],\n",
       "       [23162,     0],\n",
       "       [23175,     0],\n",
       "       [23260,     0],\n",
       "       [23322,     0],\n",
       "       [23383,     0],\n",
       "       [23464,     0],\n",
       "       [23608,     0],\n",
       "       [23639,     0],\n",
       "       [23715,     0],\n",
       "       [23731,     0],\n",
       "       [23987,     0],\n",
       "       [24027,     0],\n",
       "       [24968,     0],\n",
       "       [25479,     0],\n",
       "       [25820,     0],\n",
       "       [25902,     0],\n",
       "       [26063,     0],\n",
       "       [26080,     0],\n",
       "       [26288,     0],\n",
       "       [26601,     0],\n",
       "       [27203,     0],\n",
       "       [27488,     0],\n",
       "       [27708,     0],\n",
       "       [28349,     0],\n",
       "       [28558,     0],\n",
       "       [29050,     0],\n",
       "       [29108,     0],\n",
       "       [29397,     0],\n",
       "       [30561,     0],\n",
       "       [30754,     0],\n",
       "       [30894,     0],\n",
       "       [31788,     0],\n",
       "       [31991,     0],\n",
       "       [32945,     0],\n",
       "       [33531,     0],\n",
       "       [33831,     0],\n",
       "       [33998,     0],\n",
       "       [34017,     0],\n",
       "       [34740,     0],\n",
       "       [34775,     0],\n",
       "       [35291,     0],\n",
       "       [35392,     0],\n",
       "       [35532,     0],\n",
       "       [35873,     0],\n",
       "       [35920,     0],\n",
       "       [36031,     0],\n",
       "       [36590,     0],\n",
       "       [36830,     0],\n",
       "       [36870,     0],\n",
       "       [37490,     0],\n",
       "       [37532,     0],\n",
       "       [38115,     0],\n",
       "       [38826,     0],\n",
       "       [39241,     0],\n",
       "       [40359,     0],\n",
       "       [40465,     0],\n",
       "       [40809,     0],\n",
       "       [40837,     0],\n",
       "       [41582,     0],\n",
       "       [41658,     0],\n",
       "       [42288,     0],\n",
       "       [42433,     0],\n",
       "       [42626,     0],\n",
       "       [42959,     0],\n",
       "       [43209,     0],\n",
       "       [43222,     0],\n",
       "       [43281,     0],\n",
       "       [43485,     0],\n",
       "       [43640,     0],\n",
       "       [43652,     0],\n",
       "       [44244,     0],\n",
       "       [44521,     0],\n",
       "       [44560,     0],\n",
       "       [46115,     0],\n",
       "       [46432,     0],\n",
       "       [46751,     0],\n",
       "       [46788,     0],\n",
       "       [47037,     0],\n",
       "       [47157,     0],\n",
       "       [47806,     0],\n",
       "       [47909,     0],\n",
       "       [48781,     0],\n",
       "       [49045,     0],\n",
       "       [49851,     0],\n",
       "       [50123,     0],\n",
       "       [50149,     0],\n",
       "       [50301,     0],\n",
       "       [50413,     0],\n",
       "       [50483,     0],\n",
       "       [50949,     0],\n",
       "       [51135,     0],\n",
       "       [51190,     0],\n",
       "       [51244,     0],\n",
       "       [51496,     0],\n",
       "       [51570,     0],\n",
       "       [51966,     0],\n",
       "       [52188,     0],\n",
       "       [52455,     0],\n",
       "       [52609,     0],\n",
       "       [52898,     0],\n",
       "       [53548,     0],\n",
       "       [53622,     0],\n",
       "       [53716,     0],\n",
       "       [54084,     0],\n",
       "       [54175,     0],\n",
       "       [54453,     0],\n",
       "       [54850,     0],\n",
       "       [55066,     0],\n",
       "       [55415,     0],\n",
       "       [56063,     0],\n",
       "       [56375,     0],\n",
       "       [57589,     0],\n",
       "       [57618,     0],\n",
       "       [58076,     0],\n",
       "       [58357,     0],\n",
       "       [58425,     0],\n",
       "       [58701,     0],\n",
       "       [58762,     0],\n",
       "       [58957,     0],\n",
       "       [59629,     0],\n",
       "       [59871,     0],\n",
       "       [59999,     0],\n",
       "       [60075,     0],\n",
       "       [61251,     0],\n",
       "       [61975,     0],\n",
       "       [62041,     0],\n",
       "       [62907,     0],\n",
       "       [63026,     0],\n",
       "       [64007,     0],\n",
       "       [64027,     0],\n",
       "       [64057,     0],\n",
       "       [64302,     0],\n",
       "       [65113,     0],\n",
       "       [65214,     0],\n",
       "       [65786,     0],\n",
       "       [67117,     0],\n",
       "       [67858,     0],\n",
       "       [68012,     0],\n",
       "       [68397,     0],\n",
       "       [68549,     0],\n",
       "       [69018,     0],\n",
       "       [69295,     0],\n",
       "       [69616,     0],\n",
       "       [69652,     0],\n",
       "       [69706,     0],\n",
       "       [69874,     0],\n",
       "       [69953,     0],\n",
       "       [70229,     0],\n",
       "       [70649,     0],\n",
       "       [70852,     0],\n",
       "       [72185,     0],\n",
       "       [72260,     0],\n",
       "       [72374,     0],\n",
       "       [72873,     0],\n",
       "       [73667,     0],\n",
       "       [73689,     0],\n",
       "       [73767,     0],\n",
       "       [74521,     0],\n",
       "       [74626,     0],\n",
       "       [74710,     0],\n",
       "       [74993,     0],\n",
       "       [76461,     0],\n",
       "       [76902,     0],\n",
       "       [77090,     0],\n",
       "       [77553,     0],\n",
       "       [77623,     0],\n",
       "       [78091,     0],\n",
       "       [78553,     0],\n",
       "       [79177,     0],\n",
       "       [79556,     0],\n",
       "       [79926,     0],\n",
       "       [80032,     0],\n",
       "       [80374,     0],\n",
       "       [80495,     0],\n",
       "       [80687,     0],\n",
       "       [80764,     0],\n",
       "       [81391,     0],\n",
       "       [81878,     0],\n",
       "       [82340,     0],\n",
       "       [82799,     0],\n",
       "       [83225,     0],\n",
       "       [85050,     0],\n",
       "       [85277,     0],\n",
       "       [86112,     0],\n",
       "       [86224,     0],\n",
       "       [86816,     0],\n",
       "       [87448,     0],\n",
       "       [87474,     0],\n",
       "       [87810,     0],\n",
       "       [88428,     0],\n",
       "       [88843,     0],\n",
       "       [90335,     0],\n",
       "       [91101,     0],\n",
       "       [91618,     0],\n",
       "       [91782,     0],\n",
       "       [91898,     0],\n",
       "       [92005,     0],\n",
       "       [92255,     0],\n",
       "       [92333,     0],\n",
       "       [92366,     0],\n",
       "       [92825,     0],\n",
       "       [92964,     0],\n",
       "       [93028,     0],\n",
       "       [93247,     0],\n",
       "       [93632,     0],\n",
       "       [94085,     0],\n",
       "       [94421,     0],\n",
       "       [94997,     0],\n",
       "       [95038,     0],\n",
       "       [95205,     0],\n",
       "       [95237,     0],\n",
       "       [95552,     0],\n",
       "       [97547,     0],\n",
       "       [98044,     0],\n",
       "       [98347,     0],\n",
       "       [98476,     0],\n",
       "       [98745,     0],\n",
       "       [98826,     0],\n",
       "       [98854,     0],\n",
       "       [99410,     0],\n",
       "       [99833,     0]], dtype=int32)"
      ]
     },
     "execution_count": 36,
     "metadata": {},
     "output_type": "execute_result"
    }
   ],
   "source": [
    "spt_left[0]"
   ]
  },
  {
   "cell_type": "code",
   "execution_count": 37,
   "metadata": {},
   "outputs": [
    {
     "data": {
      "text/plain": [
       "(7, 31, 7)"
      ]
     },
     "execution_count": 37,
     "metadata": {},
     "output_type": "execute_result"
    }
   ],
   "source": [
    "templates.shape"
   ]
  },
  {
   "cell_type": "code",
   "execution_count": 38,
   "metadata": {},
   "outputs": [
    {
     "data": {
      "text/plain": [
       "[(294, 2), (1383, 2), (885, 2), (929, 2), (1144, 2), (884, 2), (815, 2)]"
      ]
     },
     "execution_count": 38,
     "metadata": {},
     "output_type": "execute_result"
    }
   ],
   "source": [
    "[l.shape for l in spt_left]"
   ]
  },
  {
   "cell_type": "code",
   "execution_count": 39,
   "metadata": {},
   "outputs": [
    {
     "data": {
      "text/plain": [
       "437"
      ]
     },
     "execution_count": 39,
     "metadata": {},
     "output_type": "execute_result"
    }
   ],
   "source": [
    "len(spike_train)"
   ]
  },
  {
   "cell_type": "code",
   "execution_count": 40,
   "metadata": {},
   "outputs": [
    {
     "data": {
      "text/plain": [
       "(7, 31, 7)"
      ]
     },
     "execution_count": 40,
     "metadata": {},
     "output_type": "execute_result"
    }
   ],
   "source": [
    "templates.shape"
   ]
  },
  {
   "cell_type": "code",
   "execution_count": 41,
   "metadata": {},
   "outputs": [
    {
     "data": {
      "text/plain": [
       "[(31, 7), (31, 7), (31, 7), (31, 7), (31, 7), (31, 7), (31, 7)]"
      ]
     },
     "execution_count": 41,
     "metadata": {},
     "output_type": "execute_result"
    }
   ],
   "source": [
    "[t.shape for t in templates]"
   ]
  },
  {
   "cell_type": "code",
   "execution_count": 52,
   "metadata": {},
   "outputs": [
    {
     "data": {
      "text/plain": [
       "(437, 2)"
      ]
     },
     "execution_count": 52,
     "metadata": {},
     "output_type": "execute_result"
    }
   ],
   "source": [
    "spike_train.shape"
   ]
  },
  {
   "cell_type": "code",
   "execution_count": 53,
   "metadata": {},
   "outputs": [],
   "source": [
    "d = deconvolution.Deconvolution(yass.read_config(),\n",
    "                                np.transpose(templates,[1,0,2]), spt_left)"
   ]
  },
  {
   "cell_type": "code",
   "execution_count": 55,
   "metadata": {
    "scrolled": true
   },
   "outputs": [
    {
     "name": "stderr",
     "output_type": "stream",
     "text": [
      "100% (1 of 1) |###########################| Elapsed Time: 0:00:00 Time: 0:00:00\n"
     ]
    },
    {
     "name": "stdout",
     "output_type": "stream",
     "text": [
      "Deconvoltuion done in 0 seconds.\n"
     ]
    }
   ],
   "source": [
    "spike_times_col = d.fullMPMU()"
   ]
  },
  {
   "cell_type": "code",
   "execution_count": 57,
   "metadata": {},
   "outputs": [
    {
     "data": {
      "text/plain": [
       "(11, 2)"
      ]
     },
     "execution_count": 57,
     "metadata": {},
     "output_type": "execute_result"
    }
   ],
   "source": [
    "spike_times_col.shape"
   ]
  },
  {
   "cell_type": "code",
   "execution_count": 56,
   "metadata": {},
   "outputs": [
    {
     "data": {
      "text/plain": [
       "array([[ 2939,     6],\n",
       "       [ 6479,     2],\n",
       "       [ 8059,     3],\n",
       "       [12290,     2],\n",
       "       [38446,     6],\n",
       "       [47654,     0],\n",
       "       [69953,     6],\n",
       "       [80638,     0],\n",
       "       [97448,     6],\n",
       "       [47654,     3],\n",
       "       [80638,     3]])"
      ]
     },
     "execution_count": 56,
     "metadata": {},
     "output_type": "execute_result"
    }
   ],
   "source": [
    "spike_times_col"
   ]
  },
  {
   "cell_type": "code",
   "execution_count": null,
   "metadata": {},
   "outputs": [],
   "source": []
  }
 ],
 "metadata": {
  "kernelspec": {
   "display_name": "Python 2",
   "language": "python",
   "name": "python2"
  },
  "language_info": {
   "codemirror_mode": {
    "name": "ipython",
    "version": 2
   },
   "file_extension": ".py",
   "mimetype": "text/x-python",
   "name": "python",
   "nbconvert_exporter": "python",
   "pygments_lexer": "ipython2",
   "version": "2.7.13"
  }
 },
 "nbformat": 4,
 "nbformat_minor": 2
}
