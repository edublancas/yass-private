{
 "cells": [
  {
   "cell_type": "code",
   "execution_count": 2,
   "metadata": {},
   "outputs": [],
   "source": [
    "%load_ext autoreload\n",
    "%autoreload 2"
   ]
  },
  {
   "cell_type": "code",
   "execution_count": 3,
   "metadata": {},
   "outputs": [],
   "source": [
    "from matplotlib import pyplot as plt\n",
    "import numpy as np\n",
    "from scipy import io\n",
    "from yass.augment import make\n",
    "from pathlib import Path\n",
    "\n",
    "import yass\n",
    "from yass.neuralnetwork import NeuralNetDetector\n",
    "from yass import set_config, read_config\n",
    "\n",
    "import seaborn as sns\n",
    "import pandas as pd"
   ]
  },
  {
   "cell_type": "code",
   "execution_count": 4,
   "metadata": {},
   "outputs": [],
   "source": [
    "yass.set_config(\"../config/49-lab.yaml\")\n",
    "CONFIG = read_config()"
   ]
  },
  {
   "cell_type": "code",
   "execution_count": 5,
   "metadata": {},
   "outputs": [],
   "source": [
    "path_to_ground_truth = str(Path('~/data/groundtruth_ej49_data1_set1.mat').expanduser())\n",
    "\n",
    "kk = io.loadmat(path_to_ground_truth)\n",
    "\n",
    "# L_gt has length total number of spikes; it is the cluster index for each spike\n",
    "# spt_gt has length total number of spikes; it is the time for each spike\n",
    "L_gt = kk['L_gt']-1\n",
    "spt_gt = kk['spt_gt'] + 10\n",
    "spike_train = np.concatenate((spt_gt, L_gt),axis=1)\n",
    "\n",
    "min_amp = 5\n",
    "max_amp = 80\n",
    "\n",
    "\n",
    "path_to_data = str(Path('~/data/tmp/preprocess/standarized.bin').expanduser())\n",
    "\n",
    "chosen_templates = [0, 1, 2, 3, 4, 5, 7, 8, 9, 11, 12, 13,\n",
    "                    14, 15, 16, 17, 18, 19, 22, 23, 24, 25,\n",
    "                    26, 27, 28, 29, 30, 31, 32, 33, 34, 35,\n",
    "                    36, 37, 38, 39, 41, 42, 43, 44, 45, 46,\n",
    "                    47, 48]"
   ]
  },
  {
   "cell_type": "code",
   "execution_count": 6,
   "metadata": {},
   "outputs": [
    {
     "name": "stderr",
     "output_type": "stream",
     "text": [
      "100%|██████████| 3/3 [00:09<00:00,  3.06s/it]\n"
     ]
    }
   ],
   "source": [
    "(x, amplitudes,\n",
    " slices) = make.testing_data(CONFIG, spike_train, chosen_templates,\n",
    "                               min_amp, max_amp, path_to_data,\n",
    "                               n_per_template=20)"
   ]
  },
  {
   "cell_type": "code",
   "execution_count": 7,
   "metadata": {},
   "outputs": [
    {
     "name": "stdout",
     "output_type": "stream",
     "text": [
      "(3120, 61, 7) (3120,) {'templates': slice(0, 780, None), 'spatially misaligned': slice(780, 1560, None), 'temporally misaligned': slice(1560, 2340, None), 'collided': slice(2340, 3120, None)}\n"
     ]
    }
   ],
   "source": [
    "print(x.shape, amplitudes.shape, slices)"
   ]
  },
  {
   "cell_type": "code",
   "execution_count": 8,
   "metadata": {},
   "outputs": [
    {
     "name": "stderr",
     "output_type": "stream",
     "text": [
      "/home/Edu/miniconda3/lib/python3.6/site-packages/matplotlib/axes/_axes.py:6462: UserWarning: The 'normed' kwarg is deprecated, and has been replaced by the 'density' kwarg.\n",
      "  warnings.warn(\"The 'normed' kwarg is deprecated, and has been \"\n"
     ]
    },
    {
     "data": {
      "text/plain": [
       "<matplotlib.axes._subplots.AxesSubplot at 0x7f267dfe0470>"
      ]
     },
     "execution_count": 8,
     "metadata": {},
     "output_type": "execute_result"
    },
    {
     "data": {
      "image/png": "[encoded data removed]",
      "text/plain": [
       "<Figure size 432x288 with 1 Axes>"
      ]
     },
     "metadata": {},
     "output_type": "display_data"
    }
   ],
   "source": [
    "sns.distplot(amplitudes)"
   ]
  },
  {
   "cell_type": "code",
   "execution_count": 9,
   "metadata": {},
   "outputs": [],
   "source": [
    "mid_point = int((x.shape[1]-1)/2)\n",
    "R = CONFIG.spike_size\n",
    "R = 10\n",
    "MID_POINT_IDX = slice(mid_point - R, mid_point + R + 1)"
   ]
  },
  {
   "cell_type": "code",
   "execution_count": 37,
   "metadata": {},
   "outputs": [],
   "source": [
    "from yass.augment import util\n",
    "import pandas as pd\n",
    "\n",
    "def to_data_frame(array, amplitudes, slices, amplitude_units_per_bin=10):\n",
    "    wfs = [a for a in array]\n",
    "\n",
    "    discretized = discretize(amplitudes, amplitude_units_per_bin)\n",
    "\n",
    "    kinds = [[kind] * (slice_.stop - slice_.start) for\n",
    "             kind, slice_ in slices.items()]\n",
    "    kinds = [item for sublist in kinds for item in sublist]\n",
    "\n",
    "    df = pd.DataFrame(data={'waveform': wfs,\n",
    "                            'amplitude': discretized,\n",
    "                            'kind': kinds})\n",
    "    return df\n",
    "\n",
    "def discretize(amplitudes, amplitude_units_per_bin):\n",
    "    range_ = int(np.max(amplitudes) - np.min(amplitudes))\n",
    "    bins = int(range_ / amplitude_units_per_bin)\n",
    "    \n",
    "    discretized = pd.qcut(amplitudes, bins)\n",
    "\n",
    "    return [interval.right for interval in discretized]"
   ]
  },
  {
   "cell_type": "code",
   "execution_count": 38,
   "metadata": {},
   "outputs": [
    {
     "data": {
      "text/html": [
       "<div>\n",
       "<style scoped>\n",
       "    .dataframe tbody tr th:only-of-type {\n",
       "        vertical-align: middle;\n",
       "    }\n",
       "\n",
       "    .dataframe tbody tr th {\n",
       "        vertical-align: top;\n",
       "    }\n",
       "\n",
       "    .dataframe thead th {\n",
       "        text-align: right;\n",
       "    }\n",
       "</style>\n",
       "<table border=\"1\" class=\"dataframe\">\n",
       "  <thead>\n",
       "    <tr style=\"text-align: right;\">\n",
       "      <th></th>\n",
       "      <th>waveform</th>\n",
       "      <th>amplitude</th>\n",
       "      <th>kind</th>\n",
       "    </tr>\n",
       "  </thead>\n",
       "  <tbody>\n",
       "    <tr>\n",
       "      <th>0</th>\n",
       "      <td>[[0.07835984555963188, -0.5796864683820002, -0...</td>\n",
       "      <td>8.981</td>\n",
       "      <td>templates</td>\n",
       "    </tr>\n",
       "    <tr>\n",
       "      <th>1</th>\n",
       "      <td>[[0.7472153449833173, -0.5707938535555866, -0....</td>\n",
       "      <td>8.981</td>\n",
       "      <td>templates</td>\n",
       "    </tr>\n",
       "    <tr>\n",
       "      <th>2</th>\n",
       "      <td>[[1.7170137243307866, 0.053466336084714496, 1....</td>\n",
       "      <td>15.553</td>\n",
       "      <td>templates</td>\n",
       "    </tr>\n",
       "    <tr>\n",
       "      <th>3</th>\n",
       "      <td>[[-1.1574869384590514, 0.6463926438390314, -0....</td>\n",
       "      <td>21.789</td>\n",
       "      <td>templates</td>\n",
       "    </tr>\n",
       "    <tr>\n",
       "      <th>4</th>\n",
       "      <td>[[0.4017852335830567, 0.3609752933991571, 0.25...</td>\n",
       "      <td>21.789</td>\n",
       "      <td>templates</td>\n",
       "    </tr>\n",
       "  </tbody>\n",
       "</table>\n",
       "</div>"
      ],
      "text/plain": [
       "                                            waveform  amplitude       kind\n",
       "0  [[0.07835984555963188, -0.5796864683820002, -0...      8.981  templates\n",
       "1  [[0.7472153449833173, -0.5707938535555866, -0....      8.981  templates\n",
       "2  [[1.7170137243307866, 0.053466336084714496, 1....     15.553  templates\n",
       "3  [[-1.1574869384590514, 0.6463926438390314, -0....     21.789  templates\n",
       "4  [[0.4017852335830567, 0.3609752933991571, 0.25...     21.789  templates"
      ]
     },
     "execution_count": 38,
     "metadata": {},
     "output_type": "execute_result"
    }
   ],
   "source": [
    "df = to_data_frame(x, amplitudes, slices)\n",
    "df.head()"
   ]
  },
  {
   "cell_type": "code",
   "execution_count": 39,
   "metadata": {},
   "outputs": [],
   "source": [
    "sub = df[(10 < df.amplitude) & (df.amplitude < 20) & (df.kind == 'collided')]"
   ]
  },
  {
   "cell_type": "code",
   "execution_count": 46,
   "metadata": {},
   "outputs": [
    {
     "data": {
      "text/plain": [
       "(67, 61, 7)"
      ]
     },
     "execution_count": 46,
     "metadata": {},
     "output_type": "execute_result"
    }
   ],
   "source": [
    "np.stack(sub.waveform.values, axis=0).shape"
   ]
  },
  {
   "cell_type": "code",
   "execution_count": 82,
   "metadata": {},
   "outputs": [],
   "source": [
    "def process_group(g_id, g, model):\n",
    "    wfs = np.stack(g.waveforms.values, axis=0)\n",
    "    preds = model.predict(wfs[:, MID_POINT_IDX, :])\n",
    "    return g_id, preds.mean()\n",
    "\n",
    "def compute_proportions(x_clean, amplitudes, model):\n",
    "    # convert to data frame\n",
    "    df = to_data_frame(x_clean)\n",
    "    df.sort_values(by='amplitudes', inplace=True)\n",
    "    \n",
    "    # group and compute proportion of correct predictions\n",
    "    vals = [process_group(g_id, g, model) for g_id, g in df.groupby('amplitudes')]\n",
    "    \n",
    "    amplitudes, props = list(zip(*vals))\n",
    "    \n",
    "    return amplitudes, props"
   ]
  },
  {
   "cell_type": "code",
   "execution_count": 83,
   "metadata": {},
   "outputs": [],
   "source": [
    "paths = ['/home/Edu/shengao-models/detect_nn_min3max15_noise2.ckpt',\n",
    "         '/home/Edu/dev/private-yass/nnet/models/detect-11-Jul-2018@21-00-57.ckpt']"
   ]
  },
  {
   "cell_type": "code",
   "execution_count": 84,
   "metadata": {},
   "outputs": [
    {
     "data": {
      "text/plain": [
       "(array([  0.,  20.,  40.,  60.,  80., 100., 120., 140.]),\n",
       " <a list of 8 Text xticklabel objects>)"
      ]
     },
     "execution_count": 84,
     "metadata": {},
     "output_type": "execute_result"
    },
    {
     "data": {
      "image/png": "[encoded data removed]",
      "text/plain": [
       "<Figure size 720x360 with 1 Axes>"
      ]
     },
     "metadata": {},
     "output_type": "display_data"
    }
   ],
   "source": [
    "plt.rcParams['figure.figsize'] = (10, 5)\n",
    "\n",
    "colors = ['g', 'r', 'b', 'k']\n",
    "\n",
    "# make plots for every model\n",
    "for i, path_to_model in enumerate(paths):\n",
    "\n",
    "    # load model\n",
    "    model = NeuralNetDetector.load(path_to_model, 0.5, CONFIG.channel_index)\n",
    "    \n",
    "    # pass spikes and make predictions\n",
    "    amps, props = compute_proportions(x, amplitudes, model)\n",
    "    \n",
    "    # plot results\n",
    "    plt.scatter(amps, props, color=colors[i],\n",
    "                label=path_to_model.split('/')[-1])\n",
    "\n",
    "plt.legend()\n",
    "plt.xticks(rotation=45)"
   ]
  }
 ],
 "metadata": {
  "kernelspec": {
   "display_name": "Python 3",
   "language": "python",
   "name": "python3"
  },
  "language_info": {
   "codemirror_mode": {
    "name": "ipython",
    "version": 3
   },
   "file_extension": ".py",
   "mimetype": "text/x-python",
   "name": "python",
   "nbconvert_exporter": "python",
   "pygments_lexer": "ipython3",
   "version": "3.6.5"
  }
 },
 "nbformat": 4,
 "nbformat_minor": 2
}
