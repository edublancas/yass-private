{
 "cells": [
  {
   "cell_type": "code",
   "execution_count": 1,
   "metadata": {},
   "outputs": [],
   "source": [
    "from matplotlib import pyplot as plt\n",
    "import numpy as np\n",
    "from scipy import io\n",
    "from yass.augment import make\n",
    "from pathlib import Path\n",
    "\n",
    "import yass\n",
    "from yass.neuralnetwork import NeuralNetDetector\n",
    "from yass import set_config, read_config"
   ]
  },
  {
   "cell_type": "code",
   "execution_count": 2,
   "metadata": {},
   "outputs": [],
   "source": [
    "yass.set_config(\"../../config/49-lab.yaml\")\n",
    "CONFIG = read_config()"
   ]
  },
  {
   "cell_type": "code",
   "execution_count": 4,
   "metadata": {},
   "outputs": [],
   "source": [
    "path_to_ground_truth = str(Path('~/data/groundtruth_ej49_data1_set1.mat').expanduser())\n",
    "\n",
    "kk = io.loadmat(path_to_ground_truth)\n",
    "\n",
    "# L_gt has length total number of spikes; it is the cluster index for each spike\n",
    "# spt_gt has length total number of spikes; it is the time for each spike\n",
    "L_gt = kk['L_gt']-1\n",
    "spt_gt = kk['spt_gt'] + 10\n",
    "spike_train = np.concatenate((spt_gt, L_gt),axis=1)\n",
    "\n",
    "min_amp = 5\n",
    "max_amp = 80\n",
    "\n",
    "\n",
    "path_to_data = str(Path('~/data/tmp/preprocess/standarized.bin').expanduser())\n",
    "\n",
    "chosen_templates = [0, 1, 2, 3, 4, 5, 7, 8, 9, 11, 12, 13,\n",
    "                    14, 15, 16, 17, 18, 19, 22, 23, 24, 25,\n",
    "                    26, 27, 28, 29, 30, 31, 32, 33, 34, 35,\n",
    "                    36, 37, 38, 39, 41, 42, 43, 44, 45, 46,\n",
    "                    47, 48]"
   ]
  },
  {
   "cell_type": "code",
   "execution_count": 5,
   "metadata": {},
   "outputs": [
    {
     "ename": "TypeError",
     "evalue": "testing_data() takes 6 positional arguments but 7 were given",
     "output_type": "error",
     "traceback": [
      "\u001b[0;31m---------------------------------------------------------------------------\u001b[0m",
      "\u001b[0;31mTypeError\u001b[0m                                 Traceback (most recent call last)",
      "\u001b[0;32m<ipython-input-5-d52bd183dcd9>\u001b[0m in \u001b[0;36m<module>\u001b[0;34m()\u001b[0m\n\u001b[1;32m      3\u001b[0m  \u001b[0mnoise\u001b[0m\u001b[0;34m)\u001b[0m \u001b[0;34m=\u001b[0m \u001b[0mmake\u001b[0m\u001b[0;34m.\u001b[0m\u001b[0mtesting_data\u001b[0m\u001b[0;34m(\u001b[0m\u001b[0mCONFIG\u001b[0m\u001b[0;34m,\u001b[0m \u001b[0mspike_train\u001b[0m\u001b[0;34m,\u001b[0m \u001b[0mchosen_templates\u001b[0m\u001b[0;34m,\u001b[0m\u001b[0;34m\u001b[0m\u001b[0m\n\u001b[1;32m      4\u001b[0m                                \u001b[0mmin_amp\u001b[0m\u001b[0;34m,\u001b[0m \u001b[0mmax_amp\u001b[0m\u001b[0;34m,\u001b[0m \u001b[0mpath_to_data\u001b[0m\u001b[0;34m,\u001b[0m\u001b[0;34m\u001b[0m\u001b[0m\n\u001b[0;32m----> 5\u001b[0;31m                                20)\n\u001b[0m",
      "\u001b[0;31mTypeError\u001b[0m: testing_data() takes 6 positional arguments but 7 were given"
     ]
    }
   ],
   "source": [
    "# TODO: update, no longer is ptp but amplitude\n",
    "(x_clean, ptp,\n",
    " noise) = make.testing_data(CONFIG, spike_train, chosen_templates,\n",
    "                               min_amp, max_amp, path_to_data,\n",
    "                               20)"
   ]
  },
  {
   "cell_type": "code",
   "execution_count": 6,
   "metadata": {},
   "outputs": [
    {
     "name": "stderr",
     "output_type": "stream",
     "text": [
      "100%|██████████| 3/3 [00:08<00:00,  2.94s/it]\n"
     ]
    }
   ],
   "source": [
    "# old\n",
    "n_per_cluster=200\n",
    "ptp_scale=0.01\n",
    "\n",
    "(x_clean, noise,\n",
    " ids, ptp) = make.testing_data(CONFIG, spike_train, chosen_templates,\n",
    "                               path_to_data, n_per_cluster, ptp_scale)"
   ]
  },
  {
   "cell_type": "code",
   "execution_count": 8,
   "metadata": {},
   "outputs": [
    {
     "data": {
      "text/plain": [
       "(7800, 61, 7)"
      ]
     },
     "execution_count": 8,
     "metadata": {},
     "output_type": "execute_result"
    }
   ],
   "source": [
    "x_clean.shape"
   ]
  },
  {
   "cell_type": "code",
   "execution_count": 7,
   "metadata": {},
   "outputs": [
    {
     "data": {
      "text/plain": [
       "(39,)"
      ]
     },
     "execution_count": 7,
     "metadata": {},
     "output_type": "execute_result"
    }
   ],
   "source": [
    "ptp.shape"
   ]
  },
  {
   "cell_type": "code",
   "execution_count": null,
   "metadata": {},
   "outputs": [],
   "source": [
    "import seaborn as sns\n",
    "sns.distplot(ptp)"
   ]
  },
  {
   "cell_type": "code",
   "execution_count": null,
   "metadata": {},
   "outputs": [],
   "source": [
    "import pandas as pd\n",
    "new_ptp = pd.qcut(ptp, 20)\n",
    "new_ptp"
   ]
  },
  {
   "cell_type": "code",
   "execution_count": 9,
   "metadata": {},
   "outputs": [],
   "source": [
    "mid_point = int((x_clean.shape[1]-1)/2)\n",
    "R = CONFIG.spike_size\n",
    "R = 10\n",
    "MID_POINT_IDX = slice(mid_point - R, mid_point + R + 1)"
   ]
  },
  {
   "cell_type": "code",
   "execution_count": 10,
   "metadata": {},
   "outputs": [],
   "source": [
    "import pandas as pd\n",
    "\n",
    "def process_group(g_id, g, model):\n",
    "    wfs = np.stack(g.waveforms.values, axis=0)\n",
    "    preds = model.predict(wfs[:, MID_POINT_IDX, :])\n",
    "    return g_id, preds.mean()\n",
    "\n",
    "def compute_proportions(x_clean, ptp, model):\n",
    "    # convert to data frame\n",
    "    wfs = [x for x in x_clean]\n",
    "#     df = pd.DataFrame(data={\"waveforms\": wfs,\n",
    "#                             \"ptp\": pd.qcut(ptp, 20, labels=False)})\n",
    "\n",
    "    df = pd.DataFrame(data={\"waveforms\": wfs,\n",
    "                            \"ptp\": ptp.repeat(n_per_cluster)})\n",
    "    \n",
    "    # sort by peak-to-peak\n",
    "    df.sort_values(by='ptp', inplace=True)\n",
    "    \n",
    "    # group and compute proportion of correct predictions\n",
    "    vals = [process_group(g_id, g, model) for g_id, g in df.groupby('ptp')]\n",
    "    \n",
    "    ptps, props = list(zip(*vals))\n",
    "    \n",
    "    return ptps, props"
   ]
  },
  {
   "cell_type": "code",
   "execution_count": 11,
   "metadata": {},
   "outputs": [],
   "source": [
    "paths = ['/home/Edu/shengao-models/detect_nn_min3max15_noise2.ckpt',\n",
    "         '/home/Edu/dev/private-yass/nnet/models/detect-11-Jul-2018@21-00-57.ckpt']"
   ]
  },
  {
   "cell_type": "code",
   "execution_count": 12,
   "metadata": {},
   "outputs": [
    {
     "data": {
      "text/plain": [
       "<matplotlib.legend.Legend at 0x7fc590cdbc18>"
      ]
     },
     "execution_count": 12,
     "metadata": {},
     "output_type": "execute_result"
    },
    {
     "data": {
      "image/png": "[encoded data removed]",
      "text/plain": [
       "<Figure size 720x360 with 1 Axes>"
      ]
     },
     "metadata": {},
     "output_type": "display_data"
    }
   ],
   "source": [
    "plt.rcParams['figure.figsize'] = (10, 5)\n",
    "\n",
    "colors = ['g', 'r', 'b', 'k']\n",
    "\n",
    "for i, path_to_model in enumerate(paths):\n",
    "    model = NeuralNetDetector.load(path_to_model, 0.5, CONFIG.channel_index)\n",
    "    ptps, props = compute_proportions(x_clean, ptp, model)\n",
    "    plt.scatter(ptps, props, color=colors[i],\n",
    "                label=path_to_model.split('/')[-1])\n",
    "\n",
    "plt.legend()"
   ]
  },
  {
   "cell_type": "code",
   "execution_count": null,
   "metadata": {},
   "outputs": [],
   "source": []
  },
  {
   "cell_type": "code",
   "execution_count": null,
   "metadata": {},
   "outputs": [],
   "source": []
  }
 ],
 "metadata": {
  "kernelspec": {
   "display_name": "Python 3",
   "language": "python",
   "name": "python3"
  },
  "language_info": {
   "codemirror_mode": {
    "name": "ipython",
    "version": 3
   },
   "file_extension": ".py",
   "mimetype": "text/x-python",
   "name": "python",
   "nbconvert_exporter": "python",
   "pygments_lexer": "ipython3",
   "version": "3.6.5"
  }
 },
 "nbformat": 4,
 "nbformat_minor": 2
}
