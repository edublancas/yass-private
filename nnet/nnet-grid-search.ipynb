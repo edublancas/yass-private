{
 "cells": [
  {
   "cell_type": "markdown",
   "metadata": {},
   "source": [
    "## Optimizing neural network parameters"
   ]
  },
  {
   "cell_type": "code",
   "execution_count": 1,
   "metadata": {},
   "outputs": [],
   "source": [
    "import util\n",
    "import platform\n",
    "from pathlib import Path\n",
    "from os import path\n",
    "\n",
    "import numpy as np\n",
    "from scipy.io import loadmat\n",
    "\n",
    "import yass\n",
    "from yass.augment import make\n",
    "from yass.neuralnetwork import NeuralNetDetector, NeuralNetTriage"
   ]
  },
  {
   "cell_type": "code",
   "execution_count": 2,
   "metadata": {},
   "outputs": [],
   "source": [
    "LOCAL = platform.system() == 'Darwin'\n",
    "\n",
    "if LOCAL:\n",
    "    yass.set_config(\"../config/49-local.yaml\")\n",
    "else:\n",
    "    yass.set_config(\"../config/49-lab.yaml\")\n",
    "\n",
    "# yass configuration\n",
    "home = Path.home()\n",
    "path_to_config = str(home / 'dev/private-yass/config/49-lab.yaml')\n",
    "path_to_ground_truth = str(home / 'data/groundtruth_ej49_data1_set1.mat')\n",
    "path_to_data = str(home / 'data/tmp')\n",
    "\n",
    "yass.set_config(path_to_config)\n",
    "CONFIG = yass.read_config()\n",
    "\n",
    "if LOCAL:\n",
    "    path_to_here = path.expanduser('~/dev/lab/private-yass/nnet')\n",
    "else:\n",
    "    path_to_here = path.expanduser('~/dev/private-yass/nnet')"
   ]
  },
  {
   "cell_type": "code",
   "execution_count": 3,
   "metadata": {},
   "outputs": [],
   "source": [
    "# load ground truth\n",
    "_ = loadmat(path_to_ground_truth)\n",
    "spike_train = np.hstack([_['spt_gt'], _['L_gt']])\n",
    "\n",
    "spike_train = spike_train[2:-1]\n",
    "spike_train[:, 1] = spike_train[:, 1] - 1\n",
    "\n",
    "# compensate alignment\n",
    "spike_train[:, 0] = spike_train[:, 0] + 10"
   ]
  },
  {
   "cell_type": "code",
   "execution_count": 12,
   "metadata": {},
   "outputs": [],
   "source": [
    "import itertools\n",
    "\n",
    "# training set parameters\n",
    "\n",
    "n_spikes = [20000]\n",
    "min_amplitude = [5]\n",
    "max_amplitude = [90]\n",
    "\n",
    "n_templates = np.max(spike_train[:,1]) + 1\n",
    "chosen_templates = [np.arange(n_templates)]\n",
    "\n",
    "set_parameters = itertools.product(n_spikes, min_amplitude,\n",
    "                                   max_amplitude, chosen_templates)\n",
    "\n",
    "# model parameters\n",
    "n_iter = 5000\n",
    "l2_reg_scale = [0.00000005, 0.0000005, 0.000005]\n",
    "filters_size = [[32, 16]]\n",
    "\n",
    "model_parameters = filters_size\n",
    "\n",
    "\n",
    "parameters = itertools.product(set_parameters, model_parameters)"
   ]
  },
  {
   "cell_type": "code",
   "execution_count": 13,
   "metadata": {
    "scrolled": false
   },
   "outputs": [
    {
     "name": "stderr",
     "output_type": "stream",
     "text": [
      "100%|██████████| 3/3 [00:08<00:00,  2.76s/it]\n",
      "Tr loss: 0.010302701, Val loss: 0.001811245: 100%|██████████| 5000/5000 [01:21<00:00, 61.35it/s]    \n",
      "Tr loss: 0.05112303, Val loss: 0.06348427: 100%|██████████| 5000/5000 [01:04<00:00, 77.41it/s]  \n"
     ]
    },
    {
     "name": "stdout",
     "output_type": "stream",
     "text": [
      "/home/Edu/dev/private-yass/nnet/models/detect-12-Jul-2018@00-30-40.ckpt /home/Edu/dev/private-yass/nnet/models/triage-12-Jul-2018@00-30-40.ckpt 20000 5 90 [32, 16]\n"
     ]
    }
   ],
   "source": [
    "for (n_spikes, min_amplitude,\n",
    "     max_amplitude, chosen_templates), filters in parameters:\n",
    "    \n",
    "    dir_name = util.directory()\n",
    "\n",
    "    # make training data\n",
    "    (x_detect, y_detect,\n",
    "     x_triage, y_triage,\n",
    "     x_ae, y_ae) = make.training_data(CONFIG,\n",
    "                                      spike_train,\n",
    "                                      chosen_templates,\n",
    "                                      min_amplitude,\n",
    "                                      max_amplitude,\n",
    "                                      n_spikes,\n",
    "                                      path_to_data)\n",
    "    \n",
    "    # detector\n",
    "    detect_name = path.join(path_to_here, 'models',\n",
    "                            'detect-'+dir_name+'.ckpt')\n",
    "\n",
    "    _, waveform_length, n_neighbors =  x_detect.shape\n",
    "\n",
    "    detector = NeuralNetDetector(detect_name, filters,\n",
    "                                 waveform_length, n_neighbors,\n",
    "                                 threshold=0.5,\n",
    "                                 channel_index=CONFIG.channel_index,\n",
    "                                 n_iter=n_iter)\n",
    "\n",
    "    detector.fit(x_detect, y_detect)\n",
    "    \n",
    "    # triage\n",
    "    triage_name = path.join(path_to_here, 'models',\n",
    "                            'triage-'+dir_name+'.ckpt')\n",
    "\n",
    "    _, waveform_length, n_neighbors = x_triage.shape\n",
    "\n",
    "    triage = NeuralNetTriage(triage_name, filters,\n",
    "                             waveform_length=waveform_length,\n",
    "                             threshold=0.5,\n",
    "                             n_neighbors=n_neighbors,\n",
    "                             n_iter=n_iter)\n",
    "    \n",
    "    triage.fit(x_triage, y_triage)\n",
    "    \n",
    "    # save test sets\n",
    "    _ = path.join(path_to_here, 'models', 'x-triage-'+dir_name+'.npy')\n",
    "    np.save(_, x_triage)\n",
    "    \n",
    "    _ = path.join(path_to_here, 'models', 'y-triage-'+dir_name+'.npy')\n",
    "    np.save(_, y_triage)\n",
    "    \n",
    "    _ = path.join(path_to_here, 'models', 'x-detect-'+dir_name+'.npy')\n",
    "    np.save(_, x_detect)\n",
    "    \n",
    "    _ = path.join(path_to_here, 'models', 'y-detect-'+dir_name+'.npy')\n",
    "    np.save(_, y_detect)\n",
    "\n",
    "    \n",
    "    print(detect_name, triage_name, n_spikes,\n",
    "          min_amplitude, max_amplitude, filters)"
   ]
  },
  {
   "cell_type": "code",
   "execution_count": null,
   "metadata": {},
   "outputs": [],
   "source": []
  }
 ],
 "metadata": {
  "kernelspec": {
   "display_name": "Python 3",
   "language": "python",
   "name": "python3"
  },
  "language_info": {
   "codemirror_mode": {
    "name": "ipython",
    "version": 3
   },
   "file_extension": ".py",
   "mimetype": "text/x-python",
   "name": "python",
   "nbconvert_exporter": "python",
   "pygments_lexer": "ipython3",
   "version": "3.6.5"
  }
 },
 "nbformat": 4,
 "nbformat_minor": 2
}
