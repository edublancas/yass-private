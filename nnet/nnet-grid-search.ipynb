{
 "cells": [
  {
   "cell_type": "markdown",
   "metadata": {},
   "source": [
    "## Optimizing neural network parameters"
   ]
  },
  {
   "cell_type": "code",
   "execution_count": 1,
   "metadata": {},
   "outputs": [],
   "source": [
    "import itertools\n",
    "import util\n",
    "import platform\n",
    "from pathlib import Path\n",
    "from os import path\n",
    "\n",
    "import numpy as np\n",
    "from scipy.io import loadmat\n",
    "\n",
    "import yass\n",
    "from yass.augment import make\n",
    "from yass.neuralnetwork import NeuralNetDetector, NeuralNetTriage\n",
    "from yass.util import get_version\n",
    "\n",
    "from dstools.params import make_grid\n",
    "from dstools.reproducibility import make_path"
   ]
  },
  {
   "cell_type": "code",
   "execution_count": 2,
   "metadata": {},
   "outputs": [],
   "source": [
    "LOCAL = platform.system() == 'Darwin'\n",
    "\n",
    "if LOCAL:\n",
    "    yass.set_config(\"../config/49-local.yaml\")\n",
    "else:\n",
    "    yass.set_config(\"../config/49-lab.yaml\")\n",
    "\n",
    "# yass configuration\n",
    "home = Path.home()\n",
    "path_to_config = str(home / 'dev/private-yass/config/49-lab.yaml')\n",
    "path_to_ground_truth = str(home / 'data/groundtruth_ej49_data1_set1.mat')\n",
    "path_to_data = str(home / 'data/tmp')\n",
    "\n",
    "yass.set_config(path_to_config)\n",
    "CONFIG = yass.read_config()\n",
    "\n",
    "if LOCAL:\n",
    "    path_to_here = path.expanduser('~/dev/lab/private-yass/nnet')\n",
    "else:\n",
    "    path_to_here = path.expanduser('~/dev/private-yass/nnet')\n",
    "    \n",
    "path_to_models = path.join(path_to_here, 'models')"
   ]
  },
  {
   "cell_type": "code",
   "execution_count": 3,
   "metadata": {},
   "outputs": [],
   "source": [
    "# load ground truth\n",
    "_ = loadmat(path_to_ground_truth)\n",
    "spike_train = np.hstack([_['spt_gt'], _['L_gt']])\n",
    "\n",
    "spike_train = spike_train[2:-1]\n",
    "spike_train[:, 1] = spike_train[:, 1] - 1\n",
    "\n",
    "# compensate alignment\n",
    "spike_train[:, 0] = spike_train[:, 0] + 10"
   ]
  },
  {
   "cell_type": "code",
   "execution_count": 4,
   "metadata": {},
   "outputs": [],
   "source": [
    "n_templates = np.max(spike_train[:,1]) + 1\n",
    "\n",
    "# chosen_templates = [0, 1, 2, 3, 4, 5, 7, 8, 9, 11, 12, 13,\n",
    "#                     14, 15, 16, 17, 18, 19, 22, 23, 24, 25,\n",
    "#                     26, 27, 28, 29, 30, 31, 32, 33, 34, 35,\n",
    "#                     36, 37, 38, 39, 41, 42, 43, 44, 45, 46,\n",
    "#                     47, 48]\n",
    "\n",
    "\n",
    "set_params = dict(n_spikes=[10000, 20000, 30000],\n",
    "                  min_amplitude=[2, 5, 8],\n",
    "                  max_amplitude=[20, 60, 100],\n",
    "                  chosen_templates=[np.arange(n_templates)])\n",
    "\n",
    "model_params = dict(n_iter=[5000, 7000],\n",
    "                    l2_reg_scale=[0.00000005, 0.0000005, 0.000005],\n",
    "                    filters_size = [[16, 8], [32, 16]])"
   ]
  },
  {
   "cell_type": "code",
   "execution_count": 5,
   "metadata": {},
   "outputs": [],
   "source": [
    "set_grid = make_grid(set_params)\n",
    "model_grid = make_grid(model_params)\n",
    "grid = itertools.product(set_grid, model_grid)"
   ]
  },
  {
   "cell_type": "code",
   "execution_count": null,
   "metadata": {
    "scrolled": false
   },
   "outputs": [],
   "source": [
    "for set_params, model_params in parameters:\n",
    "    \n",
    "    dir_name = util.directory()\n",
    "\n",
    "    # make training data\n",
    "    (x_detect, y_detect,\n",
    "     x_triage, y_triage,\n",
    "     x_ae, y_ae) = make.training_data(CONFIG,\n",
    "                                      spike_train,\n",
    "                                      chosen_templates,\n",
    "                                      path_to_data,\n",
    "                                     **set_params)\n",
    "    \n",
    "    # detector\n",
    "    detect_name = make_path(path_to_models, 'detect', extension='ckpt')\n",
    "\n",
    "    _, waveform_length, n_neighbors =  x_detect.shape\n",
    "\n",
    "    detector = NeuralNetDetector(path_to_model=detect_name,\n",
    "                                 waveform_length=waveform_length,\n",
    "                                 n_neighbors=n_neighbors,\n",
    "                                 threshold=0.5,\n",
    "                                 channel_index=CONFIG.channel_index,\n",
    "                                 **model_params)\n",
    "\n",
    "    detector.fit(x_detect, y_detect)\n",
    "    \n",
    "    # triage\n",
    "    triage_name = make_path(path_to_models, 'triage', extension='ckpt')\n",
    "\n",
    "    _, waveform_length, n_neighbors = x_triage.shape\n",
    "\n",
    "    triage = NeuralNetTriage(path_to_model=triage_name,\n",
    "                             waveform_length=waveform_length,\n",
    "                             threshold=0.5,\n",
    "                             n_neighbors=n_neighbors,\n",
    "                             **model_params)\n",
    "    \n",
    "    triage.fit(x_triage, y_triage)\n",
    "    \n",
    "    # store models metadata\n",
    "    metadata = dict(yass_version=get_version())\n",
    "    # TODO: save name, loss, computed metrics, set and model params,\n",
    "    # yass version\n",
    "    \n",
    "    # save test sets for future evaluation, update code above so\n",
    "    # they match models name\n",
    "    _ = path.join(path_to_here, 'models', 'x-triage-'+dir_name+'.npy')\n",
    "    np.save(_, x_triage)\n",
    "    \n",
    "    _ = path.join(path_to_here, 'models', 'y-triage-'+dir_name+'.npy')\n",
    "    np.save(_, y_triage)\n",
    "    \n",
    "    _ = path.join(path_to_here, 'models', 'x-detect-'+dir_name+'.npy')\n",
    "    np.save(_, x_detect)\n",
    "    \n",
    "    _ = path.join(path_to_here, 'models', 'y-detect-'+dir_name+'.npy')\n",
    "    np.save(_, y_detect)"
   ]
  }
 ],
 "metadata": {
  "kernelspec": {
   "display_name": "Python 3",
   "language": "python",
   "name": "python3"
  },
  "language_info": {
   "codemirror_mode": {
    "name": "ipython",
    "version": 3
   },
   "file_extension": ".py",
   "mimetype": "text/x-python",
   "name": "python",
   "nbconvert_exporter": "python",
   "pygments_lexer": "ipython3",
   "version": "3.6.5"
  }
 },
 "nbformat": 4,
 "nbformat_minor": 2
}
