{
 "cells": [
  {
   "cell_type": "markdown",
   "metadata": {},
   "source": [
    "## Optimizing neural network parameters"
   ]
  },
  {
   "cell_type": "code",
   "execution_count": 1,
   "metadata": {},
   "outputs": [],
   "source": [
    "import util\n",
    "import platform\n",
    "from pathlib import Path\n",
    "from os import path\n",
    "\n",
    "import numpy as np\n",
    "from scipy.io import loadmat\n",
    "\n",
    "import yass\n",
    "from yass.augment import make\n",
    "from yass.neuralnetwork import NeuralNetDetector, NeuralNetTriage"
   ]
  },
  {
   "cell_type": "code",
   "execution_count": 2,
   "metadata": {},
   "outputs": [],
   "source": [
    "LOCAL = platform.system() == 'Darwin'\n",
    "\n",
    "if LOCAL:\n",
    "    yass.set_config(\"../config/49-local.yaml\")\n",
    "else:\n",
    "    yass.set_config(\"../config/49-lab.yaml\")\n",
    "\n",
    "# yass configuration\n",
    "home = Path.home()\n",
    "path_to_config = str(home / 'dev/private-yass/config/49-lab.yaml')\n",
    "path_to_ground_truth = str(home / 'data/groundtruth_ej49_data1_set1.mat')\n",
    "path_to_data = str(home / 'data/tmp')\n",
    "\n",
    "yass.set_config(path_to_config)\n",
    "CONFIG = yass.read_config()\n",
    "\n",
    "if LOCAL:\n",
    "    path_to_here = path.expanduser('~/dev/lab/private-yass/nnet')\n",
    "else:\n",
    "    path_to_here = path.expanduser('~/dev/private-yass/nnet')"
   ]
  },
  {
   "cell_type": "code",
   "execution_count": 3,
   "metadata": {},
   "outputs": [],
   "source": [
    "# load ground truth\n",
    "_ = loadmat(path_to_ground_truth)\n",
    "spike_train = np.hstack([_['spt_gt'], _['L_gt']])\n",
    "\n",
    "spike_train = spike_train[2:-1]\n",
    "spike_train[:, 1] = spike_train[:, 1] - 1\n",
    "\n",
    "# compensate alignment\n",
    "spike_train[:, 0] = spike_train[:, 0] + 10"
   ]
  },
  {
   "cell_type": "code",
   "execution_count": 4,
   "metadata": {},
   "outputs": [],
   "source": [
    "import itertools\n",
    "\n",
    "# training set parameters\n",
    "\n",
    "n_spikes = [20000]\n",
    "min_amplitude = [5]\n",
    "max_amplitude = [90]\n",
    "\n",
    "n_templates = np.max(spike_train[:,1]) + 1\n",
    "chosen_templates = [np.arange(n_templates)]\n",
    "\n",
    "# chosen_templates = [0, 1, 2, 3, 4, 5, 7, 8, 9, 11, 12, 13,\n",
    "#                     14, 15, 16, 17, 18, 19, 22, 23, 24, 25,\n",
    "#                     26, 27, 28, 29, 30, 31, 32, 33, 34, 35,\n",
    "#                     36, 37, 38, 39, 41, 42, 43, 44, 45, 46,\n",
    "#                     47, 48]\n",
    "\n",
    "set_parameters = itertools.product(n_spikes, min_amplitude,\n",
    "                                   max_amplitude, chosen_templates)\n",
    "\n",
    "# model parameters\n",
    "n_iter = 5000\n",
    "l2_reg_scale = [0.00000005, 0.0000005, 0.000005]\n",
    "filters_size = [[32, 16]]\n",
    "\n",
    "model_parameters = filters_size\n",
    "\n",
    "\n",
    "parameters = itertools.product(set_parameters, model_parameters)"
   ]
  },
  {
   "cell_type": "code",
   "execution_count": 5,
   "metadata": {
    "scrolled": false
   },
   "outputs": [
    {
     "name": "stderr",
     "output_type": "stream",
     "text": [
      "100%|██████████| 3/3 [00:08<00:00,  2.92s/it]\n"
     ]
    },
    {
     "ename": "AxisError",
     "evalue": "axis 2 is out of bounds for array of dimension 2",
     "output_type": "error",
     "traceback": [
      "\u001b[0;31m---------------------------------------------------------------------------\u001b[0m",
      "\u001b[0;31mAxisError\u001b[0m                                 Traceback (most recent call last)",
      "\u001b[0;32m<ipython-input-5-68fe817aa316>\u001b[0m in \u001b[0;36m<module>\u001b[0;34m()\u001b[0m\n\u001b[1;32m     13\u001b[0m                                       \u001b[0mmax_amplitude\u001b[0m\u001b[0;34m,\u001b[0m\u001b[0;34m\u001b[0m\u001b[0m\n\u001b[1;32m     14\u001b[0m                                       \u001b[0mn_spikes\u001b[0m\u001b[0;34m,\u001b[0m\u001b[0;34m\u001b[0m\u001b[0m\n\u001b[0;32m---> 15\u001b[0;31m                                       path_to_data)\n\u001b[0m\u001b[1;32m     16\u001b[0m \u001b[0;34m\u001b[0m\u001b[0m\n\u001b[1;32m     17\u001b[0m     \u001b[0;31m# detector\u001b[0m\u001b[0;34m\u001b[0m\u001b[0;34m\u001b[0m\u001b[0m\n",
      "\u001b[0;32m~/dev/yass/src/yass/augment/make.py\u001b[0m in \u001b[0;36mtraining_data\u001b[0;34m(CONFIG, spike_train, chosen_templates_indexes, min_amp, max_amp, n_isolated_spikes, data_folder, noise_ratio, collision_ratio, misalign_ratio, misalign_ratio2, multi_channel)\u001b[0m\n\u001b[1;32m     90\u001b[0m     templates, templates_uncropped = preprocess(CONFIG, spike_train,\n\u001b[1;32m     91\u001b[0m                                                 \u001b[0mpath_to_data\u001b[0m\u001b[0;34m,\u001b[0m\u001b[0;34m\u001b[0m\u001b[0m\n\u001b[0;32m---> 92\u001b[0;31m                                                 chosen_templates_indexes)\n\u001b[0m\u001b[1;32m     93\u001b[0m \u001b[0;34m\u001b[0m\u001b[0m\n\u001b[1;32m     94\u001b[0m     \u001b[0m_\u001b[0m\u001b[0;34m,\u001b[0m \u001b[0m_\u001b[0m\u001b[0;34m,\u001b[0m \u001b[0mn_neigh\u001b[0m \u001b[0;34m=\u001b[0m \u001b[0mtemplates\u001b[0m\u001b[0;34m.\u001b[0m\u001b[0mshape\u001b[0m\u001b[0;34m\u001b[0m\u001b[0m\n",
      "\u001b[0;32m~/dev/yass/src/yass/templates/preprocess.py\u001b[0m in \u001b[0;36mpreprocess\u001b[0;34m(CONFIG, spike_train, path_to_data, chosen_templates_indexes)\u001b[0m\n\u001b[1;32m     45\u001b[0m     templates_uncropped = choose_templates(templates_uncropped,\n\u001b[1;32m     46\u001b[0m                                            \u001b[0mchosen_templates_indexes\u001b[0m\u001b[0;34m,\u001b[0m\u001b[0;34m\u001b[0m\u001b[0m\n\u001b[0;32m---> 47\u001b[0;31m                                            minimum_amplitude=4)\n\u001b[0m\u001b[1;32m     48\u001b[0m \u001b[0;34m\u001b[0m\u001b[0m\n\u001b[1;32m     49\u001b[0m     \u001b[0;32mif\u001b[0m \u001b[0mtemplates_uncropped\u001b[0m\u001b[0;34m.\u001b[0m\u001b[0mshape\u001b[0m\u001b[0;34m[\u001b[0m\u001b[0;36m0\u001b[0m\u001b[0;34m]\u001b[0m \u001b[0;34m==\u001b[0m \u001b[0;36m0\u001b[0m\u001b[0;34m:\u001b[0m\u001b[0;34m\u001b[0m\u001b[0m\n",
      "\u001b[0;32m~/dev/yass/src/yass/templates/choose.py\u001b[0m in \u001b[0;36mchoose_templates\u001b[0;34m(templates, chosen_templates_indexes, minimum_amplitude)\u001b[0m\n\u001b[1;32m     17\u001b[0m                          'exist')\n\u001b[1;32m     18\u001b[0m \u001b[0;34m\u001b[0m\u001b[0m\n\u001b[0;32m---> 19\u001b[0;31m     \u001b[0mamplitudes\u001b[0m \u001b[0;34m=\u001b[0m \u001b[0mnp\u001b[0m\u001b[0;34m.\u001b[0m\u001b[0mmax\u001b[0m\u001b[0;34m(\u001b[0m\u001b[0mnp\u001b[0m\u001b[0;34m.\u001b[0m\u001b[0mabs\u001b[0m\u001b[0;34m(\u001b[0m\u001b[0mchosen_templates\u001b[0m\u001b[0;34m)\u001b[0m\u001b[0;34m,\u001b[0m \u001b[0maxis\u001b[0m\u001b[0;34m=\u001b[0m\u001b[0;34m(\u001b[0m\u001b[0;36m1\u001b[0m\u001b[0;34m,\u001b[0m \u001b[0;36m2\u001b[0m\u001b[0;34m)\u001b[0m\u001b[0;34m)\u001b[0m\u001b[0;34m\u001b[0m\u001b[0m\n\u001b[0m\u001b[1;32m     20\u001b[0m     \u001b[0mbig_templates_indexes\u001b[0m \u001b[0;34m=\u001b[0m \u001b[0mamplitudes\u001b[0m \u001b[0;34m>\u001b[0m \u001b[0mminimum_amplitude\u001b[0m\u001b[0;34m\u001b[0m\u001b[0m\n\u001b[1;32m     21\u001b[0m     \u001b[0mbig_templates\u001b[0m \u001b[0;34m=\u001b[0m \u001b[0mchosen_templates\u001b[0m\u001b[0;34m[\u001b[0m\u001b[0mbig_templates_indexes\u001b[0m\u001b[0;34m]\u001b[0m\u001b[0;34m\u001b[0m\u001b[0m\n",
      "\u001b[0;32m~/miniconda3/lib/python3.6/site-packages/numpy/core/fromnumeric.py\u001b[0m in \u001b[0;36mamax\u001b[0;34m(a, axis, out, keepdims)\u001b[0m\n\u001b[1;32m   2318\u001b[0m \u001b[0;34m\u001b[0m\u001b[0m\n\u001b[1;32m   2319\u001b[0m     return _methods._amax(a, axis=axis,\n\u001b[0;32m-> 2320\u001b[0;31m                           out=out, **kwargs)\n\u001b[0m\u001b[1;32m   2321\u001b[0m \u001b[0;34m\u001b[0m\u001b[0m\n\u001b[1;32m   2322\u001b[0m \u001b[0;34m\u001b[0m\u001b[0m\n",
      "\u001b[0;32m~/miniconda3/lib/python3.6/site-packages/numpy/core/_methods.py\u001b[0m in \u001b[0;36m_amax\u001b[0;34m(a, axis, out, keepdims)\u001b[0m\n\u001b[1;32m     24\u001b[0m \u001b[0;31m# small reductions\u001b[0m\u001b[0;34m\u001b[0m\u001b[0;34m\u001b[0m\u001b[0m\n\u001b[1;32m     25\u001b[0m \u001b[0;32mdef\u001b[0m \u001b[0m_amax\u001b[0m\u001b[0;34m(\u001b[0m\u001b[0ma\u001b[0m\u001b[0;34m,\u001b[0m \u001b[0maxis\u001b[0m\u001b[0;34m=\u001b[0m\u001b[0;32mNone\u001b[0m\u001b[0;34m,\u001b[0m \u001b[0mout\u001b[0m\u001b[0;34m=\u001b[0m\u001b[0;32mNone\u001b[0m\u001b[0;34m,\u001b[0m \u001b[0mkeepdims\u001b[0m\u001b[0;34m=\u001b[0m\u001b[0;32mFalse\u001b[0m\u001b[0;34m)\u001b[0m\u001b[0;34m:\u001b[0m\u001b[0;34m\u001b[0m\u001b[0m\n\u001b[0;32m---> 26\u001b[0;31m     \u001b[0;32mreturn\u001b[0m \u001b[0mumr_maximum\u001b[0m\u001b[0;34m(\u001b[0m\u001b[0ma\u001b[0m\u001b[0;34m,\u001b[0m \u001b[0maxis\u001b[0m\u001b[0;34m,\u001b[0m \u001b[0;32mNone\u001b[0m\u001b[0;34m,\u001b[0m \u001b[0mout\u001b[0m\u001b[0;34m,\u001b[0m \u001b[0mkeepdims\u001b[0m\u001b[0;34m)\u001b[0m\u001b[0;34m\u001b[0m\u001b[0m\n\u001b[0m\u001b[1;32m     27\u001b[0m \u001b[0;34m\u001b[0m\u001b[0m\n\u001b[1;32m     28\u001b[0m \u001b[0;32mdef\u001b[0m \u001b[0m_amin\u001b[0m\u001b[0;34m(\u001b[0m\u001b[0ma\u001b[0m\u001b[0;34m,\u001b[0m \u001b[0maxis\u001b[0m\u001b[0;34m=\u001b[0m\u001b[0;32mNone\u001b[0m\u001b[0;34m,\u001b[0m \u001b[0mout\u001b[0m\u001b[0;34m=\u001b[0m\u001b[0;32mNone\u001b[0m\u001b[0;34m,\u001b[0m \u001b[0mkeepdims\u001b[0m\u001b[0;34m=\u001b[0m\u001b[0;32mFalse\u001b[0m\u001b[0;34m)\u001b[0m\u001b[0;34m:\u001b[0m\u001b[0;34m\u001b[0m\u001b[0m\n",
      "\u001b[0;31mAxisError\u001b[0m: axis 2 is out of bounds for array of dimension 2"
     ]
    }
   ],
   "source": [
    "for (n_spikes, min_amplitude,\n",
    "     max_amplitude, chosen_templates), filters in parameters:\n",
    "    \n",
    "    dir_name = util.directory()\n",
    "\n",
    "    # make training data\n",
    "    (x_detect, y_detect,\n",
    "     x_triage, y_triage,\n",
    "     x_ae, y_ae) = make.training_data(CONFIG,\n",
    "                                      spike_train,\n",
    "                                      chosen_templates,\n",
    "                                      min_amplitude,\n",
    "                                      max_amplitude,\n",
    "                                      n_spikes,\n",
    "                                      path_to_data)\n",
    "    \n",
    "    # detector\n",
    "    detect_name = path.join(path_to_here, 'models',\n",
    "                            'detect-'+dir_name+'.ckpt')\n",
    "\n",
    "    _, waveform_length, n_neighbors =  x_detect.shape\n",
    "\n",
    "    detector = NeuralNetDetector(detect_name, filters,\n",
    "                                 waveform_length, n_neighbors,\n",
    "                                 threshold=0.5,\n",
    "                                 channel_index=CONFIG.channel_index,\n",
    "                                 n_iter=n_iter)\n",
    "\n",
    "    detector.fit(x_detect, y_detect)\n",
    "    \n",
    "    # triage\n",
    "    triage_name = path.join(path_to_here, 'models',\n",
    "                            'triage-'+dir_name+'.ckpt')\n",
    "\n",
    "    _, waveform_length, n_neighbors = x_triage.shape\n",
    "\n",
    "    triage = NeuralNetTriage(triage_name, filters,\n",
    "                             waveform_length=waveform_length,\n",
    "                             threshold=0.5,\n",
    "                             n_neighbors=n_neighbors,\n",
    "                             n_iter=n_iter)\n",
    "    \n",
    "    triage.fit(x_triage, y_triage)\n",
    "    \n",
    "    # save test sets\n",
    "    _ = path.join(path_to_here, 'models', 'x-triage-'+dir_name+'.npy')\n",
    "    np.save(_, x_triage)\n",
    "    \n",
    "    _ = path.join(path_to_here, 'models', 'y-triage-'+dir_name+'.npy')\n",
    "    np.save(_, y_triage)\n",
    "    \n",
    "    _ = path.join(path_to_here, 'models', 'x-detect-'+dir_name+'.npy')\n",
    "    np.save(_, x_detect)\n",
    "    \n",
    "    _ = path.join(path_to_here, 'models', 'y-detect-'+dir_name+'.npy')\n",
    "    np.save(_, y_detect)\n",
    "\n",
    "    \n",
    "    print(detect_name, triage_name, n_spikes,\n",
    "          min_amplitude, max_amplitude, filters)"
   ]
  },
  {
   "cell_type": "code",
   "execution_count": null,
   "metadata": {},
   "outputs": [],
   "source": []
  }
 ],
 "metadata": {
  "kernelspec": {
   "display_name": "Python 3",
   "language": "python",
   "name": "python3"
  },
  "language_info": {
   "codemirror_mode": {
    "name": "ipython",
    "version": 3
   },
   "file_extension": ".py",
   "mimetype": "text/x-python",
   "name": "python",
   "nbconvert_exporter": "python",
   "pygments_lexer": "ipython3",
   "version": "3.6.5"
  }
 },
 "nbformat": 4,
 "nbformat_minor": 2
}
