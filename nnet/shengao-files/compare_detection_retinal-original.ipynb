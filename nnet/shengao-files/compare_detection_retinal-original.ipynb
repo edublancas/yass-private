{
 "cells": [
  {
   "cell_type": "code",
   "execution_count": 1,
   "metadata": {},
   "outputs": [
    {
     "name": "stderr",
     "output_type": "stream",
     "text": [
      "/home/Edu/miniconda3/lib/python3.6/site-packages/sklearn/cross_validation.py:41: DeprecationWarning: This module was deprecated in version 0.18 in favor of the model_selection module into which all the refactored classes and functions are moved. Also note that the interface of the new CV iterators are different from that of this module. This module will be removed in 0.20.\n",
      "  \"This module will be removed in 0.20.\", DeprecationWarning)\n"
     ]
    }
   ],
   "source": [
    "#loading packages\n",
    "#!!!! this code was written with the March 23 version of YASS. The only thing to look at is the augment module where \n",
    "#you may have to import your new refactored functions.\n",
    "\n",
    "%matplotlib inline\n",
    "from __future__ import print_function\n",
    "import matplotlib\n",
    "import numpy as np\n",
    "import matplotlib.pyplot as plt\n",
    "import sys, os\n",
    "import scipy.io as sio\n",
    "from scipy import stats\n",
    "import re\n",
    "import pandas as pd\n",
    "import random\n",
    "import pickle\n",
    "from scipy.stats import mode\n",
    "from sklearn.utils import shuffle\n",
    "from sklearn.cross_validation import KFold\n",
    "import pandas as pd\n",
    "import datetime as dt\n",
    "from numpy import unravel_index\n",
    "import math\n",
    "from scipy.spatial.distance import pdist, squareform\n",
    "from scipy.signal import butter, lfilter\n",
    "import tensorflow as tf\n",
    "import yass\n",
    "from yass import read_config\n",
    "from yass import preprocess\n",
    "import matplotlib.pyplot as plt"
   ]
  },
  {
   "cell_type": "code",
   "execution_count": 2,
   "metadata": {},
   "outputs": [],
   "source": [
    "yass.set_config(\"../../config/49-lab.yaml\")\n",
    "CONFIG = read_config()"
   ]
  },
  {
   "cell_type": "markdown",
   "metadata": {},
   "source": [
    "1.multichannel NN"
   ]
  },
  {
   "cell_type": "code",
   "execution_count": 3,
   "metadata": {},
   "outputs": [],
   "source": [
    "#function for running multichannel NN on the simulated retinal data\n",
    "def run_multinn(x_clear,x_noise,NND,path_to_detector_model,both=True):\n",
    "    with tf.Session() as sess:\n",
    "        #init_op = tf.global_variables_initializer()\n",
    "        #sess.run(init_op)\n",
    "        NND.saver.restore(sess, path_to_detector_model)\n",
    "        K1, K2 = NND.filters_size\n",
    "        x_tf = tf.placeholder(\"float\", [None, None, None])\n",
    "        # save neighbor channel index\n",
    "\n",
    "        # Temporal shape of input\n",
    "        T = tf.shape(x_tf)[1]\n",
    "\n",
    "        # input tensor into CNN\n",
    "        x_cnn_tf = tf.expand_dims(x_tf, -1)\n",
    "        \n",
    "        W1 = NND.vars_dict['W1']\n",
    "        b1 = NND.vars_dict['b1']\n",
    "        W11 = NND.vars_dict['W11']\n",
    "        b11 = NND.vars_dict['b11']\n",
    "        W2 = NND.vars_dict['W2']\n",
    "        b2 = NND.vars_dict['b2']\n",
    "\n",
    "\n",
    "        layer1 = tf.nn.relu(conv2d(tf.expand_dims(x_tf, -1), W1) + b1)\n",
    "\n",
    "\n",
    "        layer11 = tf.nn.relu(conv2d(layer1, W11) + b11)\n",
    "\n",
    "\n",
    "        o_layer =tf.sigmoid( tf.squeeze(conv2d_VALID(layer11, W2) + b2))\n",
    "\n",
    "        if both:\n",
    "            prob_clear_multi_nn= sess.run(o_layer,feed_dict={x_tf: x_clear})\n",
    "            prob_noise_multi_nn= sess.run(o_layer,feed_dict={x_tf: x_noise})\n",
    "        else: \n",
    "            prob_clear_multi_nn= sess.run(o_layer,feed_dict={x_tf: x_clear})\n",
    "            prob_noise_multi_nn=prob_clear_multi_nn\n",
    "        return(prob_clear_multi_nn,prob_noise_multi_nn)\n",
    "\n"
   ]
  },
  {
   "cell_type": "code",
   "execution_count": 4,
   "metadata": {},
   "outputs": [],
   "source": [
    "#get noise fpr-thres: we run the algorithm on noise data where we vary the threshold to obtain different \n",
    "# false positive rates. Then for a fixed fpr, we only need to look at the corresponding threshold to obtain the tpr.\n",
    "from yass.neuralnetwork import NeuralNetDetector\n",
    "from yass.geometry import make_channel_index\n",
    "from yass.neuralnetwork.utils import (weight_variable, bias_variable, conv2d,\n",
    "                                      conv2d_VALID, max_pool)\n",
    "\n",
    "path_to_detector_model='/home/Edu/dev/private-yass/nnet/models/detect-27-Jun-2018@18-10-46.ckpt'\n",
    "\n",
    "NND=NeuralNetDetector.load(path_to_detector_model, 0.5, CONFIG.channel_index)\n",
    "    \n",
    "names= ['clear_accuracy','n_false_pos','false_pos_rate']\n",
    "\n",
    "data=sio.loadmat('retinal_testing_may19.mat')\n",
    "noise=data['noise']\n",
    "prob_clear_multi_nn,prob_noise_multi_nn = run_multinn(noise,noise,NND,path_to_detector_model,False)\n",
    "\n",
    "roc = pd.DataFrame(columns=names)"
   ]
  },
  {
   "cell_type": "code",
   "execution_count": 6,
   "metadata": {},
   "outputs": [
    {
     "data": {
      "image/png": "[encoded data removed]",
      "text/plain": [
       "<Figure size 432x288 with 1 Axes>"
      ]
     },
     "metadata": {},
     "output_type": "display_data"
    }
   ],
   "source": [
    "#yass noise-thres\n",
    "for i in np.linspace(0,1,1000):\n",
    "    clear_accuracy= np.mean(prob_clear_multi_nn.max(axis=1)>=i)\n",
    "    false_pos_rate= np.mean(prob_noise_multi_nn.max(axis=1)>=i)\n",
    "    n_false_pos=np.sum(prob_noise_multi_nn.max(axis=1)>=i)\n",
    "    result= np.array([clear_accuracy,n_false_pos,false_pos_rate])\n",
    "    result = np.reshape(result,[1,len(result)])\n",
    "    df = pd.DataFrame(result,index= [i], columns=names)\n",
    "    roc = roc.append(df) \n",
    "\n",
    "roc.to_csv('yass_noise.csv', index=True, header=True)\n",
    "roc= pd.read_csv('yass_noise.csv',index_col=False)\n",
    "roc=roc.rename(columns={'Unnamed: 0': 'threshold'})\n",
    "\n",
    "\n",
    "#show the fpr-threshold plot\n",
    "from scipy import interpolate\n",
    "x=roc['false_pos_rate']\n",
    "y=roc['threshold']\n",
    "f = interpolate.interp1d(x, y,kind='linear')\n",
    "xnew = np.arange(0.01, 1, 0.00001)\n",
    "ynew = f(xnew)  \n",
    "plt.plot(x, y, 'o', xnew, ynew, '-')\n",
    "plt.ylim([0,1])\n",
    "plt.plot(0.01,f(0.01),'x',linewidth=1,color='r')\n",
    "plt.plot(0.05,f(0.05),'x',linewidth=1,color='r')\n",
    "plt.plot(0.1,f(0.1),'x',linewidth=1,color='r')\n",
    "plt.show()"
   ]
  },
  {
   "cell_type": "code",
   "execution_count": 7,
   "metadata": {
    "scrolled": true
   },
   "outputs": [
    {
     "name": "stdout",
     "output_type": "stream",
     "text": [
      "[0.28528529 0.07957958 0.03538833]\n"
     ]
    }
   ],
   "source": [
    "#generate roc table for multi-nn\n",
    "from yass.neuralnetwork import NeuralNetDetector\n",
    "# from yass.neuralnetwork.get_nn_output import _get_o_layer\n",
    "from yass.geometry import make_channel_index\n",
    "from yass.neuralnetwork.utils import (weight_variable, bias_variable, conv2d,\n",
    "                                      conv2d_VALID, max_pool)\n",
    "\n",
    "path_to_detector_model='/home/Edu/dev/private-yass/nnet/models/detect-27-Jun-2018@18-10-46.ckpt'\n",
    "NND=NeuralNetDetector.load(path_to_detector_model, 0.5, CONFIG.channel_index)\n",
    "\n",
    "names= ['clear_accuracy','n_false_pos','false_pos_rate']\n",
    "thres=np.array([f(0.01),f(0.05),f(0.1)])\n",
    "print (thres)\n",
    "data=sio.loadmat('retinal_testing_may19.mat')\n",
    "x_clear=data['x_clean']\n",
    "ids=data['ids'][0]\n",
    "\n",
    "for cluster_id in np.unique(ids): \n",
    "    cluster=x_clear[ids==cluster_id]\n",
    "    prob_clear_multi_nn,prob_noise_multi_nn = run_multinn(cluster,cluster,NND,path_to_detector_model,both=False)\n",
    "    roc = pd.DataFrame(columns=names)\n",
    "    for i in thres:\n",
    "        clear_accuracy= np.mean(prob_clear_multi_nn.max(axis=1)>=i)\n",
    "        false_pos_rate= np.mean(prob_noise_multi_nn.max(axis=1)>=i)\n",
    "        n_false_pos=np.sum(prob_noise_multi_nn.max(axis=1)>=i)\n",
    "        result= np.array([clear_accuracy,n_false_pos,false_pos_rate])\n",
    "        result = np.reshape(result,[1,len(result)])\n",
    "        df = pd.DataFrame(result,index= [i], columns=names)\n",
    "        roc = roc.append(df) \n",
    "    roc.to_csv('multinn%s.csv'%(int(cluster_id)), index=True, header=True)\n",
    "#     print (cluster_id)"
   ]
  },
  {
   "cell_type": "markdown",
   "metadata": {},
   "source": [
    "2.threshold detection"
   ]
  },
  {
   "cell_type": "code",
   "execution_count": 8,
   "metadata": {
    "scrolled": false
   },
   "outputs": [
    {
     "ename": "KeyboardInterrupt",
     "evalue": "",
     "output_type": "error",
     "traceback": [
      "\u001b[0;31m---------------------------------------------------------------------------\u001b[0m",
      "\u001b[0;31mKeyboardInterrupt\u001b[0m                         Traceback (most recent call last)",
      "\u001b[0;32m<ipython-input-8-b27ae3413258>\u001b[0m in \u001b[0;36m<module>\u001b[0;34m()\u001b[0m\n\u001b[1;32m     17\u001b[0m     \u001b[0mfp\u001b[0m\u001b[0;34m=\u001b[0m\u001b[0mnp\u001b[0m\u001b[0;34m.\u001b[0m\u001b[0mzeros\u001b[0m\u001b[0;34m(\u001b[0m\u001b[0mnoise\u001b[0m\u001b[0;34m.\u001b[0m\u001b[0mshape\u001b[0m\u001b[0;34m[\u001b[0m\u001b[0;36m0\u001b[0m\u001b[0;34m]\u001b[0m\u001b[0;34m)\u001b[0m\u001b[0;34m\u001b[0m\u001b[0m\n\u001b[1;32m     18\u001b[0m     \u001b[0mclear_accuracy\u001b[0m\u001b[0;34m=\u001b[0m\u001b[0;36m0\u001b[0m\u001b[0;34m\u001b[0m\u001b[0m\n\u001b[0;32m---> 19\u001b[0;31m     \u001b[0mfalse_pos_rate\u001b[0m\u001b[0;34m=\u001b[0m\u001b[0mnp\u001b[0m\u001b[0;34m.\u001b[0m\u001b[0mmean\u001b[0m\u001b[0;34m(\u001b[0m\u001b[0mnp\u001b[0m\u001b[0;34m.\u001b[0m\u001b[0mabs\u001b[0m\u001b[0;34m(\u001b[0m\u001b[0mnoise\u001b[0m\u001b[0;34m)\u001b[0m\u001b[0;34m.\u001b[0m\u001b[0mmax\u001b[0m\u001b[0;34m(\u001b[0m\u001b[0maxis\u001b[0m\u001b[0;34m=\u001b[0m\u001b[0;34m(\u001b[0m\u001b[0;36m1\u001b[0m\u001b[0;34m,\u001b[0m\u001b[0;36m2\u001b[0m\u001b[0;34m)\u001b[0m\u001b[0;34m)\u001b[0m\u001b[0;34m>=\u001b[0m\u001b[0mth\u001b[0m\u001b[0;34m)\u001b[0m\u001b[0;34m\u001b[0m\u001b[0m\n\u001b[0m\u001b[1;32m     20\u001b[0m     \u001b[0mn_false_pos\u001b[0m\u001b[0;34m=\u001b[0m\u001b[0;36m0\u001b[0m\u001b[0;34m\u001b[0m\u001b[0m\n\u001b[1;32m     21\u001b[0m     \u001b[0mresult\u001b[0m\u001b[0;34m=\u001b[0m \u001b[0mnp\u001b[0m\u001b[0;34m.\u001b[0m\u001b[0marray\u001b[0m\u001b[0;34m(\u001b[0m\u001b[0;34m[\u001b[0m\u001b[0mclear_accuracy\u001b[0m\u001b[0;34m,\u001b[0m\u001b[0mn_false_pos\u001b[0m\u001b[0;34m,\u001b[0m\u001b[0mfalse_pos_rate\u001b[0m\u001b[0;34m]\u001b[0m\u001b[0;34m)\u001b[0m\u001b[0;34m\u001b[0m\u001b[0m\n",
      "\u001b[0;31mKeyboardInterrupt\u001b[0m: "
     ]
    }
   ],
   "source": [
    "#get noise fpr-thres for threshold detection\n",
    "from yass.neuralnetwork import NeuralNetDetector\n",
    "# from yass.neuralnetwork.get_nn_output import _get_o_layer\n",
    "from yass.geometry import make_channel_index\n",
    "from yass.neuralnetwork.utils import (weight_variable, bias_variable, conv2d,\n",
    "                                      conv2d_VALID, max_pool)\n",
    "\n",
    "names= ['clear_accuracy','n_false_pos','false_pos_rate']\n",
    "\n",
    "data=sio.loadmat('retinal_testing_may19.mat')\n",
    "noise=data['noise']\n",
    "upper=np.max(np.abs(noise))\n",
    "roc = pd.DataFrame(columns=names)\n",
    "\n",
    "for i in np.linspace(0,1,3000):\n",
    "    th=upper*i\n",
    "    fp=np.zeros(noise.shape[0])\n",
    "    clear_accuracy=0\n",
    "    false_pos_rate=np.mean(np.abs(noise).max(axis=(1,2))>=th)\n",
    "    n_false_pos=0\n",
    "    result= np.array([clear_accuracy,n_false_pos,false_pos_rate])\n",
    "    result = np.reshape(result,[1,len(result)])\n",
    "    df = pd.DataFrame(result,index= [i], columns=names)\n",
    "    roc = roc.append(df) \n",
    "#     print (i)\n",
    "\n",
    "roc.to_csv('thres_noise.csv', index=True, header=True)"
   ]
  },
  {
   "cell_type": "code",
   "execution_count": 9,
   "metadata": {
    "scrolled": true
   },
   "outputs": [
    {
     "data": {
      "image/png": "[encoded data removed]",
      "text/plain": [
       "<Figure size 432x288 with 1 Axes>"
      ]
     },
     "metadata": {},
     "output_type": "display_data"
    }
   ],
   "source": [
    "#plot fpr-thres \n",
    "roc= pd.read_csv('thres_noise.csv',index_col=False)\n",
    "roc=roc.rename(columns={'Unnamed: 0': 'threshold'})\n",
    "\n",
    "from scipy import interpolate\n",
    "\n",
    "x=roc['false_pos_rate']\n",
    "\n",
    "y=roc['threshold']\n",
    "\n",
    "f = interpolate.interp1d(x, y,kind='linear')\n",
    "\n",
    "xnew = np.arange(0.005, 1, 0.00001)\n",
    "ynew = f(xnew) \n",
    "\n",
    "\n",
    "plt.plot(x, y, 'o', xnew, ynew, '-')\n",
    "\n",
    "plt.plot(0.01,f(0.01),'x',linewidth=1,color='r')\n",
    "plt.plot(0.05,f(0.05),'x',linewidth=1,color='r')\n",
    "plt.plot(0.1,f(0.1),'x',linewidth=1,color='r')\n",
    "\n",
    "\n",
    "plt.show()"
   ]
  },
  {
   "cell_type": "code",
   "execution_count": 10,
   "metadata": {
    "scrolled": true
   },
   "outputs": [
    {
     "name": "stdout",
     "output_type": "stream",
     "text": [
      "[4.77788885 4.38100678 4.20960269]\n"
     ]
    }
   ],
   "source": [
    "#evaluating threshold detection method\n",
    "data=sio.loadmat('retinal_testing_may19.mat')\n",
    "x_clear=data['x_clean']\n",
    "ids=data['ids'][0]\n",
    "noise=data['noise']\n",
    "upper=np.max(np.abs(noise))\n",
    "thres=np.array([f(0.01),f(0.05),f(0.1)])*upper\n",
    "print(thres)\n",
    "names= ['clear_accuracy','n_false_pos','false_pos_rate']\n",
    "\n",
    "for cluster_id in np.unique(ids): \n",
    "    cluster=x_clear[ids==cluster_id]\n",
    "    noise=cluster\n",
    "    #upper=np.max(np.abs(cluster))\n",
    "    roc = pd.DataFrame(columns=names)\n",
    "    \n",
    "    #cluster=cluster[:,47-r:47+r+1,:]\n",
    "\n",
    "    for i in thres:\n",
    "        th=i\n",
    "\n",
    "        clear_accuracy=np.mean(np.abs(cluster).max(axis=(1,2))>=th)\n",
    "        false_pos_rate=np.mean(np.abs(noise).max(axis=(1,2))>=th)\n",
    "        n_false_pos=np.sum(np.abs(noise).max(axis=(1,2))>=th)\n",
    "\n",
    "\n",
    "\n",
    "        result= np.array([clear_accuracy,n_false_pos,false_pos_rate])\n",
    "        result = np.reshape(result,[1,len(result)])\n",
    "        df = pd.DataFrame(result,index= [i], columns=names)\n",
    "        roc = roc.append(df) \n",
    "    roc.to_csv('thres%s.csv'%(int(cluster_id)), index=True, header=True)\n",
    "#     print (cluster_id)"
   ]
  },
  {
   "cell_type": "code",
   "execution_count": null,
   "metadata": {},
   "outputs": [],
   "source": []
  },
  {
   "cell_type": "code",
   "execution_count": null,
   "metadata": {},
   "outputs": [],
   "source": []
  },
  {
   "cell_type": "markdown",
   "metadata": {},
   "source": [
    "3.making final plots"
   ]
  },
  {
   "cell_type": "code",
   "execution_count": 22,
   "metadata": {},
   "outputs": [
    {
     "ename": "FileNotFoundError",
     "evalue": "File b'./multinn0.csv' does not exist",
     "output_type": "error",
     "traceback": [
      "\u001b[0;31m---------------------------------------------------------------------------\u001b[0m",
      "\u001b[0;31mFileNotFoundError\u001b[0m                         Traceback (most recent call last)",
      "\u001b[0;32m<ipython-input-22-31a2ce19b120>\u001b[0m in \u001b[0;36m<module>\u001b[0;34m()\u001b[0m\n\u001b[1;32m     15\u001b[0m \u001b[0;34m\u001b[0m\u001b[0m\n\u001b[1;32m     16\u001b[0m     \u001b[0;32mfor\u001b[0m \u001b[0mi\u001b[0m \u001b[0;32min\u001b[0m \u001b[0mids\u001b[0m\u001b[0;34m:\u001b[0m\u001b[0;34m\u001b[0m\u001b[0m\n\u001b[0;32m---> 17\u001b[0;31m         \u001b[0mexec\u001b[0m \u001b[0;34m(\u001b[0m\u001b[0;34m(\u001b[0m\u001b[0;34m\"roc_%s_%s=pd.read_csv(os.path.join(path_to_results, '%s%s.csv'),index_col=False)\"\u001b[0m\u001b[0;34m)\u001b[0m\u001b[0;34m%\u001b[0m\u001b[0;34m(\u001b[0m\u001b[0mNN\u001b[0m\u001b[0;34m,\u001b[0m\u001b[0mi\u001b[0m\u001b[0;34m,\u001b[0m\u001b[0mNN\u001b[0m\u001b[0;34m,\u001b[0m\u001b[0mi\u001b[0m\u001b[0;34m)\u001b[0m\u001b[0;34m)\u001b[0m\u001b[0;34m\u001b[0m\u001b[0m\n\u001b[0m\u001b[1;32m     18\u001b[0m         \u001b[0mexec\u001b[0m \u001b[0;34m(\u001b[0m\u001b[0;34m(\u001b[0m\u001b[0;34m\"roc_%s_%s=roc_%s_%s.rename(columns={'Unnamed: 0': 'threshold'})\"\u001b[0m\u001b[0;34m)\u001b[0m\u001b[0;34m%\u001b[0m\u001b[0;34m(\u001b[0m\u001b[0mNN\u001b[0m\u001b[0;34m,\u001b[0m\u001b[0mi\u001b[0m\u001b[0;34m,\u001b[0m\u001b[0mNN\u001b[0m\u001b[0;34m,\u001b[0m\u001b[0mi\u001b[0m\u001b[0;34m)\u001b[0m\u001b[0;34m)\u001b[0m\u001b[0;34m\u001b[0m\u001b[0m\n\u001b[1;32m     19\u001b[0m         \u001b[0mexec\u001b[0m \u001b[0;34m(\u001b[0m\u001b[0;34m(\u001b[0m\u001b[0;34m\"roc_%s_%s=roc_%s_%s.sort_values(by='threshold',ascending=False)\"\u001b[0m\u001b[0;34m)\u001b[0m\u001b[0;34m%\u001b[0m\u001b[0;34m(\u001b[0m\u001b[0mNN\u001b[0m\u001b[0;34m,\u001b[0m\u001b[0mi\u001b[0m\u001b[0;34m,\u001b[0m\u001b[0mNN\u001b[0m\u001b[0;34m,\u001b[0m\u001b[0mi\u001b[0m\u001b[0;34m)\u001b[0m\u001b[0;34m)\u001b[0m\u001b[0;34m\u001b[0m\u001b[0m\n",
      "\u001b[0;32m<string>\u001b[0m in \u001b[0;36m<module>\u001b[0;34m()\u001b[0m\n",
      "\u001b[0;32m~/miniconda3/lib/python3.6/site-packages/pandas/io/parsers.py\u001b[0m in \u001b[0;36mparser_f\u001b[0;34m(filepath_or_buffer, sep, delimiter, header, names, index_col, usecols, squeeze, prefix, mangle_dupe_cols, dtype, engine, converters, true_values, false_values, skipinitialspace, skiprows, nrows, na_values, keep_default_na, na_filter, verbose, skip_blank_lines, parse_dates, infer_datetime_format, keep_date_col, date_parser, dayfirst, iterator, chunksize, compression, thousands, decimal, lineterminator, quotechar, quoting, escapechar, comment, encoding, dialect, tupleize_cols, error_bad_lines, warn_bad_lines, skipfooter, doublequote, delim_whitespace, low_memory, memory_map, float_precision)\u001b[0m\n\u001b[1;32m    676\u001b[0m                     skip_blank_lines=skip_blank_lines)\n\u001b[1;32m    677\u001b[0m \u001b[0;34m\u001b[0m\u001b[0m\n\u001b[0;32m--> 678\u001b[0;31m         \u001b[0;32mreturn\u001b[0m \u001b[0m_read\u001b[0m\u001b[0;34m(\u001b[0m\u001b[0mfilepath_or_buffer\u001b[0m\u001b[0;34m,\u001b[0m \u001b[0mkwds\u001b[0m\u001b[0;34m)\u001b[0m\u001b[0;34m\u001b[0m\u001b[0m\n\u001b[0m\u001b[1;32m    679\u001b[0m \u001b[0;34m\u001b[0m\u001b[0m\n\u001b[1;32m    680\u001b[0m     \u001b[0mparser_f\u001b[0m\u001b[0;34m.\u001b[0m\u001b[0m__name__\u001b[0m \u001b[0;34m=\u001b[0m \u001b[0mname\u001b[0m\u001b[0;34m\u001b[0m\u001b[0m\n",
      "\u001b[0;32m~/miniconda3/lib/python3.6/site-packages/pandas/io/parsers.py\u001b[0m in \u001b[0;36m_read\u001b[0;34m(filepath_or_buffer, kwds)\u001b[0m\n\u001b[1;32m    438\u001b[0m \u001b[0;34m\u001b[0m\u001b[0m\n\u001b[1;32m    439\u001b[0m     \u001b[0;31m# Create the parser.\u001b[0m\u001b[0;34m\u001b[0m\u001b[0;34m\u001b[0m\u001b[0m\n\u001b[0;32m--> 440\u001b[0;31m     \u001b[0mparser\u001b[0m \u001b[0;34m=\u001b[0m \u001b[0mTextFileReader\u001b[0m\u001b[0;34m(\u001b[0m\u001b[0mfilepath_or_buffer\u001b[0m\u001b[0;34m,\u001b[0m \u001b[0;34m**\u001b[0m\u001b[0mkwds\u001b[0m\u001b[0;34m)\u001b[0m\u001b[0;34m\u001b[0m\u001b[0m\n\u001b[0m\u001b[1;32m    441\u001b[0m \u001b[0;34m\u001b[0m\u001b[0m\n\u001b[1;32m    442\u001b[0m     \u001b[0;32mif\u001b[0m \u001b[0mchunksize\u001b[0m \u001b[0;32mor\u001b[0m \u001b[0miterator\u001b[0m\u001b[0;34m:\u001b[0m\u001b[0;34m\u001b[0m\u001b[0m\n",
      "\u001b[0;32m~/miniconda3/lib/python3.6/site-packages/pandas/io/parsers.py\u001b[0m in \u001b[0;36m__init__\u001b[0;34m(self, f, engine, **kwds)\u001b[0m\n\u001b[1;32m    785\u001b[0m             \u001b[0mself\u001b[0m\u001b[0;34m.\u001b[0m\u001b[0moptions\u001b[0m\u001b[0;34m[\u001b[0m\u001b[0;34m'has_index_names'\u001b[0m\u001b[0;34m]\u001b[0m \u001b[0;34m=\u001b[0m \u001b[0mkwds\u001b[0m\u001b[0;34m[\u001b[0m\u001b[0;34m'has_index_names'\u001b[0m\u001b[0;34m]\u001b[0m\u001b[0;34m\u001b[0m\u001b[0m\n\u001b[1;32m    786\u001b[0m \u001b[0;34m\u001b[0m\u001b[0m\n\u001b[0;32m--> 787\u001b[0;31m         \u001b[0mself\u001b[0m\u001b[0;34m.\u001b[0m\u001b[0m_make_engine\u001b[0m\u001b[0;34m(\u001b[0m\u001b[0mself\u001b[0m\u001b[0;34m.\u001b[0m\u001b[0mengine\u001b[0m\u001b[0;34m)\u001b[0m\u001b[0;34m\u001b[0m\u001b[0m\n\u001b[0m\u001b[1;32m    788\u001b[0m \u001b[0;34m\u001b[0m\u001b[0m\n\u001b[1;32m    789\u001b[0m     \u001b[0;32mdef\u001b[0m \u001b[0mclose\u001b[0m\u001b[0;34m(\u001b[0m\u001b[0mself\u001b[0m\u001b[0;34m)\u001b[0m\u001b[0;34m:\u001b[0m\u001b[0;34m\u001b[0m\u001b[0m\n",
      "\u001b[0;32m~/miniconda3/lib/python3.6/site-packages/pandas/io/parsers.py\u001b[0m in \u001b[0;36m_make_engine\u001b[0;34m(self, engine)\u001b[0m\n\u001b[1;32m   1012\u001b[0m     \u001b[0;32mdef\u001b[0m \u001b[0m_make_engine\u001b[0m\u001b[0;34m(\u001b[0m\u001b[0mself\u001b[0m\u001b[0;34m,\u001b[0m \u001b[0mengine\u001b[0m\u001b[0;34m=\u001b[0m\u001b[0;34m'c'\u001b[0m\u001b[0;34m)\u001b[0m\u001b[0;34m:\u001b[0m\u001b[0;34m\u001b[0m\u001b[0m\n\u001b[1;32m   1013\u001b[0m         \u001b[0;32mif\u001b[0m \u001b[0mengine\u001b[0m \u001b[0;34m==\u001b[0m \u001b[0;34m'c'\u001b[0m\u001b[0;34m:\u001b[0m\u001b[0;34m\u001b[0m\u001b[0m\n\u001b[0;32m-> 1014\u001b[0;31m             \u001b[0mself\u001b[0m\u001b[0;34m.\u001b[0m\u001b[0m_engine\u001b[0m \u001b[0;34m=\u001b[0m \u001b[0mCParserWrapper\u001b[0m\u001b[0;34m(\u001b[0m\u001b[0mself\u001b[0m\u001b[0;34m.\u001b[0m\u001b[0mf\u001b[0m\u001b[0;34m,\u001b[0m \u001b[0;34m**\u001b[0m\u001b[0mself\u001b[0m\u001b[0;34m.\u001b[0m\u001b[0moptions\u001b[0m\u001b[0;34m)\u001b[0m\u001b[0;34m\u001b[0m\u001b[0m\n\u001b[0m\u001b[1;32m   1015\u001b[0m         \u001b[0;32melse\u001b[0m\u001b[0;34m:\u001b[0m\u001b[0;34m\u001b[0m\u001b[0m\n\u001b[1;32m   1016\u001b[0m             \u001b[0;32mif\u001b[0m \u001b[0mengine\u001b[0m \u001b[0;34m==\u001b[0m \u001b[0;34m'python'\u001b[0m\u001b[0;34m:\u001b[0m\u001b[0;34m\u001b[0m\u001b[0m\n",
      "\u001b[0;32m~/miniconda3/lib/python3.6/site-packages/pandas/io/parsers.py\u001b[0m in \u001b[0;36m__init__\u001b[0;34m(self, src, **kwds)\u001b[0m\n\u001b[1;32m   1706\u001b[0m         \u001b[0mkwds\u001b[0m\u001b[0;34m[\u001b[0m\u001b[0;34m'usecols'\u001b[0m\u001b[0;34m]\u001b[0m \u001b[0;34m=\u001b[0m \u001b[0mself\u001b[0m\u001b[0;34m.\u001b[0m\u001b[0musecols\u001b[0m\u001b[0;34m\u001b[0m\u001b[0m\n\u001b[1;32m   1707\u001b[0m \u001b[0;34m\u001b[0m\u001b[0m\n\u001b[0;32m-> 1708\u001b[0;31m         \u001b[0mself\u001b[0m\u001b[0;34m.\u001b[0m\u001b[0m_reader\u001b[0m \u001b[0;34m=\u001b[0m \u001b[0mparsers\u001b[0m\u001b[0;34m.\u001b[0m\u001b[0mTextReader\u001b[0m\u001b[0;34m(\u001b[0m\u001b[0msrc\u001b[0m\u001b[0;34m,\u001b[0m \u001b[0;34m**\u001b[0m\u001b[0mkwds\u001b[0m\u001b[0;34m)\u001b[0m\u001b[0;34m\u001b[0m\u001b[0m\n\u001b[0m\u001b[1;32m   1709\u001b[0m \u001b[0;34m\u001b[0m\u001b[0m\n\u001b[1;32m   1710\u001b[0m         \u001b[0mpassed_names\u001b[0m \u001b[0;34m=\u001b[0m \u001b[0mself\u001b[0m\u001b[0;34m.\u001b[0m\u001b[0mnames\u001b[0m \u001b[0;32mis\u001b[0m \u001b[0;32mNone\u001b[0m\u001b[0;34m\u001b[0m\u001b[0m\n",
      "\u001b[0;32mpandas/_libs/parsers.pyx\u001b[0m in \u001b[0;36mpandas._libs.parsers.TextReader.__cinit__\u001b[0;34m()\u001b[0m\n",
      "\u001b[0;32mpandas/_libs/parsers.pyx\u001b[0m in \u001b[0;36mpandas._libs.parsers.TextReader._setup_parser_source\u001b[0;34m()\u001b[0m\n",
      "\u001b[0;31mFileNotFoundError\u001b[0m: File b'./multinn0.csv' does not exist"
     ]
    }
   ],
   "source": [
    "NN_names=list(['multinn','thres'])\n",
    "\n",
    "data=sio.loadmat('retinal_testing_may19.mat')\n",
    "ids=data['ids'][0]\n",
    "ids=np.unique(ids)\n",
    "ptp=data['ptp'][0]\n",
    "      \n",
    "\n",
    "path_to_results='./'\n",
    "\n",
    "\n",
    "\n",
    "for NN in NN_names:  \n",
    "   \n",
    "\n",
    "    for i in ids:\n",
    "        exec ((\"roc_%s_%s=pd.read_csv(os.path.join(path_to_results, '%s%s.csv'),index_col=False)\")%(NN,i,NN,i))\n",
    "        exec ((\"roc_%s_%s=roc_%s_%s.rename(columns={'Unnamed: 0': 'threshold'})\")%(NN,i,NN,i))\n",
    "        exec ((\"roc_%s_%s=roc_%s_%s.sort_values(by='threshold',ascending=False)\")%(NN,i,NN,i))\n",
    "\n",
    "\n",
    "columns=['ptp','clear_accuracy','id']\n",
    "\n",
    "fp_id=np.array([1,2,3])\n",
    "\n",
    "cnt=0\n",
    "\n",
    "for i in fp_id:\n",
    "    for NN in NN_names:  \n",
    "        exec ((\"snr_%s_%s=pd.DataFrame(columns=columns)\")%(NN,i))\n",
    "\n",
    "        for j in ids:\n",
    "            exec   ((\"result=np.array([ptp[j],roc_%s_%s['clear_accuracy'][cnt],j])\") % (NN,j) )\n",
    "            result = np.reshape(result,[1,3])\n",
    "            df = pd.DataFrame(result, columns=columns)\n",
    "            exec ((\"snr_%s_%s=snr_%s_%s.append(df)\")%(NN,i,NN,i))\n",
    "    cnt=cnt+1\n"
   ]
  },
  {
   "cell_type": "code",
   "execution_count": 32,
   "metadata": {},
   "outputs": [
    {
     "data": {
      "image/png": "[encoded data removed]",
      "text/plain": [
       "<matplotlib.figure.Figure at 0x7f655438b748>"
      ]
     },
     "metadata": {},
     "output_type": "display_data"
    }
   ],
   "source": [
    "\n",
    "\n",
    "ax1=snr_multinn_1.plot.scatter(x='ptp',y='clear_accuracy',color='b',marker='D',s=30,label='yass NN',figsize=(11,11), title='Comparison of detection methods on simulated retinal data, FPR = 0.01')\n",
    "ax2=snr_thres_1.plot.scatter(ax=ax1, x='ptp',y='clear_accuracy',color='r',marker='X',s=30,label='threshold detection',figsize=(11,11), alpha=0.7)\n",
    "\n",
    "#ax3=snr_NN_max_10.plot(ax=ax1,y='clear_accuracy',marker='x',markersize=12,label='Trained with Max 10 Data',linewidth=6,figsize=(9,9))\n",
    "#ax4=snr_NN.plot(ax=ax1,y='clear_accuracy',marker='D',markersize=12,label='Trained with no Max',linewidth=4,figsize=(9,9))\n",
    "\n",
    "ax1.legend(loc='lower right',fontsize=20)\n",
    "#ax1.legend_.remove()\n",
    "\n",
    "plt.ylabel(\"Percentage of isolated spikes detected \",fontsize=20)\n",
    "plt.xlabel(\"Peak-to-peak SNR\",fontsize=20)\n",
    "\n",
    "#plt.xlim([-0.05,3.05])\n",
    "\n",
    "#plt.ylim([0,1.01])\n",
    "#y_ticks = np.arange(0,1.1,0.1)  \n",
    "#ax1.set_yticks(y_ticks)  \n",
    "\n",
    "plt.xlim([0,15])\n",
    "x_ticks = np.arange(0,15,2)  \n",
    "ax1.set_xticks(x_ticks)  \n",
    "ax1.grid(True)\n",
    "\n",
    "\n",
    "ax1.title.set_size(20)\n",
    "plt.tick_params(axis='both', which='major', labelsize=20)\n",
    "\n",
    "fig = ax1.get_figure()\n",
    "plt.show()\n",
    "fig.savefig(\"retinal_001.pdf\")\n"
   ]
  }
 ],
 "metadata": {
  "kernelspec": {
   "display_name": "Python 3",
   "language": "python",
   "name": "python3"
  },
  "language_info": {
   "codemirror_mode": {
    "name": "ipython",
    "version": 3
   },
   "file_extension": ".py",
   "mimetype": "text/x-python",
   "name": "python",
   "nbconvert_exporter": "python",
   "pygments_lexer": "ipython3",
   "version": "3.6.5"
  }
 },
 "nbformat": 4,
 "nbformat_minor": 2
}
