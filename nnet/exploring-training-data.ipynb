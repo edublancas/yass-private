{
 "cells": [
  {
   "cell_type": "code",
   "execution_count": 1,
   "metadata": {},
   "outputs": [],
   "source": [
    "%load_ext line_profiler\n",
    "%load_ext memory_profiler\n",
    "\n",
    "%matplotlib inline"
   ]
  },
  {
   "cell_type": "code",
   "execution_count": 2,
   "metadata": {},
   "outputs": [],
   "source": [
    "%load_ext autoreload\n",
    "%autoreload 2"
   ]
  },
  {
   "cell_type": "code",
   "execution_count": 3,
   "metadata": {},
   "outputs": [
    {
     "name": "stderr",
     "output_type": "stream",
     "text": [
      "Using TensorFlow backend.\n"
     ]
    }
   ],
   "source": [
    "import util\n",
    "import models\n",
    "\n",
    "from os.path import expanduser\n",
    "from os import path\n",
    "import logging\n",
    "\n",
    "logging.basicConfig(level=logging.INFO)\n",
    "\n",
    "import matplotlib.pyplot as plt\n",
    "import seaborn as sns\n",
    "from sklearn import metrics\n",
    "from sklearn_evaluation import plot as sk_plot\n",
    "\n",
    "import yass\n",
    "from yass import read_config, preprocess, detect\n",
    "from yass.augment import make\n",
    "from yass.neuralnetwork import NeuralNetDetector, NeuralNetTriage, AutoEncoder \n",
    "from yass.explore import RecordingExplorer, SpikeTrainExplorer\n",
    "\n",
    "import numpy as np\n",
    "from scipy.io import loadmat\n",
    "\n",
    "from dstools import plot"
   ]
  },
  {
   "cell_type": "code",
   "execution_count": 4,
   "metadata": {
    "scrolled": true
   },
   "outputs": [],
   "source": [
    "yass.set_config(\"../config/49-lab.yaml\")\n",
    "CONFIG = read_config()"
   ]
  },
  {
   "cell_type": "code",
   "execution_count": 5,
   "metadata": {},
   "outputs": [],
   "source": [
    "path_to_data = path.expanduser('~/data')\n",
    "path_to_ground_truth = path.join(path_to_data,\n",
    "                                 'groundtruth_ej49_data1_set1.mat')\n",
    "path_to_standarized = path.join(path_to_data, 'tmp', 'preprocess',\n",
    "                               'standarized.bin')\n",
    "path_to_geom = path.join(path_to_data, 'ej49_geometry1.txt')\n",
    "\n",
    "path_to_here = path.expanduser('~/dev/private-yass/nnet')"
   ]
  },
  {
   "cell_type": "code",
   "execution_count": 6,
   "metadata": {},
   "outputs": [],
   "source": [
    "# load ground truth\n",
    "_ = loadmat(path_to_ground_truth)\n",
    "gt = np.hstack([_['spt_gt'], _['L_gt']])\n",
    "\n",
    "gt = gt[2:-1]\n",
    "gt[:, 1] = gt[:, 1] - 1\n",
    "\n",
    "# compensate alignment\n",
    "gt[:, 0] = gt[:, 0] + 5"
   ]
  },
  {
   "cell_type": "markdown",
   "metadata": {},
   "source": [
    "## Generating training data"
   ]
  },
  {
   "cell_type": "code",
   "execution_count": 7,
   "metadata": {},
   "outputs": [],
   "source": [
    "n_isolated_spikes = 500\n",
    "min_amplitude = 5\n",
    "n_templates = np.max(gt[:,1]) + 1\n",
    "chosen_templates = np.arange(n_templates)"
   ]
  },
  {
   "cell_type": "code",
   "execution_count": 8,
   "metadata": {},
   "outputs": [
    {
     "name": "stderr",
     "output_type": "stream",
     "text": [
      "100%|██████████| 3/3 [00:08<00:00,  2.69s/it]\n"
     ]
    },
    {
     "ename": "UnboundLocalError",
     "evalue": "local variable 'x_to_collide_all' referenced before assignment",
     "output_type": "error",
     "traceback": [
      "\u001b[0;31m---------------------------------------------------------------------------\u001b[0m",
      "\u001b[0;31mUnboundLocalError\u001b[0m                         Traceback (most recent call last)",
      "\u001b[0;32m<ipython-input-8-917d5a891359>\u001b[0m in \u001b[0;36m<module>\u001b[0;34m()\u001b[0m\n\u001b[1;32m      4\u001b[0m                                   \u001b[0mmin_amplitude\u001b[0m\u001b[0;34m,\u001b[0m \u001b[0mn_isolated_spikes\u001b[0m\u001b[0;34m,\u001b[0m\u001b[0;34m\u001b[0m\u001b[0m\n\u001b[1;32m      5\u001b[0m                                   \u001b[0mdata_folder\u001b[0m\u001b[0;34m=\u001b[0m\u001b[0;34m'/home/Edu/data/nnet/'\u001b[0m\u001b[0;34m,\u001b[0m\u001b[0;34m\u001b[0m\u001b[0m\n\u001b[0;32m----> 6\u001b[0;31m                                   multi_channel=True)\n\u001b[0m",
      "\u001b[0;32m~/dev/yass/src/yass/augment/make.py\u001b[0m in \u001b[0;36mtraining_data\u001b[0;34m(CONFIG, spike_train, chosen_templates_indexes, min_amp, n_isolated_spikes, data_folder, noise_ratio, collision_ratio, misalign_ratio, misalign_ratio2, multi_channel)\u001b[0m\n\u001b[1;32m    107\u001b[0m     \u001b[0;31m# make collided spikes\u001b[0m\u001b[0;34m\u001b[0m\u001b[0;34m\u001b[0m\u001b[0m\n\u001b[1;32m    108\u001b[0m     x_collision = make_collided(x_clean, collision_ratio, templates,\n\u001b[0;32m--> 109\u001b[0;31m                                 R, multi_channel, n_neigh)\n\u001b[0m\u001b[1;32m    110\u001b[0m \u001b[0;34m\u001b[0m\u001b[0m\n\u001b[1;32m    111\u001b[0m     \u001b[0;31m# make misaligned spikes\u001b[0m\u001b[0;34m\u001b[0m\u001b[0;34m\u001b[0m\u001b[0m\n",
      "\u001b[0;32m~/dev/yass/src/yass/augment/util.py\u001b[0m in \u001b[0;36mmake_collided\u001b[0;34m(x_clean, collision_ratio, templates, max_shift, multi_channel, nneigh, amp_tolerance)\u001b[0m\n\u001b[1;32m    135\u001b[0m             \u001b[0mto_add\u001b[0m\u001b[0;34m[\u001b[0m\u001b[0mj\u001b[0m\u001b[0;34m]\u001b[0m \u001b[0;34m+=\u001b[0m \u001b[0mx_to_collide\u001b[0m\u001b[0;34m\u001b[0m\u001b[0m\n\u001b[1;32m    136\u001b[0m \u001b[0;34m\u001b[0m\u001b[0m\n\u001b[0;32m--> 137\u001b[0;31m     \u001b[0;32mreturn\u001b[0m \u001b[0mx_collision\u001b[0m \u001b[0;32mif\u001b[0m \u001b[0;32mnot\u001b[0m \u001b[0mDEBUG_MODE\u001b[0m \u001b[0;32melse\u001b[0m \u001b[0mx_collision\u001b[0m\u001b[0;34m,\u001b[0m \u001b[0mx_to_collide_all\u001b[0m\u001b[0;34m\u001b[0m\u001b[0m\n\u001b[0m\u001b[1;32m    138\u001b[0m \u001b[0;34m\u001b[0m\u001b[0m\n\u001b[1;32m    139\u001b[0m \u001b[0;34m\u001b[0m\u001b[0m\n",
      "\u001b[0;31mUnboundLocalError\u001b[0m: local variable 'x_to_collide_all' referenced before assignment"
     ]
    }
   ],
   "source": [
    "(x_detect, y_detect,\n",
    " x_triage, y_triage,\n",
    " x_ae, y_ae) = make.training_data(CONFIG, gt, chosen_templates,\n",
    "                                  min_amplitude, n_isolated_spikes,\n",
    "                                  data_folder='/home/Edu/data/nnet/',\n",
    "                                  multi_channel=True)"
   ]
  },
  {
   "cell_type": "code",
   "execution_count": null,
   "metadata": {},
   "outputs": [],
   "source": [
    "x_triage.shape"
   ]
  },
  {
   "cell_type": "code",
   "execution_count": null,
   "metadata": {},
   "outputs": [],
   "source": [
    "print(f'Training set sizes:\\n\\tdetect:{x_detect.shape}\\n\\ttriage:{x_triage.shape}\\n\\tautoencoder:{x_ae.shape}')"
   ]
  },
  {
   "cell_type": "code",
   "execution_count": null,
   "metadata": {},
   "outputs": [],
   "source": [
    "# compute amplitude for positive and negative samples in the detect training set\n",
    "x_detect_positive = x_detect[y_detect == 1]\n",
    "x_detect_negative = x_detect[y_detect == 0]\n",
    "\n",
    "x_triage_positive = x_triage[y_triage == 1]\n",
    "x_triage_negative = x_triage[y_triage == 0]"
   ]
  },
  {
   "cell_type": "code",
   "execution_count": null,
   "metadata": {},
   "outputs": [],
   "source": [
    "plt.rcParams['figure.figsize'] = (10, 10)\n",
    "plot.grid_from_array(x_triage_positive, axis=0, elements=10, sharey=True)"
   ]
  },
  {
   "cell_type": "code",
   "execution_count": null,
   "metadata": {},
   "outputs": [],
   "source": [
    "plt.rcParams['figure.figsize'] = (10, 10)\n",
    "plot.grid_from_array(x_triage_negative, axis=0, elements=10, sharey=False)"
   ]
  },
  {
   "cell_type": "markdown",
   "metadata": {},
   "source": [
    "## Manually generating collisions"
   ]
  },
  {
   "cell_type": "code",
   "execution_count": 8,
   "metadata": {},
   "outputs": [
    {
     "name": "stderr",
     "output_type": "stream",
     "text": [
      "INFO:yass.templates.preprocess:Getting templates...\n",
      "INFO:yass.templates.util:Computing templates...\n",
      "INFO:yass.batch.batch:Applying function yass.templates.util.compute_weighted_templates...\n",
      "100%|██████████| 3/3 [00:08<00:00,  2.73s/it]\n",
      "INFO:yass.batch.batch:yass.templates.util.compute_weighted_templates took 8.1987 seconds\n"
     ]
    }
   ],
   "source": [
    "import os\n",
    "from yass.templates import preprocess\n",
    "from yass.augment.util import (make_noisy, make_clean, make_collided,\n",
    "                               make_misaligned, make_noise)\n",
    "\n",
    "yass._enable_debug_mode()\n",
    "\n",
    "collision_ratio = 1\n",
    "multi_channel = True\n",
    "\n",
    "data_folder = '/home/Edu/data/nnet/'\n",
    "path_to_data = os.path.join(data_folder, 'preprocess', 'standarized.bin')\n",
    "\n",
    "templates, templates_uncropped = preprocess(CONFIG, gt,\n",
    "                                            path_to_data,\n",
    "                                            chosen_templates)\n",
    "\n",
    "_, _, n_neigh = templates.shape\n",
    "K, _, n_channels = templates_uncropped.shape\n",
    "\n",
    "# make training data set\n",
    "R = CONFIG.spike_size\n",
    "amps = np.max(np.abs(templates), axis=1)\n",
    "\n",
    "# make clean augmented spikes\n",
    "nk = int(np.ceil(n_isolated_spikes/K))\n",
    "max_amp = np.max(amps) * 1.5\n",
    "max_shift = 2*R\n",
    "\n",
    "# make clean spikes\n",
    "x_clean = make_clean(templates, min_amplitude, max_amp, nk)"
   ]
  },
  {
   "cell_type": "code",
   "execution_count": 9,
   "metadata": {},
   "outputs": [
    {
     "data": {
      "text/plain": [
       "(533, 61, 7)"
      ]
     },
     "execution_count": 9,
     "metadata": {},
     "output_type": "execute_result"
    }
   ],
   "source": [
    "x_clean.shape"
   ]
  },
  {
   "cell_type": "code",
   "execution_count": 13,
   "metadata": {},
   "outputs": [],
   "source": [
    "# make collided spikes\n",
    "x_collision, x_to_collide = make_collided(x_clean, collision_ratio, templates,\n",
    "                                          R, multi_channel, n_neigh)"
   ]
  },
  {
   "cell_type": "code",
   "execution_count": 12,
   "metadata": {},
   "outputs": [
    {
     "data": {
      "text/plain": [
       "(533, 61, 7)"
      ]
     },
     "execution_count": 12,
     "metadata": {},
     "output_type": "execute_result"
    }
   ],
   "source": [
    "_.shape"
   ]
  },
  {
   "cell_type": "code",
   "execution_count": null,
   "metadata": {},
   "outputs": [],
   "source": [
    "plt.rcParams['figure.figsize'] = (10, 10)\n",
    "plot.grid_from_array(x_clean, axis=0, elements=range(10), sharey=True)"
   ]
  },
  {
   "cell_type": "code",
   "execution_count": null,
   "metadata": {},
   "outputs": [],
   "source": [
    "plt.rcParams['figure.figsize'] = (10, 10)\n",
    "plot.grid_from_array(x_collision, axis=0, elements=range(10), sharey=True)"
   ]
  },
  {
   "cell_type": "code",
   "execution_count": null,
   "metadata": {},
   "outputs": [],
   "source": [
    "plt.rcParams['figure.figsize'] = (10, 10)\n",
    "plot.grid_from_array(x_to_collide, axis=0, elements=range(10), sharey=False)"
   ]
  },
  {
   "cell_type": "code",
   "execution_count": null,
   "metadata": {},
   "outputs": [],
   "source": []
  }
 ],
 "metadata": {
  "kernelspec": {
   "display_name": "Python 3",
   "language": "python",
   "name": "python3"
  },
  "language_info": {
   "codemirror_mode": {
    "name": "ipython",
    "version": 3
   },
   "file_extension": ".py",
   "mimetype": "text/x-python",
   "name": "python",
   "nbconvert_exporter": "python",
   "pygments_lexer": "ipython3",
   "version": "3.6.5"
  }
 },
 "nbformat": 4,
 "nbformat_minor": 2
}
