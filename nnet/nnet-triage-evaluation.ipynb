{
 "cells": [
  {
   "cell_type": "code",
   "execution_count": 1,
   "metadata": {},
   "outputs": [],
   "source": [
    "import numpy as np\n",
    "from sklearn import metrics\n",
    "from sklearn_evaluation import plot as sk_plot\n",
    "\n",
    "from yass.neuralnetwork import NeuralNetTriage"
   ]
  },
  {
   "cell_type": "code",
   "execution_count": 27,
   "metadata": {},
   "outputs": [],
   "source": [
    "path_to_model = '/home/Edu/dev/private-yass/nnet/models/triage-12-Jul-2018@00-27-20.ckpt'\n",
    "triage = NeuralNetTriage.load(path_to_model, 0.5)"
   ]
  },
  {
   "cell_type": "code",
   "execution_count": 28,
   "metadata": {},
   "outputs": [],
   "source": [
    "x_test = (path_to_model.replace('triage-', 'x-triage-')\n",
    "          .replace('.ckpt', '.npy'))\n",
    "y_test = (path_to_model.replace('triage-', 'y-triage-')\n",
    "          .replace('.ckpt', '.npy'))"
   ]
  },
  {
   "cell_type": "code",
   "execution_count": 29,
   "metadata": {},
   "outputs": [
    {
     "name": "stdout",
     "output_type": "stream",
     "text": [
      "/home/Edu/dev/private-yass/nnet/models/x-triage-12-Jul-2018@00-27-20.npy /home/Edu/dev/private-yass/nnet/models/y-triage-12-Jul-2018@00-27-20.npy\n"
     ]
    }
   ],
   "source": [
    "print(x_test, y_test)"
   ]
  },
  {
   "cell_type": "code",
   "execution_count": 30,
   "metadata": {},
   "outputs": [],
   "source": [
    "x_test = np.load(x_test)\n",
    "y_test = np.load(y_test)"
   ]
  },
  {
   "cell_type": "code",
   "execution_count": 31,
   "metadata": {},
   "outputs": [
    {
     "name": "stdout",
     "output_type": "stream",
     "text": [
      "             precision    recall  f1-score   support\n",
      "\n",
      "        0.0       0.99      0.97      0.98     20008\n",
      "        1.0       0.97      0.99      0.98     20008\n",
      "\n",
      "avg / total       0.98      0.98      0.98     40016\n",
      "\n"
     ]
    }
   ],
   "source": [
    "y_pred = triage.predict(x_test)\n",
    "y_true = y_test\n",
    "\n",
    "print(metrics.classification_report(y_true, y_pred))"
   ]
  },
  {
   "cell_type": "code",
   "execution_count": 32,
   "metadata": {},
   "outputs": [
    {
     "data": {
      "text/plain": [
       "<matplotlib.axes._subplots.AxesSubplot at 0x7fa7df1c1400>"
      ]
     },
     "execution_count": 32,
     "metadata": {},
     "output_type": "execute_result"
    },
    {
     "data": {
      "image/png": "[encoded data removed]",
      "text/plain": [
       "<Figure size 432x288 with 2 Axes>"
      ]
     },
     "metadata": {},
     "output_type": "display_data"
    }
   ],
   "source": [
    "sk_plot.confusion_matrix(y_true, y_pred, target_names=['Collided (0)', 'Clean (1)'],\n",
    "                        normalize=True)"
   ]
  }
 ],
 "metadata": {
  "kernelspec": {
   "display_name": "Python 3",
   "language": "python",
   "name": "python3"
  },
  "language_info": {
   "codemirror_mode": {
    "name": "ipython",
    "version": 3
   },
   "file_extension": ".py",
   "mimetype": "text/x-python",
   "name": "python",
   "nbconvert_exporter": "python",
   "pygments_lexer": "ipython3",
   "version": "3.6.5"
  }
 },
 "nbformat": 4,
 "nbformat_minor": 2
}
