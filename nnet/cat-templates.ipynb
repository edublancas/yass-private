{
 "cells": [
  {
   "cell_type": "markdown",
   "metadata": {},
   "source": [
    "##  Cat's templates"
   ]
  },
  {
   "cell_type": "code",
   "execution_count": 1,
   "metadata": {},
   "outputs": [],
   "source": [
    "%load_ext autoreload\n",
    "%autoreload 2"
   ]
  },
  {
   "cell_type": "code",
   "execution_count": 4,
   "metadata": {},
   "outputs": [],
   "source": [
    "import datetime\n",
    "import models\n",
    "import platform\n",
    "\n",
    "from pathlib import Path\n",
    "from os.path import expanduser\n",
    "from os import path\n",
    "import logging\n",
    "\n",
    "import matplotlib.pyplot as plt\n",
    "import seaborn as sns\n",
    "from sklearn import metrics\n",
    "from sklearn_evaluation import plot as sk_plot\n",
    "\n",
    "import yass\n",
    "from yass import read_config, preprocess, detect\n",
    "from yass import util\n",
    "from yass.augment import make\n",
    "from yass.augment import util as augment_util\n",
    "from yass.neuralnetwork import NeuralNetDetector, NeuralNetTriage, AutoEncoder \n",
    "from yass.explore import RecordingExplorer, SpikeTrainExplorer\n",
    "from yass.templates import TemplatesProcessor\n",
    "\n",
    "import numpy as np\n",
    "from scipy.io import loadmat\n",
    "\n",
    "from dstools import plot, Env\n",
    "\n",
    "# logging.basicConfig(level=logging.DEBUG)"
   ]
  },
  {
   "cell_type": "code",
   "execution_count": 2,
   "metadata": {},
   "outputs": [],
   "source": [
    "env = Env()"
   ]
  },
  {
   "cell_type": "code",
   "execution_count": 3,
   "metadata": {},
   "outputs": [
    {
     "name": "stdout",
     "output_type": "stream",
     "text": [
      "YASS version is: 609cc10 fix\n"
     ]
    }
   ],
   "source": [
    "# for reference\n",
    "print('YASS version is: {}'.format(util.get_version()))"
   ]
  },
  {
   "cell_type": "code",
   "execution_count": 5,
   "metadata": {
    "scrolled": true
   },
   "outputs": [],
   "source": [
    "path_to_config = str(Path(env.project_home, 'config/gcloud/49/default.yaml'))\n",
    "yass.set_config(path_to_config)\n",
    "CONFIG = read_config()"
   ]
  },
  {
   "cell_type": "code",
   "execution_count": 6,
   "metadata": {},
   "outputs": [],
   "source": [
    "path_to_data = env.path.data\n",
    "path_to_ground_truth = path.join(path_to_data,\n",
    "                                 'groundtruth_ej49_data1_set1.mat')\n",
    "path_to_experiment = path.join(path_to_data, 'nnet')\n",
    "path_to_standarized = path.join(path_to_experiment,\n",
    "                                'preprocess', 'standarized.bin')\n",
    "path_to_geom = path.join(path_to_data, 'ej49_geometry1.txt')\n",
    "path_to_here = path.expanduser('~/dev/private-yass/nnet')"
   ]
  },
  {
   "cell_type": "markdown",
   "metadata": {},
   "source": [
    "## Load templates"
   ]
  },
  {
   "cell_type": "code",
   "execution_count": 15,
   "metadata": {},
   "outputs": [
    {
     "name": "stdout",
     "output_type": "stream",
     "text": [
      "(286, 61, 49)\n"
     ]
    }
   ],
   "source": [
    "# load cat's templates\n",
    "templates = np.load(Path(env.path.data, 'cat/templates-jul27.npy'))\n",
    "templates = templates.transpose((2, 1, 0))\n",
    "print(templates.shape)"
   ]
  },
  {
   "cell_type": "code",
   "execution_count": 21,
   "metadata": {},
   "outputs": [
    {
     "name": "stdout",
     "output_type": "stream",
     "text": [
      "(240, 61, 49)\n"
     ]
    }
   ],
   "source": [
    "bad_templates_list = [3,8,10,13,17,20,21,22,25,27,28,33,40,42,54,56,60,61,63,64,69,84,85,104,119,130,136,151,154,168,169,170,171,178,185,194,204,214,219,225,240,246,248,257,272,280]\n",
    "good_templates_idx = [i for i in range(templates.shape[0]) if i not in bad_templates_list]\n",
    "\n",
    "good_templates = templates[good_templates_idx]\n",
    "\n",
    "print(good_templates.shape)"
   ]
  },
  {
   "cell_type": "code",
   "execution_count": 23,
   "metadata": {},
   "outputs": [],
   "source": [
    "path_to_output = Path(env.path.data, 'cat/templates-jul27-only-good.npy')\n",
    "np.save(path_to_output, good_templates)"
   ]
  }
 ],
 "metadata": {
  "kernelspec": {
   "display_name": "Python 3",
   "language": "python",
   "name": "python3"
  },
  "language_info": {
   "codemirror_mode": {
    "name": "ipython",
    "version": 3
   },
   "file_extension": ".py",
   "mimetype": "text/x-python",
   "name": "python",
   "nbconvert_exporter": "python",
   "pygments_lexer": "ipython3",
   "version": "3.6.6"
  }
 },
 "nbformat": 4,
 "nbformat_minor": 2
}
