{
 "cells": [
  {
   "cell_type": "markdown",
   "metadata": {},
   "source": [
    "## Training neural networks\n",
    "\n",
    "This notebook describes the workflow for training neural networks"
   ]
  },
  {
   "cell_type": "code",
   "execution_count": 1,
   "metadata": {},
   "outputs": [],
   "source": [
    "%load_ext autoreload\n",
    "%autoreload 2"
   ]
  },
  {
   "cell_type": "code",
   "execution_count": 25,
   "metadata": {},
   "outputs": [],
   "source": [
    "from pathlib import Path\n",
    "from functools import reduce\n",
    "\n",
    "import yaml\n",
    "import numpy as np\n",
    "import keras\n",
    "from sklearn.model_selection import train_test_split\n",
    "from keras.models import Sequential\n",
    "from keras.layers import Dense, Conv2D, Flatten, MaxPooling2D, Dropout\n",
    "from dstools.reproducibility import make_filename\n",
    "\n",
    "from yass import util"
   ]
  },
  {
   "cell_type": "code",
   "execution_count": 3,
   "metadata": {},
   "outputs": [
    {
     "name": "stdout",
     "output_type": "stream",
     "text": [
      "YASS version is: fe1bd86 updates detect.run to use new separated code\n"
     ]
    }
   ],
   "source": [
    "# for reference\n",
    "print('YASS version is: {}'.format(util.get_version()))"
   ]
  },
  {
   "cell_type": "code",
   "execution_count": 4,
   "metadata": {},
   "outputs": [],
   "source": [
    "path_to_data = Path('~', 'data').expanduser()\n",
    "path_to_models = Path(path_to_data, 'models')"
   ]
  },
  {
   "cell_type": "markdown",
   "metadata": {},
   "source": [
    "## Loading training data"
   ]
  },
  {
   "cell_type": "code",
   "execution_count": 5,
   "metadata": {},
   "outputs": [],
   "source": [
    "path_to_sets = Path(path_to_data, 'training-sets')\n",
    "\n",
    "path_to_x = Path(path_to_sets, 'x-triage-14-Aug-2018@21-28-23.npy')\n",
    "path_to_y = Path(path_to_sets, 'y-triage-14-Aug-2018@21-28-23.npy')\n",
    "\n",
    "x_triage = np.load(path_to_x)\n",
    "y_triage = np.load(path_to_y)"
   ]
  },
  {
   "cell_type": "code",
   "execution_count": 6,
   "metadata": {},
   "outputs": [],
   "source": [
    "def make_model(x_train, input_shape):\n",
    "    n_data, window_size, n_channels, _ = x_train.shape\n",
    "\n",
    "    model = Sequential()\n",
    "        \n",
    "#     model.add(MaxPooling2D(pool_size=(2, 1), data_format=\"channels_last\", padding='same'))\n",
    "    \n",
    "#     model.add(Dropout(0.75))\n",
    "\n",
    "    model.add(Conv2D(10, kernel_size=(5, 5),\n",
    "                     padding='same', activation='relu', use_bias=True,\n",
    "                     data_format=\"channels_last\", input_shape=input_shape))\n",
    "\n",
    "\n",
    "#     model.add(Conv2D(70, kernel_size=(window_size, 1),\n",
    "#                      padding='valid', activation='relu', use_bias=True,\n",
    "#                      data_format=\"channels_last\"))\n",
    "    \n",
    "    model.add(Conv2D(10, kernel_size=(5, 5),\n",
    "                     padding='same', activation='relu', use_bias=True,\n",
    "                     data_format=\"channels_last\"))\n",
    "\n",
    "\n",
    "#     model.add(Conv2D(70, kernel_size=(1, n_channels),\n",
    "#                      padding='valid', activation='relu', use_bias=True,\n",
    "#                      data_format=\"channels_last\"))\n",
    "    \n",
    "    model.add(Conv2D(10, kernel_size=(5, 5),\n",
    "                     padding='same', activation='linear', use_bias=True,\n",
    "                     data_format=\"channels_last\"))\n",
    "        \n",
    "#     model.add(MaxPooling2D(pool_size=(1, 2), data_format=\"channels_last\", padding='same'))\n",
    "#     model.add(Dropout(0.75))\n",
    "    \n",
    "    model.add(Flatten())\n",
    "    model.add(Dense(1, activation='sigmoid'))\n",
    "    \n",
    "    model.summary()\n",
    "    \n",
    "    # initiate RMSprop optimizer\n",
    "    opt = keras.optimizers.rmsprop(lr=0.0001, decay=1e-6)\n",
    "    opt = keras.optimizers.adam(lr=0.001)\n",
    "\n",
    "    model.compile(loss='binary_crossentropy',\n",
    "                  optimizer=opt,\n",
    "                  metrics=['accuracy'])\n",
    "    \n",
    "    return model\n"
   ]
  },
  {
   "cell_type": "markdown",
   "metadata": {},
   "source": [
    "# Triage Ttaining"
   ]
  },
  {
   "cell_type": "code",
   "execution_count": 7,
   "metadata": {},
   "outputs": [
    {
     "name": "stdout",
     "output_type": "stream",
     "text": [
      "_________________________________________________________________\n",
      "Layer (type)                 Output Shape              Param #   \n",
      "=================================================================\n",
      "conv2d_1 (Conv2D)            (None, 41, 7, 10)         260       \n",
      "_________________________________________________________________\n",
      "conv2d_2 (Conv2D)            (None, 41, 7, 10)         2510      \n",
      "_________________________________________________________________\n",
      "conv2d_3 (Conv2D)            (None, 41, 7, 10)         2510      \n",
      "_________________________________________________________________\n",
      "flatten_1 (Flatten)          (None, 2870)              0         \n",
      "_________________________________________________________________\n",
      "dense_1 (Dense)              (None, 1)                 2871      \n",
      "=================================================================\n",
      "Total params: 8,151\n",
      "Trainable params: 8,151\n",
      "Non-trainable params: 0\n",
      "_________________________________________________________________\n"
     ]
    }
   ],
   "source": [
    "# import models\n",
    "x = x_triage[:, : , :, np.newaxis]\n",
    "\n",
    "(x_train, x_test,\n",
    "y_train, y_test) = train_test_split(x, y_triage, test_size=0.3)\n",
    "\n",
    "_, wf, ch, _ = x_train.shape\n",
    "\n",
    "m = make_model(x, (wf, ch, 1))"
   ]
  },
  {
   "cell_type": "code",
   "execution_count": 8,
   "metadata": {
    "scrolled": true
   },
   "outputs": [
    {
     "name": "stdout",
     "output_type": "stream",
     "text": [
      "Train on 28224 samples, validate on 12096 samples\n",
      "Epoch 1/50\n",
      "28224/28224 [==============================] - 5s 175us/step - loss: 0.7044 - acc: 0.5365 - val_loss: 0.5848 - val_acc: 0.6836\n",
      "Epoch 2/50\n",
      "28224/28224 [==============================] - 1s 35us/step - loss: 0.5756 - acc: 0.7194 - val_loss: 0.5239 - val_acc: 0.7645\n",
      "Epoch 3/50\n",
      "28224/28224 [==============================] - 1s 35us/step - loss: 0.5040 - acc: 0.7467 - val_loss: 0.4975 - val_acc: 0.7122\n",
      "Epoch 4/50\n",
      "28224/28224 [==============================] - 1s 35us/step - loss: 0.4679 - acc: 0.7559 - val_loss: 0.4620 - val_acc: 0.7924\n",
      "Epoch 5/50\n",
      "28224/28224 [==============================] - 1s 35us/step - loss: 0.4460 - acc: 0.7957 - val_loss: 0.4294 - val_acc: 0.7908\n",
      "Epoch 6/50\n",
      "28224/28224 [==============================] - 1s 35us/step - loss: 0.4244 - acc: 0.7844 - val_loss: 0.4127 - val_acc: 0.8039\n",
      "Epoch 7/50\n",
      "28224/28224 [==============================] - 1s 36us/step - loss: 0.4087 - acc: 0.8089 - val_loss: 0.4031 - val_acc: 0.8196\n",
      "Epoch 8/50\n",
      "28224/28224 [==============================] - 1s 35us/step - loss: 0.3963 - acc: 0.8106 - val_loss: 0.3949 - val_acc: 0.8076\n",
      "Epoch 9/50\n",
      "28224/28224 [==============================] - 1s 36us/step - loss: 0.3849 - acc: 0.8156 - val_loss: 0.3828 - val_acc: 0.8306\n",
      "Epoch 10/50\n",
      "28224/28224 [==============================] - 1s 35us/step - loss: 0.3743 - acc: 0.8279 - val_loss: 0.3719 - val_acc: 0.8229\n",
      "Epoch 11/50\n",
      "28224/28224 [==============================] - 1s 35us/step - loss: 0.3628 - acc: 0.8264 - val_loss: 0.3589 - val_acc: 0.8395\n",
      "Epoch 12/50\n",
      "28224/28224 [==============================] - 1s 36us/step - loss: 0.3510 - acc: 0.8407 - val_loss: 0.3493 - val_acc: 0.8370\n",
      "Epoch 13/50\n",
      "28224/28224 [==============================] - 1s 35us/step - loss: 0.3408 - acc: 0.8397 - val_loss: 0.3389 - val_acc: 0.8492\n",
      "Epoch 14/50\n",
      "28224/28224 [==============================] - 1s 35us/step - loss: 0.3304 - acc: 0.8550 - val_loss: 0.3289 - val_acc: 0.8513\n",
      "Epoch 15/50\n",
      "28224/28224 [==============================] - 1s 35us/step - loss: 0.3205 - acc: 0.8569 - val_loss: 0.3186 - val_acc: 0.8650\n",
      "Epoch 16/50\n",
      "28224/28224 [==============================] - 1s 36us/step - loss: 0.3101 - acc: 0.8691 - val_loss: 0.3105 - val_acc: 0.8652\n",
      "Epoch 17/50\n",
      "28224/28224 [==============================] - 1s 35us/step - loss: 0.3008 - acc: 0.8722 - val_loss: 0.2998 - val_acc: 0.8803\n",
      "Epoch 18/50\n",
      "28224/28224 [==============================] - 1s 35us/step - loss: 0.2907 - acc: 0.8812 - val_loss: 0.2891 - val_acc: 0.8826\n",
      "Epoch 19/50\n",
      "28224/28224 [==============================] - 1s 35us/step - loss: 0.2810 - acc: 0.8880 - val_loss: 0.2808 - val_acc: 0.8840\n",
      "Epoch 20/50\n",
      "28224/28224 [==============================] - 1s 35us/step - loss: 0.2710 - acc: 0.8908 - val_loss: 0.2699 - val_acc: 0.8965\n",
      "Epoch 21/50\n",
      "28224/28224 [==============================] - 1s 36us/step - loss: 0.2613 - acc: 0.8983 - val_loss: 0.2604 - val_acc: 0.9018\n",
      "Epoch 22/50\n",
      "28224/28224 [==============================] - 1s 36us/step - loss: 0.2524 - acc: 0.9033 - val_loss: 0.2515 - val_acc: 0.9053\n",
      "Epoch 23/50\n",
      "28224/28224 [==============================] - 1s 36us/step - loss: 0.2433 - acc: 0.9082 - val_loss: 0.2452 - val_acc: 0.9072\n",
      "Epoch 24/50\n",
      "28224/28224 [==============================] - 1s 36us/step - loss: 0.2354 - acc: 0.9134 - val_loss: 0.2355 - val_acc: 0.9130\n",
      "Epoch 25/50\n",
      "28224/28224 [==============================] - 1s 36us/step - loss: 0.2275 - acc: 0.9171 - val_loss: 0.2284 - val_acc: 0.9159\n",
      "Epoch 26/50\n",
      "28224/28224 [==============================] - 1s 36us/step - loss: 0.2211 - acc: 0.9183 - val_loss: 0.2237 - val_acc: 0.9158\n",
      "Epoch 27/50\n",
      "28224/28224 [==============================] - 1s 36us/step - loss: 0.2164 - acc: 0.9173 - val_loss: 0.2175 - val_acc: 0.9177\n",
      "Epoch 28/50\n",
      "28224/28224 [==============================] - 1s 36us/step - loss: 0.2100 - acc: 0.9212 - val_loss: 0.2120 - val_acc: 0.9187\n",
      "Epoch 29/50\n",
      "28224/28224 [==============================] - 1s 35us/step - loss: 0.2048 - acc: 0.9216 - val_loss: 0.2065 - val_acc: 0.9195\n",
      "Epoch 30/50\n",
      "28224/28224 [==============================] - 1s 36us/step - loss: 0.2006 - acc: 0.9232 - val_loss: 0.2033 - val_acc: 0.9202\n",
      "Epoch 31/50\n",
      "28224/28224 [==============================] - 1s 35us/step - loss: 0.1979 - acc: 0.9235 - val_loss: 0.2043 - val_acc: 0.9185\n",
      "Epoch 32/50\n",
      "28224/28224 [==============================] - 1s 36us/step - loss: 0.1938 - acc: 0.9258 - val_loss: 0.2050 - val_acc: 0.9185\n",
      "Epoch 33/50\n",
      "28224/28224 [==============================] - 1s 35us/step - loss: 0.1939 - acc: 0.9253 - val_loss: 0.2003 - val_acc: 0.9199\n",
      "Epoch 34/50\n",
      "28224/28224 [==============================] - 1s 35us/step - loss: 0.1954 - acc: 0.9249 - val_loss: 0.2059 - val_acc: 0.9180\n",
      "Epoch 35/50\n",
      "28224/28224 [==============================] - 1s 35us/step - loss: 0.1946 - acc: 0.9239 - val_loss: 0.2253 - val_acc: 0.9084\n",
      "Epoch 36/50\n",
      "28224/28224 [==============================] - 1s 35us/step - loss: 0.1997 - acc: 0.9203 - val_loss: 0.1984 - val_acc: 0.9210\n",
      "Epoch 37/50\n",
      "28224/28224 [==============================] - 1s 35us/step - loss: 0.1884 - acc: 0.9268 - val_loss: 0.1913 - val_acc: 0.9239\n",
      "Epoch 38/50\n",
      "28224/28224 [==============================] - 1s 35us/step - loss: 0.1859 - acc: 0.9266 - val_loss: 0.1895 - val_acc: 0.9242\n",
      "Epoch 39/50\n",
      "28224/28224 [==============================] - 1s 35us/step - loss: 0.1827 - acc: 0.9277 - val_loss: 0.1864 - val_acc: 0.9262\n",
      "Epoch 40/50\n",
      "28224/28224 [==============================] - 1s 35us/step - loss: 0.1787 - acc: 0.9302 - val_loss: 0.1844 - val_acc: 0.9264\n",
      "Epoch 41/50\n",
      "28224/28224 [==============================] - 1s 35us/step - loss: 0.1765 - acc: 0.9315 - val_loss: 0.1826 - val_acc: 0.9265\n",
      "Epoch 42/50\n",
      "28224/28224 [==============================] - 1s 35us/step - loss: 0.1765 - acc: 0.9312 - val_loss: 0.1784 - val_acc: 0.9278\n",
      "Epoch 43/50\n",
      "28224/28224 [==============================] - 1s 35us/step - loss: 0.1722 - acc: 0.9325 - val_loss: 0.1802 - val_acc: 0.9280\n",
      "Epoch 44/50\n",
      "28224/28224 [==============================] - 1s 35us/step - loss: 0.1720 - acc: 0.9328 - val_loss: 0.1786 - val_acc: 0.9291\n",
      "Epoch 45/50\n",
      "28224/28224 [==============================] - 1s 35us/step - loss: 0.1706 - acc: 0.9333 - val_loss: 0.1734 - val_acc: 0.9311\n",
      "Epoch 46/50\n",
      "28224/28224 [==============================] - 1s 35us/step - loss: 0.1671 - acc: 0.9351 - val_loss: 0.1721 - val_acc: 0.9307\n",
      "Epoch 47/50\n",
      "28224/28224 [==============================] - 1s 35us/step - loss: 0.1658 - acc: 0.9350 - val_loss: 0.1711 - val_acc: 0.9316\n",
      "Epoch 48/50\n",
      "28224/28224 [==============================] - 1s 35us/step - loss: 0.1649 - acc: 0.9357 - val_loss: 0.1742 - val_acc: 0.9297\n",
      "Epoch 49/50\n",
      "28224/28224 [==============================] - 1s 35us/step - loss: 0.1645 - acc: 0.9353 - val_loss: 0.1693 - val_acc: 0.9321\n",
      "Epoch 50/50\n",
      "28224/28224 [==============================] - 1s 35us/step - loss: 0.1629 - acc: 0.9359 - val_loss: 0.1709 - val_acc: 0.9309\n"
     ]
    },
    {
     "data": {
      "text/plain": [
       "<keras.callbacks.History at 0x7f755f5adcf8>"
      ]
     },
     "execution_count": 8,
     "metadata": {},
     "output_type": "execute_result"
    }
   ],
   "source": [
    "m.fit(x_train, y_train,\n",
    "          batch_size=10000, epochs=50, shuffle=True,\n",
    "          validation_data=(x_test, y_test))"
   ]
  },
  {
   "cell_type": "code",
   "execution_count": 31,
   "metadata": {},
   "outputs": [
    {
     "name": "stdout",
     "output_type": "stream",
     "text": [
      "triage-41wf7ch-14-Aug-2018@22-50-06.h5\n",
      "triage-41wf7ch-14-Aug-2018@22-50-06.yaml\n"
     ]
    }
   ],
   "source": [
    "_, wf, ch, _ = m.input_shape\n",
    "\n",
    "prefix = f'triage-{wf}wf{ch}ch-'\n",
    "name_model, name_metadata = make_filename(prefix=prefix, extension=('h5', 'yaml'))\n",
    "print(name_model)\n",
    "print(name_metadata)"
   ]
  },
  {
   "cell_type": "code",
   "execution_count": 32,
   "metadata": {},
   "outputs": [],
   "source": [
    "path_to_model = Path(path_to_models, name_model)\n",
    "path_to_metadata = Path(path_to_models, name_metadata)\n",
    "\n",
    "m.save(path_to_model)\n",
    "\n",
    "metadata = {'path_to_x': str(path_to_x), 'path_to_y': str(path_to_x), 'input_shape': list(m.input_shape)}\n",
    "\n",
    "with open(path_to_metadata, 'w') as f:\n",
    "    yaml.dump(metadata, f)"
   ]
  },
  {
   "cell_type": "code",
   "execution_count": null,
   "metadata": {},
   "outputs": [],
   "source": []
  }
 ],
 "metadata": {
  "kernelspec": {
   "display_name": "Python 3",
   "language": "python",
   "name": "python3"
  },
  "language_info": {
   "codemirror_mode": {
    "name": "ipython",
    "version": 3
   },
   "file_extension": ".py",
   "mimetype": "text/x-python",
   "name": "python",
   "nbconvert_exporter": "python",
   "pygments_lexer": "ipython3",
   "version": "3.6.5"
  }
 },
 "nbformat": 4,
 "nbformat_minor": 2
}
