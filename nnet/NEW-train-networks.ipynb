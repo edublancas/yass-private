{
 "cells": [
  {
   "cell_type": "markdown",
   "metadata": {},
   "source": [
    "## Training neural networks\n",
    "\n",
    "This notebook describes the workflow for training neural networks"
   ]
  },
  {
   "cell_type": "code",
   "execution_count": 1,
   "metadata": {},
   "outputs": [],
   "source": [
    "%load_ext autoreload\n",
    "%autoreload 2"
   ]
  },
  {
   "cell_type": "code",
   "execution_count": 2,
   "metadata": {},
   "outputs": [
    {
     "name": "stderr",
     "output_type": "stream",
     "text": [
      "Using TensorFlow backend.\n"
     ]
    }
   ],
   "source": [
    "from os import getcwd\n",
    "from pathlib import Path\n",
    "from functools import reduce\n",
    "\n",
    "import yaml\n",
    "import numpy as np\n",
    "import keras\n",
    "from sklearn.model_selection import train_test_split\n",
    "from keras.models import Sequential\n",
    "from keras.layers import Dense, Conv2D, Flatten, MaxPooling2D, Dropout\n",
    "from dstools.reproducibility import make_filename\n",
    "from dstools.reproducibility.util import git_hash_in_path, get_version\n",
    "from dstools.util import save\n",
    "\n",
    "from yass import util"
   ]
  },
  {
   "cell_type": "code",
   "execution_count": 3,
   "metadata": {},
   "outputs": [],
   "source": [
    "here = getcwd()\n",
    "here_version = git_hash_in_path(here)"
   ]
  },
  {
   "cell_type": "code",
   "execution_count": 4,
   "metadata": {},
   "outputs": [
    {
     "name": "stdout",
     "output_type": "stream",
     "text": [
      "YASS version is: f6dd519 removing split\n",
      "nbs version is: 2835c5c updates\n"
     ]
    }
   ],
   "source": [
    "# for reference\n",
    "print('YASS version is: {}'.format(get_version('yass')))\n",
    "print('nbs version is: {}'.format(here_version))"
   ]
  },
  {
   "cell_type": "code",
   "execution_count": null,
   "metadata": {},
   "outputs": [],
   "source": [
    "path_to_data = Path('~', 'data', 'triage').expanduser()\n",
    "path_to_output = path_to_data  / 'models'\n",
    "path_to_sets = path_to_data / 'sets'"
   ]
  },
  {
   "cell_type": "markdown",
   "metadata": {},
   "source": [
    "## Loading training data"
   ]
  },
  {
   "cell_type": "code",
   "execution_count": 16,
   "metadata": {},
   "outputs": [],
   "source": [
    "x_name = '2018-08-21T00-49-52:x-train-31wf7ch.npy'\n",
    "\n",
    "path_to_x_train = path_to_sets / x_name\n",
    "path_to_y_train = path_to_sets / x_name.replace('x', 'y')\n",
    "\n",
    "path_to_x_test = path_to_sets / x_name.replace('train', 'test')\n",
    "path_to_y_test = path_to_sets / x_name.replace('x-train', 'y-test')\n",
    "\n",
    "x_train = np.load(path_to_x_train)\n",
    "y_train = np.load(path_to_y_train)\n",
    "x_test = np.load(path_to_x_test)\n",
    "y_test = np.load(path_to_y_test)"
   ]
  },
  {
   "cell_type": "code",
   "execution_count": 11,
   "metadata": {},
   "outputs": [],
   "source": [
    "def make_model(x_train, input_shape):\n",
    "    n_data, window_size, n_channels, _ = x_train.shape\n",
    "\n",
    "    model = Sequential()\n",
    "        \n",
    "#     model.add(MaxPooling2D(pool_size=(2, 1), data_format=\"channels_last\", padding='same'))\n",
    "    \n",
    "#     model.add(Dropout(0.75))\n",
    "\n",
    "    model.add(Conv2D(10, kernel_size=(5, 5),\n",
    "                     padding='same', activation='relu', use_bias=True,\n",
    "                     data_format=\"channels_last\", input_shape=input_shape))\n",
    "\n",
    "\n",
    "#     model.add(Conv2D(70, kernel_size=(window_size, 1),\n",
    "#                      padding='valid', activation='relu', use_bias=True,\n",
    "#                      data_format=\"channels_last\"))\n",
    "    \n",
    "    model.add(Conv2D(10, kernel_size=(5, 5),\n",
    "                     padding='same', activation='relu', use_bias=True,\n",
    "                     data_format=\"channels_last\"))\n",
    "\n",
    "\n",
    "#     model.add(Conv2D(70, kernel_size=(1, n_channels),\n",
    "#                      padding='valid', activation='relu', use_bias=True,\n",
    "#                      data_format=\"channels_last\"))\n",
    "    \n",
    "    model.add(Conv2D(10, kernel_size=(5, 5),\n",
    "                     padding='same', activation='linear', use_bias=True,\n",
    "                     data_format=\"channels_last\"))\n",
    "        \n",
    "#     model.add(MaxPooling2D(pool_size=(1, 2), data_format=\"channels_last\", padding='same'))\n",
    "#     model.add(Dropout(0.75))\n",
    "    \n",
    "    model.add(Flatten())\n",
    "    model.add(Dense(1, activation='sigmoid'))\n",
    "    \n",
    "    model.summary()\n",
    "    \n",
    "    # initiate RMSprop optimizer\n",
    "    opt = keras.optimizers.rmsprop(lr=0.0001, decay=1e-6)\n",
    "    opt = keras.optimizers.adam(lr=0.001)\n",
    "\n",
    "    model.compile(loss='binary_crossentropy',\n",
    "                  optimizer=opt,\n",
    "                  metrics=['accuracy'])\n",
    "    \n",
    "    return model\n"
   ]
  },
  {
   "cell_type": "markdown",
   "metadata": {},
   "source": [
    "# Triage Ttaining"
   ]
  },
  {
   "cell_type": "code",
   "execution_count": 17,
   "metadata": {},
   "outputs": [
    {
     "name": "stdout",
     "output_type": "stream",
     "text": [
      "_________________________________________________________________\n",
      "Layer (type)                 Output Shape              Param #   \n",
      "=================================================================\n",
      "conv2d_1 (Conv2D)            (None, 31, 7, 10)         260       \n",
      "_________________________________________________________________\n",
      "conv2d_2 (Conv2D)            (None, 31, 7, 10)         2510      \n",
      "_________________________________________________________________\n",
      "conv2d_3 (Conv2D)            (None, 31, 7, 10)         2510      \n",
      "_________________________________________________________________\n",
      "flatten_1 (Flatten)          (None, 2170)              0         \n",
      "_________________________________________________________________\n",
      "dense_1 (Dense)              (None, 1)                 2171      \n",
      "=================================================================\n",
      "Total params: 7,451\n",
      "Trainable params: 7,451\n",
      "Non-trainable params: 0\n",
      "_________________________________________________________________\n"
     ]
    }
   ],
   "source": [
    "# import models\n",
    "x_train = x_train[:, : , :, np.newaxis]\n",
    "x_test = x_test[:, : , :, np.newaxis]\n",
    "\n",
    "_, wf, ch, _ = x_train.shape\n",
    "\n",
    "m = make_model(x_train, (wf, ch, 1))"
   ]
  },
  {
   "cell_type": "code",
   "execution_count": 18,
   "metadata": {
    "scrolled": false
   },
   "outputs": [
    {
     "name": "stdout",
     "output_type": "stream",
     "text": [
      "Train on 48240 samples, validate on 23760 samples\n",
      "Epoch 1/100\n",
      "48240/48240 [==============================] - 5s 111us/step - loss: 0.7438 - acc: 0.6464 - val_loss: 0.4196 - val_acc: 0.8599\n",
      "Epoch 2/100\n",
      "48240/48240 [==============================] - 1s 26us/step - loss: 0.4046 - acc: 0.8370 - val_loss: 0.2975 - val_acc: 0.9335\n",
      "Epoch 3/100\n",
      "48240/48240 [==============================] - 1s 26us/step - loss: 0.2871 - acc: 0.9187 - val_loss: 0.2310 - val_acc: 0.9397\n",
      "Epoch 4/100\n",
      "48240/48240 [==============================] - 1s 27us/step - loss: 0.2152 - acc: 0.9428 - val_loss: 0.1897 - val_acc: 0.9497\n",
      "Epoch 5/100\n",
      "48240/48240 [==============================] - 1s 26us/step - loss: 0.1734 - acc: 0.9529 - val_loss: 0.1562 - val_acc: 0.9574\n",
      "Epoch 6/100\n",
      "48240/48240 [==============================] - 1s 27us/step - loss: 0.1448 - acc: 0.9599 - val_loss: 0.1316 - val_acc: 0.9643\n",
      "Epoch 7/100\n",
      "48240/48240 [==============================] - 1s 27us/step - loss: 0.1217 - acc: 0.9691 - val_loss: 0.1084 - val_acc: 0.9746\n",
      "Epoch 8/100\n",
      "48240/48240 [==============================] - 1s 26us/step - loss: 0.1025 - acc: 0.9771 - val_loss: 0.0926 - val_acc: 0.9805\n",
      "Epoch 9/100\n",
      "48240/48240 [==============================] - 1s 26us/step - loss: 0.0875 - acc: 0.9823 - val_loss: 0.0789 - val_acc: 0.9853\n",
      "Epoch 10/100\n",
      "48240/48240 [==============================] - 1s 26us/step - loss: 0.0758 - acc: 0.9865 - val_loss: 0.0691 - val_acc: 0.9874\n",
      "Epoch 11/100\n",
      "48240/48240 [==============================] - 1s 27us/step - loss: 0.0667 - acc: 0.9878 - val_loss: 0.0625 - val_acc: 0.9886\n",
      "Epoch 12/100\n",
      "48240/48240 [==============================] - 1s 26us/step - loss: 0.0597 - acc: 0.9898 - val_loss: 0.0562 - val_acc: 0.9893\n",
      "Epoch 13/100\n",
      "48240/48240 [==============================] - 1s 26us/step - loss: 0.0539 - acc: 0.9911 - val_loss: 0.0509 - val_acc: 0.9912\n",
      "Epoch 14/100\n",
      "48240/48240 [==============================] - 1s 26us/step - loss: 0.0493 - acc: 0.9918 - val_loss: 0.0470 - val_acc: 0.9914\n",
      "Epoch 15/100\n",
      "48240/48240 [==============================] - 1s 26us/step - loss: 0.0457 - acc: 0.9926 - val_loss: 0.0440 - val_acc: 0.9910\n",
      "Epoch 16/100\n",
      "48240/48240 [==============================] - 1s 26us/step - loss: 0.0427 - acc: 0.9924 - val_loss: 0.0416 - val_acc: 0.9925\n",
      "Epoch 17/100\n",
      "48240/48240 [==============================] - 1s 26us/step - loss: 0.0403 - acc: 0.9928 - val_loss: 0.0388 - val_acc: 0.9927\n",
      "Epoch 18/100\n",
      "48240/48240 [==============================] - 1s 26us/step - loss: 0.0381 - acc: 0.9932 - val_loss: 0.0368 - val_acc: 0.9929\n",
      "Epoch 19/100\n",
      "48240/48240 [==============================] - 1s 26us/step - loss: 0.0361 - acc: 0.9936 - val_loss: 0.0353 - val_acc: 0.9921\n",
      "Epoch 20/100\n",
      "48240/48240 [==============================] - 1s 26us/step - loss: 0.0346 - acc: 0.9937 - val_loss: 0.0336 - val_acc: 0.9927\n",
      "Epoch 21/100\n",
      "48240/48240 [==============================] - 1s 26us/step - loss: 0.0331 - acc: 0.9935 - val_loss: 0.0324 - val_acc: 0.9934\n",
      "Epoch 22/100\n",
      "48240/48240 [==============================] - 1s 26us/step - loss: 0.0318 - acc: 0.9939 - val_loss: 0.0313 - val_acc: 0.9926\n",
      "Epoch 23/100\n",
      "48240/48240 [==============================] - 1s 26us/step - loss: 0.0309 - acc: 0.9938 - val_loss: 0.0302 - val_acc: 0.9930\n",
      "Epoch 24/100\n",
      "48240/48240 [==============================] - 1s 26us/step - loss: 0.0298 - acc: 0.9938 - val_loss: 0.0292 - val_acc: 0.9932\n",
      "Epoch 25/100\n",
      "48240/48240 [==============================] - 1s 26us/step - loss: 0.0287 - acc: 0.9941 - val_loss: 0.0283 - val_acc: 0.9938\n",
      "Epoch 26/100\n",
      "48240/48240 [==============================] - 1s 26us/step - loss: 0.0280 - acc: 0.9941 - val_loss: 0.0277 - val_acc: 0.9943\n",
      "Epoch 27/100\n",
      "48240/48240 [==============================] - 1s 27us/step - loss: 0.0275 - acc: 0.9941 - val_loss: 0.0269 - val_acc: 0.9946\n",
      "Epoch 28/100\n",
      "48240/48240 [==============================] - 1s 26us/step - loss: 0.0266 - acc: 0.9944 - val_loss: 0.0261 - val_acc: 0.9939\n",
      "Epoch 29/100\n",
      "48240/48240 [==============================] - 1s 26us/step - loss: 0.0260 - acc: 0.9945 - val_loss: 0.0260 - val_acc: 0.9937\n",
      "Epoch 30/100\n",
      "48240/48240 [==============================] - 1s 26us/step - loss: 0.0256 - acc: 0.9946 - val_loss: 0.0249 - val_acc: 0.9944\n",
      "Epoch 31/100\n",
      "48240/48240 [==============================] - 1s 26us/step - loss: 0.0245 - acc: 0.9948 - val_loss: 0.0242 - val_acc: 0.9948\n",
      "Epoch 32/100\n",
      "48240/48240 [==============================] - 1s 26us/step - loss: 0.0241 - acc: 0.9948 - val_loss: 0.0237 - val_acc: 0.9951\n",
      "Epoch 33/100\n",
      "48240/48240 [==============================] - 1s 26us/step - loss: 0.0234 - acc: 0.9951 - val_loss: 0.0233 - val_acc: 0.9952\n",
      "Epoch 34/100\n",
      "48240/48240 [==============================] - 1s 26us/step - loss: 0.0228 - acc: 0.9951 - val_loss: 0.0230 - val_acc: 0.9948\n",
      "Epoch 35/100\n",
      "48240/48240 [==============================] - 1s 26us/step - loss: 0.0224 - acc: 0.9953 - val_loss: 0.0225 - val_acc: 0.9950\n",
      "Epoch 36/100\n",
      "48240/48240 [==============================] - 1s 26us/step - loss: 0.0221 - acc: 0.9954 - val_loss: 0.0219 - val_acc: 0.9957\n",
      "Epoch 37/100\n",
      "48240/48240 [==============================] - 1s 26us/step - loss: 0.0215 - acc: 0.9955 - val_loss: 0.0216 - val_acc: 0.9960\n",
      "Epoch 38/100\n",
      "48240/48240 [==============================] - 1s 26us/step - loss: 0.0211 - acc: 0.9956 - val_loss: 0.0211 - val_acc: 0.9960\n",
      "Epoch 39/100\n",
      "48240/48240 [==============================] - 1s 26us/step - loss: 0.0209 - acc: 0.9956 - val_loss: 0.0208 - val_acc: 0.9958\n",
      "Epoch 40/100\n",
      "48240/48240 [==============================] - 1s 26us/step - loss: 0.0210 - acc: 0.9955 - val_loss: 0.0206 - val_acc: 0.9963\n",
      "Epoch 41/100\n",
      "48240/48240 [==============================] - 1s 26us/step - loss: 0.0234 - acc: 0.9944 - val_loss: 0.0206 - val_acc: 0.9963\n",
      "Epoch 42/100\n",
      "48240/48240 [==============================] - 1s 26us/step - loss: 0.0239 - acc: 0.9943 - val_loss: 0.0202 - val_acc: 0.9965\n",
      "Epoch 43/100\n",
      "48240/48240 [==============================] - 1s 26us/step - loss: 0.0295 - acc: 0.9926 - val_loss: 0.0198 - val_acc: 0.9963\n",
      "Epoch 44/100\n",
      "48240/48240 [==============================] - 1s 26us/step - loss: 0.0455 - acc: 0.9875 - val_loss: 0.0209 - val_acc: 0.9957\n",
      "Epoch 45/100\n",
      "48240/48240 [==============================] - 1s 26us/step - loss: 0.0527 - acc: 0.9852 - val_loss: 0.0331 - val_acc: 0.9902\n",
      "Epoch 46/100\n",
      "48240/48240 [==============================] - 1s 26us/step - loss: 0.0460 - acc: 0.9874 - val_loss: 0.0765 - val_acc: 0.9798\n",
      "Epoch 47/100\n",
      "48240/48240 [==============================] - 1s 26us/step - loss: 0.0456 - acc: 0.9884 - val_loss: 0.0203 - val_acc: 0.9965\n",
      "Epoch 48/100\n",
      "48240/48240 [==============================] - 1s 26us/step - loss: 0.0394 - acc: 0.9902 - val_loss: 0.0206 - val_acc: 0.9963\n",
      "Epoch 49/100\n",
      "48240/48240 [==============================] - 1s 26us/step - loss: 0.0249 - acc: 0.9950 - val_loss: 0.0260 - val_acc: 0.9931\n",
      "Epoch 50/100\n",
      "48240/48240 [==============================] - 1s 26us/step - loss: 0.0252 - acc: 0.9938 - val_loss: 0.0203 - val_acc: 0.9968\n",
      "Epoch 51/100\n",
      "48240/48240 [==============================] - 1s 26us/step - loss: 0.0203 - acc: 0.9969 - val_loss: 0.0206 - val_acc: 0.9959\n",
      "Epoch 52/100\n",
      "48240/48240 [==============================] - 1s 26us/step - loss: 0.0200 - acc: 0.9959 - val_loss: 0.0188 - val_acc: 0.9972\n",
      "Epoch 53/100\n",
      "48240/48240 [==============================] - 1s 26us/step - loss: 0.0183 - acc: 0.9972 - val_loss: 0.0185 - val_acc: 0.9965\n",
      "Epoch 54/100\n",
      "48240/48240 [==============================] - 1s 26us/step - loss: 0.0179 - acc: 0.9964 - val_loss: 0.0179 - val_acc: 0.9972\n",
      "Epoch 55/100\n",
      "48240/48240 [==============================] - 1s 26us/step - loss: 0.0173 - acc: 0.9970 - val_loss: 0.0175 - val_acc: 0.9968\n",
      "Epoch 56/100\n",
      "48240/48240 [==============================] - 1s 26us/step - loss: 0.0168 - acc: 0.9967 - val_loss: 0.0170 - val_acc: 0.9971\n",
      "Epoch 57/100\n",
      "48240/48240 [==============================] - 1s 26us/step - loss: 0.0164 - acc: 0.9968 - val_loss: 0.0167 - val_acc: 0.9969\n",
      "Epoch 58/100\n",
      "48240/48240 [==============================] - 1s 26us/step - loss: 0.0161 - acc: 0.9969 - val_loss: 0.0165 - val_acc: 0.9970\n",
      "Epoch 59/100\n"
     ]
    },
    {
     "name": "stdout",
     "output_type": "stream",
     "text": [
      "48240/48240 [==============================] - 1s 26us/step - loss: 0.0159 - acc: 0.9968 - val_loss: 0.0163 - val_acc: 0.9969\n",
      "Epoch 60/100\n",
      "48240/48240 [==============================] - 1s 26us/step - loss: 0.0157 - acc: 0.9968 - val_loss: 0.0162 - val_acc: 0.9971\n",
      "Epoch 61/100\n",
      "48240/48240 [==============================] - 1s 26us/step - loss: 0.0158 - acc: 0.9968 - val_loss: 0.0159 - val_acc: 0.9970\n",
      "Epoch 62/100\n",
      "48240/48240 [==============================] - 1s 26us/step - loss: 0.0153 - acc: 0.9969 - val_loss: 0.0157 - val_acc: 0.9970\n",
      "Epoch 63/100\n",
      "48240/48240 [==============================] - 1s 26us/step - loss: 0.0150 - acc: 0.9968 - val_loss: 0.0157 - val_acc: 0.9972\n",
      "Epoch 64/100\n",
      "48240/48240 [==============================] - 1s 26us/step - loss: 0.0150 - acc: 0.9969 - val_loss: 0.0153 - val_acc: 0.9969\n",
      "Epoch 65/100\n",
      "48240/48240 [==============================] - 1s 26us/step - loss: 0.0146 - acc: 0.9969 - val_loss: 0.0152 - val_acc: 0.9971\n",
      "Epoch 66/100\n",
      "48240/48240 [==============================] - 1s 26us/step - loss: 0.0145 - acc: 0.9970 - val_loss: 0.0151 - val_acc: 0.9970\n",
      "Epoch 67/100\n",
      "48240/48240 [==============================] - 1s 26us/step - loss: 0.0143 - acc: 0.9969 - val_loss: 0.0149 - val_acc: 0.9972\n",
      "Epoch 68/100\n",
      "48240/48240 [==============================] - 1s 26us/step - loss: 0.0142 - acc: 0.9970 - val_loss: 0.0148 - val_acc: 0.9969\n",
      "Epoch 69/100\n",
      "48240/48240 [==============================] - 1s 26us/step - loss: 0.0140 - acc: 0.9970 - val_loss: 0.0146 - val_acc: 0.9973\n",
      "Epoch 70/100\n",
      "48240/48240 [==============================] - 1s 26us/step - loss: 0.0139 - acc: 0.9970 - val_loss: 0.0145 - val_acc: 0.9970\n",
      "Epoch 71/100\n",
      "48240/48240 [==============================] - 1s 26us/step - loss: 0.0137 - acc: 0.9971 - val_loss: 0.0142 - val_acc: 0.9971\n",
      "Epoch 72/100\n",
      "48240/48240 [==============================] - 1s 26us/step - loss: 0.0135 - acc: 0.9970 - val_loss: 0.0141 - val_acc: 0.9971\n",
      "Epoch 73/100\n",
      "48240/48240 [==============================] - 1s 26us/step - loss: 0.0133 - acc: 0.9971 - val_loss: 0.0140 - val_acc: 0.9972\n",
      "Epoch 74/100\n",
      "48240/48240 [==============================] - 1s 26us/step - loss: 0.0132 - acc: 0.9971 - val_loss: 0.0139 - val_acc: 0.9973\n",
      "Epoch 75/100\n",
      "48240/48240 [==============================] - 1s 26us/step - loss: 0.0130 - acc: 0.9971 - val_loss: 0.0137 - val_acc: 0.9974\n",
      "Epoch 76/100\n",
      "48240/48240 [==============================] - 1s 26us/step - loss: 0.0129 - acc: 0.9972 - val_loss: 0.0136 - val_acc: 0.9973\n",
      "Epoch 77/100\n",
      "48240/48240 [==============================] - 1s 26us/step - loss: 0.0127 - acc: 0.9972 - val_loss: 0.0135 - val_acc: 0.9971\n",
      "Epoch 78/100\n",
      "48240/48240 [==============================] - 1s 26us/step - loss: 0.0127 - acc: 0.9972 - val_loss: 0.0132 - val_acc: 0.9974\n",
      "Epoch 79/100\n",
      "48240/48240 [==============================] - 1s 26us/step - loss: 0.0125 - acc: 0.9972 - val_loss: 0.0131 - val_acc: 0.9975\n",
      "Epoch 80/100\n",
      "48240/48240 [==============================] - 1s 26us/step - loss: 0.0123 - acc: 0.9973 - val_loss: 0.0131 - val_acc: 0.9972\n",
      "Epoch 81/100\n",
      "48240/48240 [==============================] - 1s 26us/step - loss: 0.0122 - acc: 0.9974 - val_loss: 0.0129 - val_acc: 0.9975\n",
      "Epoch 82/100\n",
      "48240/48240 [==============================] - 1s 26us/step - loss: 0.0121 - acc: 0.9973 - val_loss: 0.0128 - val_acc: 0.9976\n",
      "Epoch 83/100\n",
      "48240/48240 [==============================] - 1s 26us/step - loss: 0.0120 - acc: 0.9974 - val_loss: 0.0128 - val_acc: 0.9974\n",
      "Epoch 84/100\n",
      "48240/48240 [==============================] - 1s 26us/step - loss: 0.0118 - acc: 0.9975 - val_loss: 0.0125 - val_acc: 0.9977\n",
      "Epoch 85/100\n",
      "48240/48240 [==============================] - 1s 26us/step - loss: 0.0116 - acc: 0.9973 - val_loss: 0.0124 - val_acc: 0.9977\n",
      "Epoch 86/100\n",
      "48240/48240 [==============================] - 1s 26us/step - loss: 0.0116 - acc: 0.9977 - val_loss: 0.0127 - val_acc: 0.9971\n",
      "Epoch 87/100\n",
      "48240/48240 [==============================] - 1s 26us/step - loss: 0.0116 - acc: 0.9975 - val_loss: 0.0123 - val_acc: 0.9978\n",
      "Epoch 88/100\n",
      "48240/48240 [==============================] - 1s 26us/step - loss: 0.0116 - acc: 0.9974 - val_loss: 0.0121 - val_acc: 0.9978\n",
      "Epoch 89/100\n",
      "48240/48240 [==============================] - 1s 26us/step - loss: 0.0113 - acc: 0.9977 - val_loss: 0.0132 - val_acc: 0.9970\n",
      "Epoch 90/100\n",
      "48240/48240 [==============================] - 1s 26us/step - loss: 0.0114 - acc: 0.9974 - val_loss: 0.0127 - val_acc: 0.9978\n",
      "Epoch 91/100\n",
      "48240/48240 [==============================] - 1s 26us/step - loss: 0.0113 - acc: 0.9975 - val_loss: 0.0123 - val_acc: 0.9973\n",
      "Epoch 92/100\n",
      "48240/48240 [==============================] - 1s 26us/step - loss: 0.0109 - acc: 0.9979 - val_loss: 0.0117 - val_acc: 0.9977\n",
      "Epoch 93/100\n",
      "48240/48240 [==============================] - 1s 26us/step - loss: 0.0107 - acc: 0.9977 - val_loss: 0.0116 - val_acc: 0.9979\n",
      "Epoch 94/100\n",
      "48240/48240 [==============================] - 1s 26us/step - loss: 0.0106 - acc: 0.9979 - val_loss: 0.0117 - val_acc: 0.9976\n",
      "Epoch 95/100\n",
      "48240/48240 [==============================] - 1s 26us/step - loss: 0.0105 - acc: 0.9978 - val_loss: 0.0113 - val_acc: 0.9978\n",
      "Epoch 96/100\n",
      "48240/48240 [==============================] - 1s 26us/step - loss: 0.0103 - acc: 0.9979 - val_loss: 0.0112 - val_acc: 0.9977\n",
      "Epoch 97/100\n",
      "48240/48240 [==============================] - 1s 26us/step - loss: 0.0102 - acc: 0.9980 - val_loss: 0.0112 - val_acc: 0.9977\n",
      "Epoch 98/100\n",
      "48240/48240 [==============================] - 1s 26us/step - loss: 0.0101 - acc: 0.9979 - val_loss: 0.0110 - val_acc: 0.9979\n",
      "Epoch 99/100\n",
      "48240/48240 [==============================] - 1s 26us/step - loss: 0.0100 - acc: 0.9981 - val_loss: 0.0111 - val_acc: 0.9976\n",
      "Epoch 100/100\n",
      "48240/48240 [==============================] - 1s 26us/step - loss: 0.0100 - acc: 0.9981 - val_loss: 0.0108 - val_acc: 0.9979\n"
     ]
    },
    {
     "data": {
      "text/plain": [
       "<keras.callbacks.History at 0x7f4cdfa4d7f0>"
      ]
     },
     "execution_count": 18,
     "metadata": {},
     "output_type": "execute_result"
    }
   ],
   "source": [
    "m.fit(x_train, y_train,\n",
    "      batch_size=10000, epochs=100, shuffle=True,\n",
    "      validation_data=(x_test, y_test))"
   ]
  },
  {
   "cell_type": "code",
   "execution_count": 21,
   "metadata": {},
   "outputs": [
    {
     "data": {
      "text/plain": [
       "{'path_to_x_train': '/home/Edu/data/triage/sets/2018-08-21T00-49-52:x-train-31wf7ch.npy',\n",
       " 'path_to_y_train': '/home/Edu/data/triage/sets/2018-08-21T00-49-52:y-train-31wf7ch.npy',\n",
       " 'path_to_x_test': '/home/Edu/data/triage/sets/2018-08-21T00-49-52:x-test-31wf7ch.npy',\n",
       " 'path_to_y_test': '/home/Edu/data/triage/sets/2018-08-21T00-49-52:y-test-31wf7ch.npy',\n",
       " 'yass_version': 'f6dd519 removing split',\n",
       " 'nb_version': '2835c5c updates'}"
      ]
     },
     "execution_count": 21,
     "metadata": {},
     "output_type": "execute_result"
    }
   ],
   "source": [
    "metadata = dict(path_to_x_train=str(path_to_x_train),\n",
    "                path_to_y_train=str(path_to_y_train),\n",
    "                path_to_x_test=str(path_to_x_test),\n",
    "                path_to_y_test=str(path_to_y_test),\n",
    "                yass_version=get_version('yass'),\n",
    "                nb_version=git_hash_in_path(getcwd()))\n",
    "metadata"
   ]
  },
  {
   "cell_type": "code",
   "execution_count": 22,
   "metadata": {
    "scrolled": true
   },
   "outputs": [],
   "source": [
    "_, wf, ch, _ = m.input_shape\n",
    "\n",
    "sufix = f'triage-{wf}wf{ch}ch'\n",
    "names = make_filename(sufix=sufix, extension=('h5', 'yaml'))\n",
    "\n",
    "path_to_model, path_to_metadata = [str(path_to_output / name) for name in names]\n",
    "\n",
    "m.save(path_to_model)\n",
    "save(metadata, path_to_metadata)"
   ]
  },
  {
   "cell_type": "code",
   "execution_count": 23,
   "metadata": {},
   "outputs": [
    {
     "name": "stdout",
     "output_type": "stream",
     "text": [
      "/home/Edu/data/triage/models/2018-08-21T00-58-18:triage-31wf7ch.h5\n"
     ]
    }
   ],
   "source": [
    "print(path_to_model)"
   ]
  },
  {
   "cell_type": "code",
   "execution_count": null,
   "metadata": {},
   "outputs": [],
   "source": []
  }
 ],
 "metadata": {
  "kernelspec": {
   "display_name": "Python 3",
   "language": "python",
   "name": "python3"
  },
  "language_info": {
   "codemirror_mode": {
    "name": "ipython",
    "version": 3
   },
   "file_extension": ".py",
   "mimetype": "text/x-python",
   "name": "python",
   "nbconvert_exporter": "python",
   "pygments_lexer": "ipython3",
   "version": "3.6.6"
  }
 },
 "nbformat": 4,
 "nbformat_minor": 2
}
