{
 "cells": [
  {
   "cell_type": "markdown",
   "metadata": {},
   "source": [
    "## Training neural networks\n",
    "\n",
    "This notebook describes the workflow for training neural networks"
   ]
  },
  {
   "cell_type": "code",
   "execution_count": 1,
   "metadata": {},
   "outputs": [],
   "source": [
    "%load_ext autoreload\n",
    "%autoreload 2"
   ]
  },
  {
   "cell_type": "code",
   "execution_count": 2,
   "metadata": {},
   "outputs": [
    {
     "name": "stderr",
     "output_type": "stream",
     "text": [
      "Using TensorFlow backend.\n"
     ]
    }
   ],
   "source": [
    "from os import getcwd\n",
    "from pathlib import Path\n",
    "from functools import reduce\n",
    "\n",
    "import yaml\n",
    "import numpy as np\n",
    "import keras\n",
    "from sklearn.model_selection import train_test_split\n",
    "from keras.models import Sequential\n",
    "from keras.layers import Dense, Conv2D, Flatten, MaxPooling2D, Dropout\n",
    "from dstools.reproducibility import make_filename\n",
    "from dstools.reproducibility.util import git_hash_in_path, get_version\n",
    "from dstools.util import save\n",
    "\n",
    "from yass import util"
   ]
  },
  {
   "cell_type": "code",
   "execution_count": 3,
   "metadata": {},
   "outputs": [],
   "source": [
    "here = getcwd()\n",
    "here_version = git_hash_in_path(here)"
   ]
  },
  {
   "cell_type": "code",
   "execution_count": 4,
   "metadata": {},
   "outputs": [
    {
     "name": "stdout",
     "output_type": "stream",
     "text": [
      "YASS version is: d5925c9 options for specifying distribution of clean spikes\n",
      "nbs version is: 1a9c9bb noteboks for new triage network\n"
     ]
    }
   ],
   "source": [
    "# for reference\n",
    "print('YASS version is: {}'.format(get_version('yass')))\n",
    "print('nbs version is: {}'.format(here_version))"
   ]
  },
  {
   "cell_type": "code",
   "execution_count": 5,
   "metadata": {},
   "outputs": [],
   "source": [
    "path_to_data = Path('~', 'data', 'triage').expanduser()\n",
    "path_to_output = path_to_data  / 'models'\n",
    "path_to_sets = path_to_data / 'sets'"
   ]
  },
  {
   "cell_type": "markdown",
   "metadata": {},
   "source": [
    "## Loading training data"
   ]
  },
  {
   "cell_type": "code",
   "execution_count": 8,
   "metadata": {},
   "outputs": [],
   "source": [
    "x_name = '2018-08-21T15-31-09:x-train-31wf7ch.npy'\n",
    "\n",
    "path_to_x_train = path_to_sets / x_name\n",
    "path_to_y_train = path_to_sets / x_name.replace('x', 'y')\n",
    "\n",
    "path_to_x_test = path_to_sets / x_name.replace('train', 'test')\n",
    "path_to_y_test = path_to_sets / x_name.replace('x-train', 'y-test')\n",
    "\n",
    "x_train = np.load(path_to_x_train)\n",
    "y_train = np.load(path_to_y_train)\n",
    "x_test = np.load(path_to_x_test)\n",
    "y_test = np.load(path_to_y_test)"
   ]
  },
  {
   "cell_type": "code",
   "execution_count": 9,
   "metadata": {},
   "outputs": [],
   "source": [
    "def make_model(x_train, input_shape):\n",
    "    n_data, window_size, n_channels, _ = x_train.shape\n",
    "\n",
    "    model = Sequential()\n",
    "        \n",
    "#     model.add(MaxPooling2D(pool_size=(2, 1), data_format=\"channels_last\", padding='same'))\n",
    "    \n",
    "#     model.add(Dropout(0.75))\n",
    "\n",
    "    model.add(Conv2D(10, kernel_size=(5, 5),\n",
    "                     padding='same', activation='relu', use_bias=True,\n",
    "                     data_format=\"channels_last\", input_shape=input_shape))\n",
    "\n",
    "\n",
    "#     model.add(Conv2D(70, kernel_size=(window_size, 1),\n",
    "#                      padding='valid', activation='relu', use_bias=True,\n",
    "#                      data_format=\"channels_last\"))\n",
    "    \n",
    "    model.add(Conv2D(10, kernel_size=(5, 5),\n",
    "                     padding='same', activation='relu', use_bias=True,\n",
    "                     data_format=\"channels_last\"))\n",
    "\n",
    "\n",
    "#     model.add(Conv2D(70, kernel_size=(1, n_channels),\n",
    "#                      padding='valid', activation='relu', use_bias=True,\n",
    "#                      data_format=\"channels_last\"))\n",
    "    \n",
    "    model.add(Conv2D(10, kernel_size=(5, 5),\n",
    "                     padding='same', activation='linear', use_bias=True,\n",
    "                     data_format=\"channels_last\"))\n",
    "        \n",
    "#     model.add(MaxPooling2D(pool_size=(1, 2), data_format=\"channels_last\", padding='same'))\n",
    "#     model.add(Dropout(0.75))\n",
    "    \n",
    "    model.add(Flatten())\n",
    "    model.add(Dense(1, activation='sigmoid'))\n",
    "    \n",
    "    model.summary()\n",
    "    \n",
    "    # initiate RMSprop optimizer\n",
    "    opt = keras.optimizers.rmsprop(lr=0.0001, decay=1e-6)\n",
    "    opt = keras.optimizers.adam(lr=0.001)\n",
    "\n",
    "    model.compile(loss='binary_crossentropy',\n",
    "                  optimizer=opt,\n",
    "                  metrics=['accuracy'])\n",
    "    \n",
    "    return model\n"
   ]
  },
  {
   "cell_type": "markdown",
   "metadata": {},
   "source": [
    "# Triage Ttaining"
   ]
  },
  {
   "cell_type": "code",
   "execution_count": 10,
   "metadata": {},
   "outputs": [
    {
     "name": "stdout",
     "output_type": "stream",
     "text": [
      "_________________________________________________________________\n",
      "Layer (type)                 Output Shape              Param #   \n",
      "=================================================================\n",
      "conv2d_1 (Conv2D)            (None, 31, 7, 10)         260       \n",
      "_________________________________________________________________\n",
      "conv2d_2 (Conv2D)            (None, 31, 7, 10)         2510      \n",
      "_________________________________________________________________\n",
      "conv2d_3 (Conv2D)            (None, 31, 7, 10)         2510      \n",
      "_________________________________________________________________\n",
      "flatten_1 (Flatten)          (None, 2170)              0         \n",
      "_________________________________________________________________\n",
      "dense_1 (Dense)              (None, 1)                 2171      \n",
      "=================================================================\n",
      "Total params: 7,451\n",
      "Trainable params: 7,451\n",
      "Non-trainable params: 0\n",
      "_________________________________________________________________\n"
     ]
    }
   ],
   "source": [
    "# import models\n",
    "x_train = x_train[:, : , :, np.newaxis]\n",
    "x_test = x_test[:, : , :, np.newaxis]\n",
    "\n",
    "_, wf, ch, _ = x_train.shape\n",
    "\n",
    "m = make_model(x_train, (wf, ch, 1))"
   ]
  },
  {
   "cell_type": "code",
   "execution_count": 11,
   "metadata": {
    "scrolled": false
   },
   "outputs": [
    {
     "name": "stdout",
     "output_type": "stream",
     "text": [
      "Train on 48240 samples, validate on 23760 samples\n",
      "Epoch 1/100\n",
      "48240/48240 [==============================] - 17s 362us/step - loss: 0.6655 - acc: 0.6053 - val_loss: 0.5137 - val_acc: 0.8468\n",
      "Epoch 2/100\n",
      "48240/48240 [==============================] - 1s 27us/step - loss: 0.4408 - acc: 0.8780 - val_loss: 0.3392 - val_acc: 0.9016\n",
      "Epoch 3/100\n",
      "48240/48240 [==============================] - 1s 27us/step - loss: 0.2936 - acc: 0.9158 - val_loss: 0.2394 - val_acc: 0.9248\n",
      "Epoch 4/100\n",
      "48240/48240 [==============================] - 1s 27us/step - loss: 0.2172 - acc: 0.9300 - val_loss: 0.1850 - val_acc: 0.9414\n",
      "Epoch 5/100\n",
      "48240/48240 [==============================] - 1s 27us/step - loss: 0.1636 - acc: 0.9473 - val_loss: 0.1318 - val_acc: 0.9595\n",
      "Epoch 6/100\n",
      "48240/48240 [==============================] - 1s 27us/step - loss: 0.1146 - acc: 0.9669 - val_loss: 0.0930 - val_acc: 0.9753\n",
      "Epoch 7/100\n",
      "48240/48240 [==============================] - 1s 27us/step - loss: 0.0854 - acc: 0.9777 - val_loss: 0.0762 - val_acc: 0.9803\n",
      "Epoch 8/100\n",
      "48240/48240 [==============================] - 1s 27us/step - loss: 0.0715 - acc: 0.9818 - val_loss: 0.0682 - val_acc: 0.9830\n",
      "Epoch 9/100\n",
      "48240/48240 [==============================] - 1s 27us/step - loss: 0.0627 - acc: 0.9842 - val_loss: 0.0616 - val_acc: 0.9838\n",
      "Epoch 10/100\n",
      "48240/48240 [==============================] - 1s 27us/step - loss: 0.0570 - acc: 0.9841 - val_loss: 0.0582 - val_acc: 0.9844\n",
      "Epoch 11/100\n",
      "48240/48240 [==============================] - 1s 27us/step - loss: 0.0548 - acc: 0.9844 - val_loss: 0.0506 - val_acc: 0.9854\n",
      "Epoch 12/100\n",
      "48240/48240 [==============================] - 1s 27us/step - loss: 0.0503 - acc: 0.9856 - val_loss: 0.0479 - val_acc: 0.9866\n",
      "Epoch 13/100\n",
      "48240/48240 [==============================] - 1s 27us/step - loss: 0.0469 - acc: 0.9870 - val_loss: 0.0442 - val_acc: 0.9882\n",
      "Epoch 14/100\n",
      "48240/48240 [==============================] - 1s 27us/step - loss: 0.0446 - acc: 0.9873 - val_loss: 0.0414 - val_acc: 0.9886\n",
      "Epoch 15/100\n",
      "48240/48240 [==============================] - 1s 27us/step - loss: 0.0422 - acc: 0.9884 - val_loss: 0.0411 - val_acc: 0.9891\n",
      "Epoch 16/100\n",
      "48240/48240 [==============================] - 1s 27us/step - loss: 0.0406 - acc: 0.9888 - val_loss: 0.0375 - val_acc: 0.9902\n",
      "Epoch 17/100\n",
      "48240/48240 [==============================] - 1s 27us/step - loss: 0.0400 - acc: 0.9893 - val_loss: 0.0381 - val_acc: 0.9890\n",
      "Epoch 18/100\n",
      "48240/48240 [==============================] - 1s 27us/step - loss: 0.0382 - acc: 0.9896 - val_loss: 0.0355 - val_acc: 0.9905\n",
      "Epoch 19/100\n",
      "48240/48240 [==============================] - 1s 27us/step - loss: 0.0361 - acc: 0.9904 - val_loss: 0.0335 - val_acc: 0.9910\n",
      "Epoch 20/100\n",
      "48240/48240 [==============================] - 1s 27us/step - loss: 0.0345 - acc: 0.9910 - val_loss: 0.0324 - val_acc: 0.9917\n",
      "Epoch 21/100\n",
      "48240/48240 [==============================] - 1s 27us/step - loss: 0.0335 - acc: 0.9910 - val_loss: 0.0314 - val_acc: 0.9913\n",
      "Epoch 22/100\n",
      "48240/48240 [==============================] - 1s 27us/step - loss: 0.0344 - acc: 0.9903 - val_loss: 0.0405 - val_acc: 0.9895\n",
      "Epoch 23/100\n",
      "48240/48240 [==============================] - 1s 27us/step - loss: 0.0410 - acc: 0.9882 - val_loss: 0.0378 - val_acc: 0.9880\n",
      "Epoch 24/100\n",
      "48240/48240 [==============================] - 1s 27us/step - loss: 0.0462 - acc: 0.9864 - val_loss: 0.0305 - val_acc: 0.9914\n",
      "Epoch 25/100\n",
      "48240/48240 [==============================] - 1s 27us/step - loss: 0.0380 - acc: 0.9891 - val_loss: 0.0286 - val_acc: 0.9933\n",
      "Epoch 26/100\n",
      "48240/48240 [==============================] - 1s 27us/step - loss: 0.0322 - acc: 0.9913 - val_loss: 0.0393 - val_acc: 0.9905\n",
      "Epoch 27/100\n",
      "48240/48240 [==============================] - 1s 27us/step - loss: 0.0350 - acc: 0.9907 - val_loss: 0.0317 - val_acc: 0.9930\n",
      "Epoch 28/100\n",
      "48240/48240 [==============================] - 1s 27us/step - loss: 0.0327 - acc: 0.9911 - val_loss: 0.0290 - val_acc: 0.9918\n",
      "Epoch 29/100\n",
      "48240/48240 [==============================] - 1s 27us/step - loss: 0.0299 - acc: 0.9930 - val_loss: 0.0295 - val_acc: 0.9918\n",
      "Epoch 30/100\n",
      "48240/48240 [==============================] - 1s 27us/step - loss: 0.0284 - acc: 0.9928 - val_loss: 0.0260 - val_acc: 0.9943\n",
      "Epoch 31/100\n",
      "48240/48240 [==============================] - 1s 27us/step - loss: 0.0276 - acc: 0.9930 - val_loss: 0.0280 - val_acc: 0.9938\n",
      "Epoch 32/100\n",
      "48240/48240 [==============================] - 1s 27us/step - loss: 0.0264 - acc: 0.9932 - val_loss: 0.0249 - val_acc: 0.9945\n",
      "Epoch 33/100\n",
      "48240/48240 [==============================] - 1s 27us/step - loss: 0.0252 - acc: 0.9941 - val_loss: 0.0245 - val_acc: 0.9947\n",
      "Epoch 34/100\n",
      "48240/48240 [==============================] - 1s 27us/step - loss: 0.0246 - acc: 0.9942 - val_loss: 0.0245 - val_acc: 0.9946\n",
      "Epoch 35/100\n",
      "48240/48240 [==============================] - 1s 27us/step - loss: 0.0245 - acc: 0.9938 - val_loss: 0.0244 - val_acc: 0.9947\n",
      "Epoch 36/100\n",
      "48240/48240 [==============================] - 1s 27us/step - loss: 0.0240 - acc: 0.9941 - val_loss: 0.0231 - val_acc: 0.9946\n",
      "Epoch 37/100\n",
      "48240/48240 [==============================] - 1s 27us/step - loss: 0.0234 - acc: 0.9942 - val_loss: 0.0227 - val_acc: 0.9947\n",
      "Epoch 38/100\n",
      "48240/48240 [==============================] - 1s 28us/step - loss: 0.0230 - acc: 0.9943 - val_loss: 0.0223 - val_acc: 0.9949\n",
      "Epoch 39/100\n",
      "48240/48240 [==============================] - 1s 27us/step - loss: 0.0226 - acc: 0.9944 - val_loss: 0.0221 - val_acc: 0.9950\n",
      "Epoch 40/100\n",
      "48240/48240 [==============================] - 1s 27us/step - loss: 0.0225 - acc: 0.9944 - val_loss: 0.0219 - val_acc: 0.9947\n",
      "Epoch 41/100\n",
      "48240/48240 [==============================] - 1s 27us/step - loss: 0.0225 - acc: 0.9943 - val_loss: 0.0214 - val_acc: 0.9951\n",
      "Epoch 42/100\n",
      "48240/48240 [==============================] - 1s 28us/step - loss: 0.0218 - acc: 0.9946 - val_loss: 0.0214 - val_acc: 0.9949\n",
      "Epoch 43/100\n",
      "48240/48240 [==============================] - 1s 28us/step - loss: 0.0219 - acc: 0.9945 - val_loss: 0.0210 - val_acc: 0.9951\n",
      "Epoch 44/100\n",
      "48240/48240 [==============================] - 1s 28us/step - loss: 0.0213 - acc: 0.9948 - val_loss: 0.0205 - val_acc: 0.9957\n",
      "Epoch 45/100\n",
      "48240/48240 [==============================] - 1s 28us/step - loss: 0.0208 - acc: 0.9948 - val_loss: 0.0205 - val_acc: 0.9957\n",
      "Epoch 46/100\n",
      "48240/48240 [==============================] - 1s 27us/step - loss: 0.0204 - acc: 0.9950 - val_loss: 0.0208 - val_acc: 0.9956\n",
      "Epoch 47/100\n",
      "48240/48240 [==============================] - 1s 28us/step - loss: 0.0203 - acc: 0.9950 - val_loss: 0.0205 - val_acc: 0.9957\n",
      "Epoch 48/100\n",
      "48240/48240 [==============================] - 1s 28us/step - loss: 0.0199 - acc: 0.9952 - val_loss: 0.0194 - val_acc: 0.9957\n",
      "Epoch 49/100\n",
      "48240/48240 [==============================] - 1s 28us/step - loss: 0.0196 - acc: 0.9952 - val_loss: 0.0193 - val_acc: 0.9958\n",
      "Epoch 50/100\n",
      "48240/48240 [==============================] - 1s 28us/step - loss: 0.0193 - acc: 0.9953 - val_loss: 0.0191 - val_acc: 0.9959\n",
      "Epoch 51/100\n",
      "48240/48240 [==============================] - 1s 28us/step - loss: 0.0191 - acc: 0.9954 - val_loss: 0.0188 - val_acc: 0.9960\n",
      "Epoch 52/100\n",
      "48240/48240 [==============================] - 1s 28us/step - loss: 0.0189 - acc: 0.9954 - val_loss: 0.0187 - val_acc: 0.9961\n",
      "Epoch 53/100\n",
      "48240/48240 [==============================] - 1s 28us/step - loss: 0.0188 - acc: 0.9955 - val_loss: 0.0185 - val_acc: 0.9960\n",
      "Epoch 54/100\n",
      "48240/48240 [==============================] - 1s 27us/step - loss: 0.0184 - acc: 0.9956 - val_loss: 0.0182 - val_acc: 0.9964\n",
      "Epoch 55/100\n",
      "48240/48240 [==============================] - 1s 27us/step - loss: 0.0181 - acc: 0.9956 - val_loss: 0.0180 - val_acc: 0.9963\n",
      "Epoch 56/100\n",
      "48240/48240 [==============================] - 1s 28us/step - loss: 0.0181 - acc: 0.9958 - val_loss: 0.0182 - val_acc: 0.9963\n",
      "Epoch 57/100\n",
      "48240/48240 [==============================] - 1s 27us/step - loss: 0.0177 - acc: 0.9957 - val_loss: 0.0175 - val_acc: 0.9963\n",
      "Epoch 58/100\n",
      "48240/48240 [==============================] - 1s 27us/step - loss: 0.0175 - acc: 0.9958 - val_loss: 0.0175 - val_acc: 0.9965\n",
      "Epoch 59/100\n"
     ]
    },
    {
     "name": "stdout",
     "output_type": "stream",
     "text": [
      "48240/48240 [==============================] - 1s 28us/step - loss: 0.0172 - acc: 0.9959 - val_loss: 0.0177 - val_acc: 0.9964\n",
      "Epoch 60/100\n",
      "48240/48240 [==============================] - 1s 28us/step - loss: 0.0171 - acc: 0.9960 - val_loss: 0.0188 - val_acc: 0.9957\n",
      "Epoch 61/100\n",
      "48240/48240 [==============================] - 1s 27us/step - loss: 0.0183 - acc: 0.9951 - val_loss: 0.0222 - val_acc: 0.9938\n",
      "Epoch 62/100\n",
      "48240/48240 [==============================] - 1s 27us/step - loss: 0.0247 - acc: 0.9934 - val_loss: 0.0570 - val_acc: 0.9855\n",
      "Epoch 63/100\n",
      "48240/48240 [==============================] - 1s 27us/step - loss: 0.0427 - acc: 0.9885 - val_loss: 0.1559 - val_acc: 0.9640\n",
      "Epoch 64/100\n",
      "48240/48240 [==============================] - 1s 28us/step - loss: 0.1213 - acc: 0.9723 - val_loss: 0.3095 - val_acc: 0.9262\n",
      "Epoch 65/100\n",
      "48240/48240 [==============================] - 1s 28us/step - loss: 0.1680 - acc: 0.9615 - val_loss: 0.0370 - val_acc: 0.9895\n",
      "Epoch 66/100\n",
      "48240/48240 [==============================] - 1s 28us/step - loss: 0.0590 - acc: 0.9852 - val_loss: 0.0464 - val_acc: 0.9870\n",
      "Epoch 67/100\n",
      "48240/48240 [==============================] - 1s 27us/step - loss: 0.0600 - acc: 0.9840 - val_loss: 0.0193 - val_acc: 0.9960\n",
      "Epoch 68/100\n",
      "48240/48240 [==============================] - 1s 27us/step - loss: 0.0337 - acc: 0.9920 - val_loss: 0.0225 - val_acc: 0.9943\n",
      "Epoch 69/100\n",
      "48240/48240 [==============================] - 1s 28us/step - loss: 0.0327 - acc: 0.9907 - val_loss: 0.0220 - val_acc: 0.9945\n",
      "Epoch 70/100\n",
      "48240/48240 [==============================] - 1s 27us/step - loss: 0.0239 - acc: 0.9949 - val_loss: 0.0239 - val_acc: 0.9953\n",
      "Epoch 71/100\n",
      "48240/48240 [==============================] - 1s 27us/step - loss: 0.0206 - acc: 0.9951 - val_loss: 0.0224 - val_acc: 0.9944\n",
      "Epoch 72/100\n",
      "48240/48240 [==============================] - 1s 28us/step - loss: 0.0216 - acc: 0.9944 - val_loss: 0.0185 - val_acc: 0.9964\n",
      "Epoch 73/100\n",
      "48240/48240 [==============================] - 1s 28us/step - loss: 0.0191 - acc: 0.9961 - val_loss: 0.0184 - val_acc: 0.9966\n",
      "Epoch 74/100\n",
      "48240/48240 [==============================] - 1s 27us/step - loss: 0.0178 - acc: 0.9962 - val_loss: 0.0182 - val_acc: 0.9963\n",
      "Epoch 75/100\n",
      "48240/48240 [==============================] - 1s 28us/step - loss: 0.0176 - acc: 0.9960 - val_loss: 0.0176 - val_acc: 0.9966\n",
      "Epoch 76/100\n",
      "48240/48240 [==============================] - 1s 28us/step - loss: 0.0170 - acc: 0.9966 - val_loss: 0.0170 - val_acc: 0.9968\n",
      "Epoch 77/100\n",
      "48240/48240 [==============================] - 1s 27us/step - loss: 0.0165 - acc: 0.9965 - val_loss: 0.0166 - val_acc: 0.9967\n",
      "Epoch 78/100\n",
      "48240/48240 [==============================] - 1s 27us/step - loss: 0.0162 - acc: 0.9966 - val_loss: 0.0164 - val_acc: 0.9969\n",
      "Epoch 79/100\n",
      "48240/48240 [==============================] - 1s 28us/step - loss: 0.0159 - acc: 0.9965 - val_loss: 0.0161 - val_acc: 0.9967\n",
      "Epoch 80/100\n",
      "48240/48240 [==============================] - 1s 28us/step - loss: 0.0158 - acc: 0.9965 - val_loss: 0.0161 - val_acc: 0.9968\n",
      "Epoch 81/100\n",
      "48240/48240 [==============================] - 1s 28us/step - loss: 0.0155 - acc: 0.9965 - val_loss: 0.0158 - val_acc: 0.9969\n",
      "Epoch 82/100\n",
      "48240/48240 [==============================] - 1s 28us/step - loss: 0.0153 - acc: 0.9966 - val_loss: 0.0157 - val_acc: 0.9969\n",
      "Epoch 83/100\n",
      "48240/48240 [==============================] - 1s 28us/step - loss: 0.0152 - acc: 0.9966 - val_loss: 0.0155 - val_acc: 0.9970\n",
      "Epoch 84/100\n",
      "48240/48240 [==============================] - 1s 28us/step - loss: 0.0151 - acc: 0.9966 - val_loss: 0.0154 - val_acc: 0.9970\n",
      "Epoch 85/100\n",
      "48240/48240 [==============================] - 1s 28us/step - loss: 0.0149 - acc: 0.9967 - val_loss: 0.0152 - val_acc: 0.9970\n",
      "Epoch 86/100\n",
      "48240/48240 [==============================] - 1s 28us/step - loss: 0.0148 - acc: 0.9966 - val_loss: 0.0151 - val_acc: 0.9970\n",
      "Epoch 87/100\n",
      "48240/48240 [==============================] - 1s 28us/step - loss: 0.0147 - acc: 0.9967 - val_loss: 0.0150 - val_acc: 0.9971\n",
      "Epoch 88/100\n",
      "48240/48240 [==============================] - 1s 28us/step - loss: 0.0146 - acc: 0.9968 - val_loss: 0.0149 - val_acc: 0.9971\n",
      "Epoch 89/100\n",
      "48240/48240 [==============================] - 1s 28us/step - loss: 0.0144 - acc: 0.9967 - val_loss: 0.0148 - val_acc: 0.9971\n",
      "Epoch 90/100\n",
      "48240/48240 [==============================] - 1s 28us/step - loss: 0.0143 - acc: 0.9969 - val_loss: 0.0147 - val_acc: 0.9971\n",
      "Epoch 91/100\n",
      "48240/48240 [==============================] - 1s 28us/step - loss: 0.0142 - acc: 0.9969 - val_loss: 0.0146 - val_acc: 0.9971\n",
      "Epoch 92/100\n",
      "48240/48240 [==============================] - 1s 27us/step - loss: 0.0141 - acc: 0.9968 - val_loss: 0.0146 - val_acc: 0.9971\n",
      "Epoch 93/100\n",
      "48240/48240 [==============================] - 1s 28us/step - loss: 0.0140 - acc: 0.9970 - val_loss: 0.0144 - val_acc: 0.9971\n",
      "Epoch 94/100\n",
      "48240/48240 [==============================] - 1s 28us/step - loss: 0.0139 - acc: 0.9968 - val_loss: 0.0144 - val_acc: 0.9971\n",
      "Epoch 95/100\n",
      "48240/48240 [==============================] - 1s 27us/step - loss: 0.0139 - acc: 0.9970 - val_loss: 0.0143 - val_acc: 0.9972\n",
      "Epoch 96/100\n",
      "48240/48240 [==============================] - 1s 27us/step - loss: 0.0138 - acc: 0.9970 - val_loss: 0.0142 - val_acc: 0.9971\n",
      "Epoch 97/100\n",
      "48240/48240 [==============================] - 1s 28us/step - loss: 0.0137 - acc: 0.9969 - val_loss: 0.0140 - val_acc: 0.9973\n",
      "Epoch 98/100\n",
      "48240/48240 [==============================] - 1s 28us/step - loss: 0.0136 - acc: 0.9971 - val_loss: 0.0140 - val_acc: 0.9972\n",
      "Epoch 99/100\n",
      "48240/48240 [==============================] - 1s 27us/step - loss: 0.0136 - acc: 0.9969 - val_loss: 0.0140 - val_acc: 0.9972\n",
      "Epoch 100/100\n",
      "48240/48240 [==============================] - 1s 28us/step - loss: 0.0134 - acc: 0.9971 - val_loss: 0.0139 - val_acc: 0.9972\n"
     ]
    },
    {
     "data": {
      "text/plain": [
       "<keras.callbacks.History at 0x7f4133eaecc0>"
      ]
     },
     "execution_count": 11,
     "metadata": {},
     "output_type": "execute_result"
    }
   ],
   "source": [
    "m.fit(x_train, y_train,\n",
    "      batch_size=10000, epochs=100, shuffle=True,\n",
    "      validation_data=(x_test, y_test))"
   ]
  },
  {
   "cell_type": "code",
   "execution_count": 12,
   "metadata": {},
   "outputs": [
    {
     "data": {
      "text/plain": [
       "{'path_to_x_train': '/home/Edu/data/triage/sets/2018-08-21T15-31-09:x-train-31wf7ch.npy',\n",
       " 'path_to_y_train': '/home/Edu/data/triage/sets/2018-08-21T15-31-09:y-train-31wf7ch.npy',\n",
       " 'path_to_x_test': '/home/Edu/data/triage/sets/2018-08-21T15-31-09:x-test-31wf7ch.npy',\n",
       " 'path_to_y_test': '/home/Edu/data/triage/sets/2018-08-21T15-31-09:y-test-31wf7ch.npy',\n",
       " 'yass_version': 'd5925c9 options for specifying distribution of clean spikes',\n",
       " 'nb_version': '1a9c9bb noteboks for new triage network'}"
      ]
     },
     "execution_count": 12,
     "metadata": {},
     "output_type": "execute_result"
    }
   ],
   "source": [
    "metadata = dict(path_to_x_train=str(path_to_x_train),\n",
    "                path_to_y_train=str(path_to_y_train),\n",
    "                path_to_x_test=str(path_to_x_test),\n",
    "                path_to_y_test=str(path_to_y_test),\n",
    "                yass_version=get_version('yass'),\n",
    "                nb_version=git_hash_in_path(getcwd()))\n",
    "metadata"
   ]
  },
  {
   "cell_type": "code",
   "execution_count": 13,
   "metadata": {
    "scrolled": true
   },
   "outputs": [],
   "source": [
    "_, wf, ch, _ = m.input_shape\n",
    "\n",
    "sufix = f'triage-{wf}wf{ch}ch'\n",
    "names = make_filename(sufix=sufix, extension=('h5', 'yaml'))\n",
    "\n",
    "path_to_model, path_to_metadata = [str(path_to_output / name) for name in names]\n",
    "\n",
    "m.save(path_to_model)\n",
    "save(metadata, path_to_metadata)"
   ]
  },
  {
   "cell_type": "code",
   "execution_count": 14,
   "metadata": {},
   "outputs": [
    {
     "name": "stdout",
     "output_type": "stream",
     "text": [
      "/home/Edu/data/triage/models/2018-08-21T15-35-13:triage-31wf7ch.h5\n"
     ]
    }
   ],
   "source": [
    "print(path_to_model)"
   ]
  },
  {
   "cell_type": "code",
   "execution_count": null,
   "metadata": {},
   "outputs": [],
   "source": []
  }
 ],
 "metadata": {
  "kernelspec": {
   "display_name": "Python 3",
   "language": "python",
   "name": "python3"
  },
  "language_info": {
   "codemirror_mode": {
    "name": "ipython",
    "version": 3
   },
   "file_extension": ".py",
   "mimetype": "text/x-python",
   "name": "python",
   "nbconvert_exporter": "python",
   "pygments_lexer": "ipython3",
   "version": "3.6.6"
  }
 },
 "nbformat": 4,
 "nbformat_minor": 2
}
