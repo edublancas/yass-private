{
 "cells": [
  {
   "cell_type": "markdown",
   "metadata": {},
   "source": [
    "## Example for training a neural network"
   ]
  },
  {
   "cell_type": "code",
   "execution_count": 23,
   "metadata": {},
   "outputs": [],
   "source": [
    "from pathlib import Path\n",
    "\n",
    "import numpy as np\n",
    "\n",
    "import yass\n",
    "from yass.augment import make_training_data\n",
    "from yass.neuralnetwork import NeuralNetDetector, NeuralNetTriage"
   ]
  },
  {
   "cell_type": "code",
   "execution_count": 28,
   "metadata": {},
   "outputs": [],
   "source": [
    "# yass configuration\n",
    "path_to_config = str(Path.home() / 'dev/lab/private-yass/config/49-local.yaml')\n",
    "path_to_data = str(Path.home() / 'data/yass/tmp')\n",
    "\n",
    "yass.set_config(path_to_config)\n",
    "CONFIG = yass.read_config()"
   ]
  },
  {
   "cell_type": "code",
   "execution_count": 29,
   "metadata": {},
   "outputs": [],
   "source": [
    "# training data parameters\n",
    "\n",
    "# fake spike train\n",
    "spike_train = np.array([100, 0,\n",
    "                        150, 0,\n",
    "                        200, 1,\n",
    "                        250, 1,\n",
    "                        300, 2,\n",
    "                        350, 2]).reshape(-1, 2)\n",
    "\n",
    "chosen_templates = [0, 1, 2]\n",
    "min_amplitude = 2\n",
    "n_spikes = 500\n",
    "\n",
    "filters = [8, 4]"
   ]
  },
  {
   "cell_type": "code",
   "execution_count": 30,
   "metadata": {},
   "outputs": [
    {
     "name": "stderr",
     "output_type": "stream",
     "text": [
      "100%|██████████| 2/2 [00:01<00:00,  1.69it/s]\n"
     ]
    },
    {
     "ename": "ValueError",
     "evalue": "Coulndt find any good templates...",
     "output_type": "error",
     "traceback": [
      "\u001b[0;31m---------------------------------------------------------------------------\u001b[0m",
      "\u001b[0;31mValueError\u001b[0m                                Traceback (most recent call last)",
      "\u001b[0;32m<ipython-input-30-ceb76053fb00>\u001b[0m in \u001b[0;36m<module>\u001b[0;34m()\u001b[0m\n\u001b[1;32m      4\u001b[0m  \u001b[0mx_ae\u001b[0m\u001b[0;34m,\u001b[0m \u001b[0my_ae\u001b[0m\u001b[0;34m)\u001b[0m \u001b[0;34m=\u001b[0m \u001b[0mmake_training_data\u001b[0m\u001b[0;34m(\u001b[0m\u001b[0mCONFIG\u001b[0m\u001b[0;34m,\u001b[0m \u001b[0mspike_train\u001b[0m\u001b[0;34m,\u001b[0m \u001b[0mchosen_templates\u001b[0m\u001b[0;34m,\u001b[0m\u001b[0;34m\u001b[0m\u001b[0m\n\u001b[1;32m      5\u001b[0m                                   \u001b[0mmin_amplitude\u001b[0m\u001b[0;34m,\u001b[0m \u001b[0mn_spikes\u001b[0m\u001b[0;34m,\u001b[0m\u001b[0;34m\u001b[0m\u001b[0m\n\u001b[0;32m----> 6\u001b[0;31m                                   data_folder=path_to_data)\n\u001b[0m",
      "\u001b[0;32m~/dev/lab/yass/src/yass/augment/make.py\u001b[0m in \u001b[0;36mmake_training_data\u001b[0;34m(CONFIG, spike_train, chosen_templates, min_amp, nspikes, data_folder, noise_ratio, collision_ratio, misalign_ratio, misalign_ratio2, multi_channel)\u001b[0m\n\u001b[1;32m    118\u001b[0m \u001b[0;34m\u001b[0m\u001b[0m\n\u001b[1;32m    119\u001b[0m     \u001b[0;32mif\u001b[0m \u001b[0mtemplates\u001b[0m\u001b[0;34m.\u001b[0m\u001b[0mshape\u001b[0m\u001b[0;34m[\u001b[0m\u001b[0;36m0\u001b[0m\u001b[0;34m]\u001b[0m \u001b[0;34m==\u001b[0m \u001b[0;36m0\u001b[0m\u001b[0;34m:\u001b[0m\u001b[0;34m\u001b[0m\u001b[0m\n\u001b[0;32m--> 120\u001b[0;31m         \u001b[0;32mraise\u001b[0m \u001b[0mValueError\u001b[0m\u001b[0;34m(\u001b[0m\u001b[0;34m\"Coulndt find any good templates...\"\u001b[0m\u001b[0;34m)\u001b[0m\u001b[0;34m\u001b[0m\u001b[0m\n\u001b[0m\u001b[1;32m    121\u001b[0m \u001b[0;34m\u001b[0m\u001b[0m\n\u001b[1;32m    122\u001b[0m     \u001b[0mlogger\u001b[0m\u001b[0;34m.\u001b[0m\u001b[0minfo\u001b[0m\u001b[0;34m(\u001b[0m\u001b[0;34m'Good looking templates of shape: {}'\u001b[0m\u001b[0;34m.\u001b[0m\u001b[0mformat\u001b[0m\u001b[0;34m(\u001b[0m\u001b[0mtemplates\u001b[0m\u001b[0;34m.\u001b[0m\u001b[0mshape\u001b[0m\u001b[0;34m)\u001b[0m\u001b[0;34m)\u001b[0m\u001b[0;34m\u001b[0m\u001b[0m\n",
      "\u001b[0;31mValueError\u001b[0m: Coulndt find any good templates..."
     ]
    }
   ],
   "source": [
    "# make training data\n",
    "(x_detect, y_detect,\n",
    " x_triage, y_triage,\n",
    " x_ae, y_ae) = make_training_data(CONFIG, spike_train, chosen_templates,\n",
    "                                  min_amplitude, n_spikes,\n",
    "                                  data_folder=path_to_data)"
   ]
  },
  {
   "cell_type": "code",
   "execution_count": null,
   "metadata": {},
   "outputs": [],
   "source": []
  }
 ],
 "metadata": {
  "kernelspec": {
   "display_name": "Python 3",
   "language": "python",
   "name": "python3"
  },
  "language_info": {
   "codemirror_mode": {
    "name": "ipython",
    "version": 3
   },
   "file_extension": ".py",
   "mimetype": "text/x-python",
   "name": "python",
   "nbconvert_exporter": "python",
   "pygments_lexer": "ipython3",
   "version": "3.5.5"
  }
 },
 "nbformat": 4,
 "nbformat_minor": 2
}
