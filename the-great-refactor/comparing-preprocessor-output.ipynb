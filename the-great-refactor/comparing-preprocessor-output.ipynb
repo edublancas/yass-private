{
 "cells": [
  {
   "cell_type": "code",
   "execution_count": 124,
   "metadata": {},
   "outputs": [],
   "source": [
    "import os.path as path\n",
    "import numpy as np\n",
    "import seaborn as sns"
   ]
  },
  {
   "cell_type": "code",
   "execution_count": 165,
   "metadata": {},
   "outputs": [],
   "source": [
    "LOCAL_PATH = '/Users/Edu/data/yass'\n",
    "REMOTE_PATH = '/ssd/data/eduardo/'\n",
    "\n",
    "LOCAL = False\n",
    "\n",
    "PATH = LOCAL_PATH if LOCAL else REMOTE_PATH\n",
    "\n",
    "OLD = path.join(PATH, 'old-threshold')\n",
    "NEW = path.join(PATH, 'new-threshold-2')"
   ]
  },
  {
   "cell_type": "code",
   "execution_count": 104,
   "metadata": {},
   "outputs": [],
   "source": [
    "OLD = path.join(PATH, 'old-nnet')\n",
    "NEW = path.join(PATH, 'new-nnet-2')"
   ]
  },
  {
   "cell_type": "code",
   "execution_count": 166,
   "metadata": {},
   "outputs": [],
   "source": [
    "def n_groups(spike_train):\n",
    "    return len(np.unique(spike_train[:, 1]))\n",
    "\n",
    "def groups(spike_train):\n",
    "    return np.unique(clear_new[:, 1], return_counts=True)"
   ]
  },
  {
   "cell_type": "code",
   "execution_count": 167,
   "metadata": {},
   "outputs": [],
   "source": [
    "clear_old = np.load(path.join(OLD, 'spike_index_clear.npy'))\n",
    "clear_new = np.load(path.join(NEW, 'spike_index_clear.npy'))"
   ]
  },
  {
   "cell_type": "code",
   "execution_count": 168,
   "metadata": {},
   "outputs": [
    {
     "data": {
      "text/plain": [
       "((123219, 2), (112532, 2))"
      ]
     },
     "execution_count": 168,
     "metadata": {},
     "output_type": "execute_result"
    }
   ],
   "source": [
    "clear_old.shape, clear_new.shape"
   ]
  },
  {
   "cell_type": "code",
   "execution_count": 169,
   "metadata": {
    "scrolled": false
   },
   "outputs": [
    {
     "data": {
      "text/plain": [
       "array([[ 2035,     0],\n",
       "       [ 5411,     0],\n",
       "       [ 5944,     0],\n",
       "       [ 6075,     0],\n",
       "       [13224,     0],\n",
       "       [17780,     0],\n",
       "       [20902,     0],\n",
       "       [22046,     0],\n",
       "       [23341,     0],\n",
       "       [29009,     0],\n",
       "       [29067,     0],\n",
       "       [32399,     0],\n",
       "       [33789,     0],\n",
       "       [34053,     0],\n",
       "       [35351,     0],\n",
       "       [35491,     0],\n",
       "       [39691,     0],\n",
       "       [39950,     0],\n",
       "       [40318,     0],\n",
       "       [40452,     0]], dtype=int32)"
      ]
     },
     "execution_count": 169,
     "metadata": {},
     "output_type": "execute_result"
    }
   ],
   "source": [
    "clear_old[:20]"
   ]
  },
  {
   "cell_type": "code",
   "execution_count": 170,
   "metadata": {},
   "outputs": [
    {
     "data": {
      "text/plain": [
       "array([[ 2035,     0],\n",
       "       [ 5411,     0],\n",
       "       [ 6075,     0],\n",
       "       [13224,     0],\n",
       "       [17780,     0],\n",
       "       [20902,     0],\n",
       "       [22046,     0],\n",
       "       [23341,     0],\n",
       "       [29009,     0],\n",
       "       [29067,     0],\n",
       "       [32399,     0],\n",
       "       [33789,     0],\n",
       "       [34053,     0],\n",
       "       [35351,     0],\n",
       "       [35491,     0],\n",
       "       [39691,     0],\n",
       "       [40318,     0],\n",
       "       [40452,     0],\n",
       "       [42245,     0],\n",
       "       [43598,     0]], dtype=int32)"
      ]
     },
     "execution_count": 170,
     "metadata": {},
     "output_type": "execute_result"
    }
   ],
   "source": [
    "clear_new[:20]"
   ]
  },
  {
   "cell_type": "code",
   "execution_count": 171,
   "metadata": {},
   "outputs": [
    {
     "data": {
      "text/plain": [
       "array([[   2035,       0],\n",
       "       [   5411,       0],\n",
       "       [   5944,       0],\n",
       "       ..., \n",
       "       [5993357,       0],\n",
       "       [5995158,       0],\n",
       "       [5995436,       0]], dtype=int32)"
      ]
     },
     "execution_count": 171,
     "metadata": {},
     "output_type": "execute_result"
    }
   ],
   "source": [
    "clear_old[clear_old[:, 1] == 0]"
   ]
  },
  {
   "cell_type": "code",
   "execution_count": 172,
   "metadata": {},
   "outputs": [
    {
     "data": {
      "text/plain": [
       "array([   2035,    5411,    5944, ..., 5993357, 5995158, 5995436], dtype=int32)"
      ]
     },
     "execution_count": 172,
     "metadata": {},
     "output_type": "execute_result"
    }
   ],
   "source": [
    "old_main0 = clear_old[clear_old[:, 1] == 0][:, 0]\n",
    "old_main0"
   ]
  },
  {
   "cell_type": "code",
   "execution_count": 173,
   "metadata": {},
   "outputs": [
    {
     "data": {
      "text/plain": [
       "array([   2035,    5411,    6075, ..., 5993357, 5995158, 5995436], dtype=int32)"
      ]
     },
     "execution_count": 173,
     "metadata": {},
     "output_type": "execute_result"
    }
   ],
   "source": [
    "new_main0 = clear_new[clear_new[:, 1] == 0][:, 0]\n",
    "new_main0"
   ]
  },
  {
   "cell_type": "code",
   "execution_count": 174,
   "metadata": {},
   "outputs": [
    {
     "data": {
      "text/plain": [
       "array([1])"
      ]
     },
     "execution_count": 174,
     "metadata": {},
     "output_type": "execute_result"
    }
   ],
   "source": [
    "_, c = np.unique(new_main0, return_counts=True)\n",
    "np.unique(c)"
   ]
  },
  {
   "cell_type": "code",
   "execution_count": 175,
   "metadata": {},
   "outputs": [
    {
     "data": {
      "text/plain": [
       "<matplotlib.axes._subplots.AxesSubplot at 0x7f4a2e793710>"
      ]
     },
     "execution_count": 175,
     "metadata": {},
     "output_type": "execute_result"
    },
    {
     "data": {
      "image/png": "[encoded data removed]",
      "text/plain": [
       "<matplotlib.figure.Figure at 0x7f4a2e78c630>"
      ]
     },
     "metadata": {},
     "output_type": "display_data"
    }
   ],
   "source": [
    "sns.distplot(old_main0)"
   ]
  },
  {
   "cell_type": "code",
   "execution_count": 176,
   "metadata": {},
   "outputs": [
    {
     "data": {
      "text/plain": [
       "<matplotlib.axes._subplots.AxesSubplot at 0x7f4a2e6fdcf8>"
      ]
     },
     "execution_count": 176,
     "metadata": {},
     "output_type": "execute_result"
    },
    {
     "data": {
      "image/png": "[encoded data removed]",
      "text/plain": [
       "<matplotlib.figure.Figure at 0x7f4a2e734b00>"
      ]
     },
     "metadata": {},
     "output_type": "display_data"
    }
   ],
   "source": [
    "sns.distplot(new_main0)"
   ]
  },
  {
   "cell_type": "code",
   "execution_count": 177,
   "metadata": {},
   "outputs": [],
   "source": [
    "col_old = np.load(path.join(OLD, 'spike_index_collision.npy'))\n",
    "col_new = np.load(path.join(NEW, 'spike_index_collision.npy'))"
   ]
  },
  {
   "cell_type": "code",
   "execution_count": 178,
   "metadata": {},
   "outputs": [
    {
     "data": {
      "text/plain": [
       "((0, 2), (0, 2))"
      ]
     },
     "execution_count": 178,
     "metadata": {},
     "output_type": "execute_result"
    }
   ],
   "source": [
    "col_old.shape, col_new.shape"
   ]
  },
  {
   "cell_type": "code",
   "execution_count": 179,
   "metadata": {},
   "outputs": [
    {
     "data": {
      "text/plain": [
       "(0, 0)"
      ]
     },
     "execution_count": 179,
     "metadata": {},
     "output_type": "execute_result"
    }
   ],
   "source": [
    "n_groups(col_old), n_groups(col_new)"
   ]
  },
  {
   "cell_type": "code",
   "execution_count": 180,
   "metadata": {},
   "outputs": [
    {
     "data": {
      "text/plain": [
       "array([], shape=(0, 2), dtype=int32)"
      ]
     },
     "execution_count": 180,
     "metadata": {},
     "output_type": "execute_result"
    }
   ],
   "source": [
    "col_old[:10,]"
   ]
  },
  {
   "cell_type": "code",
   "execution_count": 181,
   "metadata": {},
   "outputs": [
    {
     "data": {
      "text/plain": [
       "array([], shape=(0, 2), dtype=int32)"
      ]
     },
     "execution_count": 181,
     "metadata": {},
     "output_type": "execute_result"
    }
   ],
   "source": [
    "col_new[:10,]"
   ]
  },
  {
   "cell_type": "code",
   "execution_count": 182,
   "metadata": {},
   "outputs": [],
   "source": [
    "old_train = np.load(path.join(OLD, 'spike_train.npy'))\n",
    "new_train = np.load(path.join(NEW, 'spike_train.npy'))"
   ]
  },
  {
   "cell_type": "code",
   "execution_count": 183,
   "metadata": {},
   "outputs": [
    {
     "data": {
      "text/plain": [
       "((120754, 2), (221179, 2))"
      ]
     },
     "execution_count": 183,
     "metadata": {},
     "output_type": "execute_result"
    }
   ],
   "source": [
    "old_train.shape, new_train.shape"
   ]
  },
  {
   "cell_type": "code",
   "execution_count": 164,
   "metadata": {},
   "outputs": [
    {
     "data": {
      "text/plain": [
       "(88, 93)"
      ]
     },
     "execution_count": 164,
     "metadata": {},
     "output_type": "execute_result"
    }
   ],
   "source": [
    "n_groups(old_train), n_groups(new_train)"
   ]
  },
  {
   "cell_type": "code",
   "execution_count": null,
   "metadata": {},
   "outputs": [],
   "source": []
  },
  {
   "cell_type": "code",
   "execution_count": null,
   "metadata": {},
   "outputs": [],
   "source": []
  }
 ],
 "metadata": {
  "kernelspec": {
   "display_name": "Python 2",
   "language": "python",
   "name": "python2"
  },
  "language_info": {
   "codemirror_mode": {
    "name": "ipython",
    "version": 3
   },
   "file_extension": ".py",
   "mimetype": "text/x-python",
   "name": "python",
   "nbconvert_exporter": "python",
   "pygments_lexer": "ipython3",
   "version": "3.6.3"
  }
 },
 "nbformat": 4,
 "nbformat_minor": 2
}
