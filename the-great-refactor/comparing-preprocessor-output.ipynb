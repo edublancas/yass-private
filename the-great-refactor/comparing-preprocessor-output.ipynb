{
 "cells": [
  {
   "cell_type": "code",
   "execution_count": 4,
   "metadata": {},
   "outputs": [],
   "source": [
    "import os.path as path\n",
    "import numpy as np"
   ]
  },
  {
   "cell_type": "code",
   "execution_count": 18,
   "metadata": {},
   "outputs": [],
   "source": [
    "OLD = '/ssd/data/eduardo/tmp-old-threshold'\n",
    "NEW = '/ssd/data/eduardo/tmp-new-threshold'"
   ]
  },
  {
   "cell_type": "code",
   "execution_count": 21,
   "metadata": {},
   "outputs": [],
   "source": [
    "clear_old = np.load(path.join(OLD, 'spike_index_clear.npy'))\n",
    "clear_new = np.load(path.join(NEW, 'spike_index_clear.npy'))"
   ]
  },
  {
   "cell_type": "code",
   "execution_count": 22,
   "metadata": {},
   "outputs": [
    {
     "data": {
      "text/plain": [
       "((101861, 2), (149832, 2))"
      ]
     },
     "execution_count": 22,
     "metadata": {},
     "output_type": "execute_result"
    }
   ],
   "source": [
    "clear_old.shape, clear_new.shape"
   ]
  },
  {
   "cell_type": "code",
   "execution_count": 23,
   "metadata": {},
   "outputs": [
    {
     "data": {
      "text/plain": [
       "array([[   2035,       0],\n",
       "       [   5411,       0],\n",
       "       [   6075,       0],\n",
       "       ..., \n",
       "       [5998375,      48],\n",
       "       [5998439,      48],\n",
       "       [6000006,      48]], dtype=int32)"
      ]
     },
     "execution_count": 23,
     "metadata": {},
     "output_type": "execute_result"
    }
   ],
   "source": [
    "clear_old"
   ]
  },
  {
   "cell_type": "code",
   "execution_count": 24,
   "metadata": {},
   "outputs": [
    {
     "data": {
      "text/plain": [
       "array([[    836,       0],\n",
       "       [   1046,       0],\n",
       "       [   1262,       0],\n",
       "       ..., \n",
       "       [5998375,      48],\n",
       "       [5998439,      48],\n",
       "       [5998761,      48]], dtype=int32)"
      ]
     },
     "execution_count": 24,
     "metadata": {},
     "output_type": "execute_result"
    }
   ],
   "source": [
    "clear_new"
   ]
  },
  {
   "cell_type": "code",
   "execution_count": null,
   "metadata": {},
   "outputs": [],
   "source": [
    "col_old = np.load(path.join(OLD, 'spike_index_collision.npy'))\n",
    "col_new = np.load(path.join(NEW, 'spike_index_collision.npy'))"
   ]
  },
  {
   "cell_type": "code",
   "execution_count": 15,
   "metadata": {},
   "outputs": [
    {
     "data": {
      "text/plain": [
       "((354770, 2), (596768, 2))"
      ]
     },
     "execution_count": 15,
     "metadata": {},
     "output_type": "execute_result"
    }
   ],
   "source": [
    "col_old.shape, col_new.shape"
   ]
  },
  {
   "cell_type": "code",
   "execution_count": 16,
   "metadata": {},
   "outputs": [
    {
     "data": {
      "text/plain": [
       "array([[     11,       3],\n",
       "       [     11,      20],\n",
       "       [     11,      25],\n",
       "       ..., \n",
       "       [6000017,      45],\n",
       "       [6000017,      46],\n",
       "       [6000017,      48]], dtype=int32)"
      ]
     },
     "execution_count": 16,
     "metadata": {},
     "output_type": "execute_result"
    }
   ],
   "source": [
    "col_old"
   ]
  },
  {
   "cell_type": "code",
   "execution_count": 17,
   "metadata": {},
   "outputs": [
    {
     "data": {
      "text/plain": [
       "array([[     22,      18],\n",
       "       [     28,      46],\n",
       "       [     57,      43],\n",
       "       ..., \n",
       "       [5999925,      37],\n",
       "       [5999945,      19],\n",
       "       [5999945,      43]])"
      ]
     },
     "execution_count": 17,
     "metadata": {},
     "output_type": "execute_result"
    }
   ],
   "source": [
    "col_new"
   ]
  }
 ],
 "metadata": {
  "kernelspec": {
   "display_name": "Python 3",
   "language": "python",
   "name": "python3"
  },
  "language_info": {
   "codemirror_mode": {
    "name": "ipython",
    "version": 3
   },
   "file_extension": ".py",
   "mimetype": "text/x-python",
   "name": "python",
   "nbconvert_exporter": "python",
   "pygments_lexer": "ipython3",
   "version": "3.6.3"
  }
 },
 "nbformat": 4,
 "nbformat_minor": 2
}
