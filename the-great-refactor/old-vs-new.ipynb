{
 "cells": [
  {
   "cell_type": "code",
   "execution_count": 398,
   "metadata": {},
   "outputs": [],
   "source": [
    "import os.path as path\n",
    "import numpy as np\n",
    "import seaborn as sns"
   ]
  },
  {
   "cell_type": "code",
   "execution_count": 399,
   "metadata": {},
   "outputs": [],
   "source": [
    "LOCAL_PATH = '/Users/Edu/data/yass'\n",
    "REMOTE_PATH = '/ssd/data/eduardo/'\n",
    "\n",
    "LOCAL = False\n",
    "\n",
    "PATH = LOCAL_PATH if LOCAL else REMOTE_PATH\n",
    "\n",
    "OLD = path.join(PATH, 'old-threshold')\n",
    "NEW = path.join(PATH, 'new-threshold')"
   ]
  },
  {
   "cell_type": "code",
   "execution_count": 400,
   "metadata": {},
   "outputs": [],
   "source": [
    "OLD = path.join(PATH, 'old-nnet')\n",
    "NEW = path.join(PATH, 'new-nnet')"
   ]
  },
  {
   "cell_type": "code",
   "execution_count": 401,
   "metadata": {},
   "outputs": [],
   "source": [
    "def n_groups(spike_train):\n",
    "    return len(np.unique(spike_train[:, 1]))\n",
    "\n",
    "def groups(spike_train):\n",
    "    return np.unique(clear_new[:, 1], return_counts=True)"
   ]
  },
  {
   "cell_type": "code",
   "execution_count": 402,
   "metadata": {},
   "outputs": [
    {
     "data": {
      "text/plain": [
       "('/ssd/data/eduardo/old-nnet', '/ssd/data/eduardo/new-nnet')"
      ]
     },
     "execution_count": 402,
     "metadata": {},
     "output_type": "execute_result"
    }
   ],
   "source": [
    "OLD, NEW"
   ]
  },
  {
   "cell_type": "code",
   "execution_count": 403,
   "metadata": {},
   "outputs": [],
   "source": [
    "clear_old = np.load(path.join(OLD, 'spike_index_clear.npy'))\n",
    "clear_new = np.load(path.join(NEW, 'spike_index_clear.npy'))"
   ]
  },
  {
   "cell_type": "code",
   "execution_count": 404,
   "metadata": {},
   "outputs": [
    {
     "data": {
      "text/plain": [
       "((103459, 2), (109861, 2))"
      ]
     },
     "execution_count": 404,
     "metadata": {},
     "output_type": "execute_result"
    }
   ],
   "source": [
    "clear_old.shape, clear_new.shape"
   ]
  },
  {
   "cell_type": "code",
   "execution_count": 405,
   "metadata": {
    "scrolled": false
   },
   "outputs": [
    {
     "data": {
      "text/plain": [
       "array([[  11,   16],\n",
       "       [  11,   28],\n",
       "       [ 132,   21],\n",
       "       [ 186,    6],\n",
       "       [ 187,   23],\n",
       "       [ 242,   16],\n",
       "       [ 356,    9],\n",
       "       [ 373,   15],\n",
       "       [ 431,   10],\n",
       "       [ 551,   13],\n",
       "       [ 590,   16],\n",
       "       [ 744,   20],\n",
       "       [ 771,   18],\n",
       "       [ 773,   17],\n",
       "       [ 847,    2],\n",
       "       [ 949,   17],\n",
       "       [ 993,    7],\n",
       "       [1039,   16],\n",
       "       [1060,    0],\n",
       "       [1084,   15]], dtype=int32)"
      ]
     },
     "execution_count": 405,
     "metadata": {},
     "output_type": "execute_result"
    }
   ],
   "source": [
    "clear_old[:20]"
   ]
  },
  {
   "cell_type": "code",
   "execution_count": 406,
   "metadata": {},
   "outputs": [
    {
     "data": {
      "text/plain": [
       "array([[ 132,   21],\n",
       "       [ 186,    6],\n",
       "       [ 187,   23],\n",
       "       [ 242,   16],\n",
       "       [ 356,    9],\n",
       "       [ 402,   20],\n",
       "       [ 404,    9],\n",
       "       [ 431,   10],\n",
       "       [ 433,    7],\n",
       "       [ 551,   13],\n",
       "       [ 590,   16],\n",
       "       [ 660,   24],\n",
       "       [ 744,   20],\n",
       "       [ 771,   18],\n",
       "       [ 773,   17],\n",
       "       [ 847,    2],\n",
       "       [ 993,    7],\n",
       "       [1039,   16],\n",
       "       [1060,    0],\n",
       "       [1084,   15]])"
      ]
     },
     "execution_count": 406,
     "metadata": {},
     "output_type": "execute_result"
    }
   ],
   "source": [
    "clear_new[:20]"
   ]
  },
  {
   "cell_type": "code",
   "execution_count": 407,
   "metadata": {},
   "outputs": [
    {
     "data": {
      "text/plain": [
       "array([[   1060,       0],\n",
       "       [   2571,       0],\n",
       "       [   2753,       0],\n",
       "       ..., \n",
       "       [5995459,       0],\n",
       "       [5999320,       0],\n",
       "       [5999391,       0]], dtype=int32)"
      ]
     },
     "execution_count": 407,
     "metadata": {},
     "output_type": "execute_result"
    }
   ],
   "source": [
    "clear_old[clear_old[:, 1] == 0]"
   ]
  },
  {
   "cell_type": "code",
   "execution_count": 408,
   "metadata": {},
   "outputs": [
    {
     "data": {
      "text/plain": [
       "array([   1060,    2571,    2753, ..., 5995459, 5999320, 5999391], dtype=int32)"
      ]
     },
     "execution_count": 408,
     "metadata": {},
     "output_type": "execute_result"
    }
   ],
   "source": [
    "old_main0 = clear_old[clear_old[:, 1] == 0][:, 0]\n",
    "old_main0"
   ]
  },
  {
   "cell_type": "code",
   "execution_count": 409,
   "metadata": {},
   "outputs": [
    {
     "data": {
      "text/plain": [
       "array([   1060,    2571,    2753, ..., 5996384, 5999320, 5999391])"
      ]
     },
     "execution_count": 409,
     "metadata": {},
     "output_type": "execute_result"
    }
   ],
   "source": [
    "new_main0 = clear_new[clear_new[:, 1] == 0][:, 0]\n",
    "new_main0"
   ]
  },
  {
   "cell_type": "code",
   "execution_count": 410,
   "metadata": {},
   "outputs": [
    {
     "data": {
      "text/plain": [
       "array([1])"
      ]
     },
     "execution_count": 410,
     "metadata": {},
     "output_type": "execute_result"
    }
   ],
   "source": [
    "_, c = np.unique(new_main0, return_counts=True)\n",
    "np.unique(c)"
   ]
  },
  {
   "cell_type": "code",
   "execution_count": 411,
   "metadata": {},
   "outputs": [
    {
     "data": {
      "text/plain": [
       "<matplotlib.axes._subplots.AxesSubplot at 0x7f4a2de46c18>"
      ]
     },
     "execution_count": 411,
     "metadata": {},
     "output_type": "execute_result"
    },
    {
     "data": {
      "image/png": "[encoded data removed]",
      "text/plain": [
       "<matplotlib.figure.Figure at 0x7f4a2deb8f60>"
      ]
     },
     "metadata": {},
     "output_type": "display_data"
    }
   ],
   "source": [
    "sns.distplot(old_main0)"
   ]
  },
  {
   "cell_type": "code",
   "execution_count": 412,
   "metadata": {},
   "outputs": [
    {
     "data": {
      "text/plain": [
       "<matplotlib.axes._subplots.AxesSubplot at 0x7f4a2de07748>"
      ]
     },
     "execution_count": 412,
     "metadata": {},
     "output_type": "execute_result"
    },
    {
     "data": {
      "image/png": "[encoded data removed]",
      "text/plain": [
       "<matplotlib.figure.Figure at 0x7f4a2dd71278>"
      ]
     },
     "metadata": {},
     "output_type": "display_data"
    }
   ],
   "source": [
    "sns.distplot(new_main0)"
   ]
  },
  {
   "cell_type": "code",
   "execution_count": 415,
   "metadata": {},
   "outputs": [],
   "source": [
    "col_old = np.load(path.join(OLD, 'spike_index_collision.npy'))\n",
    "col_new = np.load(path.join(NEW, 'spike_index_collision.npy'))"
   ]
  },
  {
   "cell_type": "code",
   "execution_count": 416,
   "metadata": {},
   "outputs": [
    {
     "data": {
      "text/plain": [
       "((436477, 2), (443165, 2))"
      ]
     },
     "execution_count": 416,
     "metadata": {},
     "output_type": "execute_result"
    }
   ],
   "source": [
    "col_old.shape, col_new.shape"
   ]
  },
  {
   "cell_type": "code",
   "execution_count": 417,
   "metadata": {},
   "outputs": [
    {
     "data": {
      "text/plain": [
       "(49, 49)"
      ]
     },
     "execution_count": 417,
     "metadata": {},
     "output_type": "execute_result"
    }
   ],
   "source": [
    "n_groups(col_old), n_groups(col_new)"
   ]
  },
  {
   "cell_type": "code",
   "execution_count": 418,
   "metadata": {},
   "outputs": [
    {
     "data": {
      "text/plain": [
       "array([[11,  3],\n",
       "       [11, 20],\n",
       "       [11, 25],\n",
       "       [11, 31],\n",
       "       [11, 45],\n",
       "       [22, 18],\n",
       "       [28, 46],\n",
       "       [57, 43],\n",
       "       [64, 46],\n",
       "       [65, 39]], dtype=int32)"
      ]
     },
     "execution_count": 418,
     "metadata": {},
     "output_type": "execute_result"
    }
   ],
   "source": [
    "col_old[:10,]"
   ]
  },
  {
   "cell_type": "code",
   "execution_count": 419,
   "metadata": {},
   "outputs": [
    {
     "data": {
      "text/plain": [
       "array([[ 22,  18],\n",
       "       [ 28,  46],\n",
       "       [ 57,  43],\n",
       "       [ 64,  46],\n",
       "       [ 65,  39],\n",
       "       [ 79,  39],\n",
       "       [ 81,  32],\n",
       "       [ 83,  38],\n",
       "       [ 84,   4],\n",
       "       [185,  40]])"
      ]
     },
     "execution_count": 419,
     "metadata": {},
     "output_type": "execute_result"
    }
   ],
   "source": [
    "col_new[:10,]"
   ]
  },
  {
   "cell_type": "code",
   "execution_count": 420,
   "metadata": {},
   "outputs": [],
   "source": [
    "old_train = np.load(path.join(OLD, 'spike_train.npy'))\n",
    "new_train = np.load(path.join(NEW, 'spike_train.npy'))"
   ]
  },
  {
   "cell_type": "code",
   "execution_count": 421,
   "metadata": {},
   "outputs": [
    {
     "data": {
      "text/plain": [
       "((279151, 2), (664713, 2))"
      ]
     },
     "execution_count": 421,
     "metadata": {},
     "output_type": "execute_result"
    }
   ],
   "source": [
    "old_train.shape, new_train.shape"
   ]
  },
  {
   "cell_type": "code",
   "execution_count": 422,
   "metadata": {},
   "outputs": [
    {
     "data": {
      "text/plain": [
       "(76, 86)"
      ]
     },
     "execution_count": 422,
     "metadata": {},
     "output_type": "execute_result"
    }
   ],
   "source": [
    "n_groups(old_train), n_groups(new_train)"
   ]
  },
  {
   "cell_type": "code",
   "execution_count": null,
   "metadata": {},
   "outputs": [],
   "source": []
  },
  {
   "cell_type": "code",
   "execution_count": null,
   "metadata": {},
   "outputs": [],
   "source": []
  }
 ],
 "metadata": {
  "kernelspec": {
   "display_name": "Python 2",
   "language": "python",
   "name": "python2"
  },
  "language_info": {
   "codemirror_mode": {
    "name": "ipython",
    "version": 3
   },
   "file_extension": ".py",
   "mimetype": "text/x-python",
   "name": "python",
   "nbconvert_exporter": "python",
   "pygments_lexer": "ipython3",
   "version": "3.6.3"
  }
 },
 "nbformat": 4,
 "nbformat_minor": 2
}
