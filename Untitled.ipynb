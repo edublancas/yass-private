{
 "cells": [
  {
   "cell_type": "code",
   "execution_count": 6,
   "metadata": {},
   "outputs": [],
   "source": [
    "from yass.batch import BatchProcessor\n",
    "from yass.preprocess.filter import _butterworth\n",
    "from functools import partial\n",
    "import numpy as np\n",
    "from os import path\n",
    "import matplotlib.pyplot as plt\n",
    "import logging\n",
    "from pathlib import Path"
   ]
  },
  {
   "cell_type": "code",
   "execution_count": 2,
   "metadata": {},
   "outputs": [],
   "source": [
    "logging.basicConfig(level=logging.DEBUG)\n",
    "\n",
    "CHANNELS = 49"
   ]
  },
  {
   "cell_type": "code",
   "execution_count": 3,
   "metadata": {},
   "outputs": [],
   "source": [
    "filtering = partial(_butterworth, low_frequency=300,\n",
    "                    high_factor=0.1, order=3,\n",
    "                    sampling_frequency=20000)\n",
    "filtering.__name__ = 'filtering'"
   ]
  },
  {
   "cell_type": "code",
   "execution_count": 7,
   "metadata": {},
   "outputs": [],
   "source": [
    "home = '/Users/Edu/'\n",
    "path_to_data = path.expanduser('/Users/Edu/data/yass/ej49_data1_set1.bin')\n",
    "path_to_output = path.expanduser('/Users/Edu/data/yass/delete_me.bin')"
   ]
  },
  {
   "cell_type": "code",
   "execution_count": 10,
   "metadata": {},
   "outputs": [
    {
     "name": "stderr",
     "output_type": "stream",
     "text": [
      "DEBUG:yass.batch.generator:Max memory: 100 MB. Itemsize: 2 bytes\n"
     ]
    }
   ],
   "source": [
    "bp = BatchProcessor(path_to_data, dtype='int16', n_channels=CHANNELS,\n",
    "                    data_order='samples', loader='python',\n",
    "                    max_memory='100MB')"
   ]
  },
  {
   "cell_type": "code",
   "execution_count": 12,
   "metadata": {
    "scrolled": false
   },
   "outputs": [
    {
     "name": "stderr",
     "output_type": "stream",
     "text": [
      "INFO:yass.batch.batch:Applying function filtering...\n",
      "DEBUG:yass.batch.batch:Starting parallel operation...\n",
      "DEBUG:yass.batch.generator:Observations per channel: 6,000,000. Number of channels: 49. Total observations: 294,000,000 Size to traverse: 560.76 MB\n",
      "DEBUG:yass.batch.generator:Max observations per batch: 52,428,775 (100 MB), 1,069,975 max observations per channel\n",
      "DEBUG:yass.batch.generator:Number of batches: 6\n",
      "DEBUG:yass.batch.generator:Last batch with 31,856,125 observations (63712250), 650,125 observations per channel\n",
      "INFO:yass.batch.batch:Data will be splitted in 6 batches\n",
      "DEBUG:yass.batch.batch:Creating processes pool...\n",
      "DEBUG:yass.batch.util:Processing batch 0...\n",
      "  0%|          | 0/6 [00:00<?, ?it/s]DEBUG:yass.batch.util:Processing batch 1...\n",
      "DEBUG:yass.batch.util:Applying function in batch 0...\n",
      "DEBUG:yass.batch.util:Processing batch 2...\n",
      "DEBUG:yass.batch.util:Applying function in batch 1...\n",
      "DEBUG:yass.batch.util:Processing batch 3...\n",
      "DEBUG:yass.batch.util:Applying function in batch 2...\n",
      "DEBUG:yass.batch.util:Applying function in batch 3...\n",
      "DEBUG:yass.batch.util:Processing batch 4...\n",
      "DEBUG:yass.batch.util:Processing batch 5...\n",
      "DEBUG:yass.batch.util:Applying function in batch 4...\n",
      "DEBUG:yass.batch.util:Applying function in batch 5...\n",
      "DEBUG:yass.batch.util:Done Applying function in batch 5...\n",
      "DEBUG:yass.batch.util:Done Applying function in batch 1...\n",
      "DEBUG:yass.batch.util:Done Applying function in batch 2...\n",
      "DEBUG:yass.batch.util:Done Applying function in batch 0...\n",
      "DEBUG:yass.batch.util:Done Applying function in batch 4...\n",
      "DEBUG:yass.batch.util:Done Applying function in batch 3...\n",
      "100%|██████████| 6/6 [00:21<00:00,  3.50s/it]\n",
      "INFO:yass.batch.batch:filtering took 21.1966 seconds\n"
     ]
    },
    {
     "data": {
      "text/plain": [
       "(PosixPath('/Users/Edu/data/yass/delete_me.bin'),\n",
       " {'data_order': 'samples', 'dtype': 'float64', 'n_channels': 49})"
      ]
     },
     "execution_count": 12,
     "metadata": {},
     "output_type": "execute_result"
    }
   ],
   "source": [
    "# %%timeit -n1 -r1\n",
    "bp.multi_channel_apply(filtering, mode='disk',\n",
    "                       output_path=path_to_output,\n",
    "                       processes=8)"
   ]
  },
  {
   "cell_type": "code",
   "execution_count": 19,
   "metadata": {},
   "outputs": [
    {
     "name": "stderr",
     "output_type": "stream",
     "text": [
      " 83%|████████▎ | 5/6 [00:06<00:01,  1.54s/it]"
     ]
    },
    {
     "name": "stdout",
     "output_type": "stream",
     "text": [
      "6.92 s ± 0 ns per loop (mean ± std. dev. of 1 run, 1 loop each)\n"
     ]
    },
    {
     "name": "stderr",
     "output_type": "stream",
     "text": [
      "\n"
     ]
    }
   ],
   "source": [
    "%%timeit -n1 -r1\n",
    "bp.multi_channel_apply(filtering, mode='disk',\n",
    "                       output_path=path_to_output,\n",
    "                       processes=8)"
   ]
  },
  {
   "cell_type": "code",
   "execution_count": 25,
   "metadata": {},
   "outputs": [
    {
     "name": "stderr",
     "output_type": "stream",
     "text": [
      "UsageError: Could not find function 'batch_runner'.\n",
      "NameError: name 'batch_runner' is not defined\n"
     ]
    }
   ],
   "source": [
    "%lprun -f bp._multi_channel_apply_disk bp._multi_channel_apply_disk(filtering, cleanup_function=None, from_time=None, to_time=None, channels='all', cast_dtype=None, pass_batch_info=False, pass_batch_results=False, output_path=path_to_output)"
   ]
  },
  {
   "cell_type": "code",
   "execution_count": 8,
   "metadata": {},
   "outputs": [],
   "source": [
    "%load_ext line_profiler"
   ]
  },
  {
   "cell_type": "code",
   "execution_count": null,
   "metadata": {},
   "outputs": [],
   "source": []
  },
  {
   "cell_type": "code",
   "execution_count": null,
   "metadata": {},
   "outputs": [],
   "source": []
  }
 ],
 "metadata": {
  "kernelspec": {
   "display_name": "Python 3",
   "language": "python",
   "name": "python3"
  },
  "language_info": {
   "codemirror_mode": {
    "name": "ipython",
    "version": 3
   },
   "file_extension": ".py",
   "mimetype": "text/x-python",
   "name": "python",
   "nbconvert_exporter": "python",
   "pygments_lexer": "ipython3",
   "version": "3.6.6"
  }
 },
 "nbformat": 4,
 "nbformat_minor": 2
}
