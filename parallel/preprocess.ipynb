{
 "cells": [
  {
   "cell_type": "code",
   "execution_count": 1,
   "metadata": {},
   "outputs": [],
   "source": [
    "import logging\n",
    "import yass\n",
    "from yass import preprocess"
   ]
  },
  {
   "cell_type": "code",
   "execution_count": 2,
   "metadata": {},
   "outputs": [
    {
     "name": "stdout",
     "output_type": "stream",
     "text": [
      "49-lab.yaml  49.yaml  512-10min-lab.yaml  512-30min-lab.yaml\r\n"
     ]
    }
   ],
   "source": [
    "! ls ../config"
   ]
  },
  {
   "cell_type": "code",
   "execution_count": null,
   "metadata": {},
   "outputs": [],
   "source": [
    "# configure logging module to get useful information\n",
    "logging.basicConfig(level=logging.INFO)\n",
    "\n",
    "# set yass configuration parameters\n",
    "yass.set_config('../config/512-30min-lab.yaml')"
   ]
  },
  {
   "cell_type": "code",
   "execution_count": null,
   "metadata": {
    "scrolled": false
   },
   "outputs": [
    {
     "name": "stderr",
     "output_type": "stream",
     "text": [
      "INFO:yass.preprocess.run:Output dtype for transformed data will be float32\n",
      "INFO:yass.preprocess.run:Temporary folder /ssd/data/eduardo/tmp/ already exists, output will be stored there\n",
      "INFO:yass.batch.batch:Applying function _butterworth_scale...\n",
      "INFO:yass.batch.batch:Data will be splitted in 3516 batches\n",
      "  3%|▎         | 93/3516 [00:33<1:02:30,  1.10s/it]"
     ]
    }
   ],
   "source": [
    "%%timeit -n1 -r1\n",
    "_ = preprocess.run(if_file_exists='overwrite')"
   ]
  },
  {
   "cell_type": "code",
   "execution_count": null,
   "metadata": {},
   "outputs": [],
   "source": []
  }
 ],
 "metadata": {
  "kernelspec": {
   "display_name": "Python 3",
   "language": "python",
   "name": "python3"
  },
  "language_info": {
   "codemirror_mode": {
    "name": "ipython",
    "version": 3
   },
   "file_extension": ".py",
   "mimetype": "text/x-python",
   "name": "python",
   "nbconvert_exporter": "python",
   "pygments_lexer": "ipython3",
   "version": "3.6.3"
  }
 },
 "nbformat": 4,
 "nbformat_minor": 2
}
