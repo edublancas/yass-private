{
 "cells": [
  {
   "cell_type": "code",
   "execution_count": 1,
   "metadata": {},
   "outputs": [],
   "source": [
    "import logging\n",
    "import yass\n",
    "from yass import preprocess"
   ]
  },
  {
   "cell_type": "code",
   "execution_count": 2,
   "metadata": {},
   "outputs": [
    {
     "name": "stdout",
     "output_type": "stream",
     "text": [
      "49-cat-lab.yaml  512-10min-cat-lab.yaml  512-30min-lab.yaml\r\n",
      "49-lab.yaml\t 512-10min-lab.yaml\r\n",
      "49-local.yaml\t 512-30min-cat-lab.yaml\r\n"
     ]
    }
   ],
   "source": [
    "! ls ../config"
   ]
  },
  {
   "cell_type": "code",
   "execution_count": 3,
   "metadata": {},
   "outputs": [],
   "source": [
    "# configure logging module to get useful information\n",
    "logging.basicConfig(level=logging.INFO)\n",
    "\n",
    "# set yass configuration parameters\n",
    "yass.set_config('../config/512-30min-lab.yaml')"
   ]
  },
  {
   "cell_type": "code",
   "execution_count": 8,
   "metadata": {},
   "outputs": [
    {
     "name": "stderr",
     "output_type": "stream",
     "text": [
      "INFO:yass.preprocess.run:Output dtype for transformed data will be float32\n",
      "INFO:yass.preprocess.run:Creating temporary folder: /ssd/data/eduardo/tmp/\n"
     ]
    },
    {
     "name": "stdout",
     "output_type": "stream",
     "text": [
      "# of chunks:  180\n",
      "/ssd/data/eduardo/tmp/filtered_files\n"
     ]
    },
    {
     "name": "stderr",
     "output_type": "stream",
     "text": [
      "100%|██████████| 180/180 [05:31<00:00,  2.56s/it]\n"
     ]
    },
    {
     "name": "stdout",
     "output_type": "stream",
     "text": [
      "...saving standardized file:  /ssd/data/eduardo/tmp/standarized.bin\n"
     ]
    },
    {
     "name": "stderr",
     "output_type": "stream",
     "text": [
      "INFO:yass.preprocess.run:Saving params...\n",
      "INFO:yass.preprocess.whiten:Computing whitening matrix...\n",
      "INFO:yass.util:Saved whitening filter in /ssd/data/eduardo/tmp/whitening.npy\n",
      "INFO:yass.util:Saved Channel index in /ssd/data/eduardo/tmp/channel_index.npy\n"
     ]
    },
    {
     "name": "stdout",
     "output_type": "stream",
     "text": [
      "12min 38s ± 0 ns per loop (mean ± std. dev. of 1 run, 1 loop each)\n"
     ]
    }
   ],
   "source": [
    "%%timeit -n1 -r1\n",
    "_ = preprocess.run(if_file_exists='overwrite')"
   ]
  },
  {
   "cell_type": "code",
   "execution_count": 4,
   "metadata": {
    "scrolled": false
   },
   "outputs": [
    {
     "name": "stderr",
     "output_type": "stream",
     "text": [
      "INFO:yass.preprocess.run:Output dtype for transformed data will be float32\n",
      "INFO:yass.preprocess.run:Creating temporary folder: /ssd/data/eduardo/tmp/\n",
      "INFO:yass.batch.batch:Applying function _butterworth_scale...\n",
      "INFO:yass.batch.batch:Data will be splitted in 176 batches\n",
      " 99%|█████████▉| 175/176 [18:41<00:06,  6.41s/it]\n",
      "INFO:yass.batch.batch:_butterworth_scale took 18.0 minutes 45.694119691848755 seconds\n",
      "INFO:yass.preprocess.whiten:Computing whitening matrix...\n",
      "INFO:yass.util:Saved whitening filter in /ssd/data/eduardo/tmp/whitening.npy\n",
      "INFO:yass.util:Saved Channel index in /ssd/data/eduardo/tmp/channel_index.npy\n"
     ]
    },
    {
     "name": "stdout",
     "output_type": "stream",
     "text": [
      "18min 53s ± 0 ns per loop (mean ± std. dev. of 1 run, 1 loop each)\n"
     ]
    }
   ],
   "source": [
    "%%timeit -n1 -r1\n",
    "_ = preprocess.run(if_file_exists='overwrite')"
   ]
  },
  {
   "cell_type": "code",
   "execution_count": null,
   "metadata": {},
   "outputs": [],
   "source": []
  }
 ],
 "metadata": {
  "kernelspec": {
   "display_name": "Python 3",
   "language": "python",
   "name": "python3"
  },
  "language_info": {
   "codemirror_mode": {
    "name": "ipython",
    "version": 3
   },
   "file_extension": ".py",
   "mimetype": "text/x-python",
   "name": "python",
   "nbconvert_exporter": "python",
   "pygments_lexer": "ipython3",
   "version": "3.6.3"
  }
 },
 "nbformat": 4,
 "nbformat_minor": 2
}
