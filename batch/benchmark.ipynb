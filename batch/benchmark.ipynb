{
 "cells": [
  {
   "cell_type": "code",
   "execution_count": 1,
   "metadata": {},
   "outputs": [],
   "source": [
    "%load_ext autoreload\n",
    "%autoreload 2"
   ]
  },
  {
   "cell_type": "code",
   "execution_count": 1,
   "metadata": {},
   "outputs": [
    {
     "name": "stderr",
     "output_type": "stream",
     "text": [
      "/Users/Edu/miniconda3/envs/yass/lib/python3.5/importlib/_bootstrap.py:222: RuntimeWarning: compiletime version 3.6 of module 'tensorflow.python.framework.fast_tensor_util' does not match runtime version 3.5\n",
      "  return f(*args, **kwds)\n"
     ]
    }
   ],
   "source": [
    "from yass.batch import BatchProcessor\n",
    "from yass.preprocess.filter import _butterworth\n",
    "from functools import partial\n",
    "import numpy as np\n",
    "from os import path\n",
    "import matplotlib.pyplot as plt\n",
    "import logging"
   ]
  },
  {
   "cell_type": "code",
   "execution_count": 2,
   "metadata": {},
   "outputs": [],
   "source": [
    "logging.basicConfig(level=logging.DEBUG)\n",
    "CHANNELS = 49"
   ]
  },
  {
   "cell_type": "code",
   "execution_count": 3,
   "metadata": {},
   "outputs": [],
   "source": [
    "filtering = partial(_butterworth, low_frequency=300,\n",
    "                    high_factor=0.1, order=3,\n",
    "                    sampling_frequency=20000)\n",
    "filtering.__name__ = 'filtering'"
   ]
  },
  {
   "cell_type": "code",
   "execution_count": 4,
   "metadata": {},
   "outputs": [],
   "source": [
    "path_to_data = path.expanduser('~/data/yass/ej49_data1_set1.bin')\n",
    "path_to_output = path.expanduser('~/Desktop/out.bin')\n",
    "data = np.fromfile(path_to_data,\n",
    "                   dtype='int16').reshape(-1, CHANNELS)"
   ]
  },
  {
   "cell_type": "code",
   "execution_count": 11,
   "metadata": {},
   "outputs": [
    {
     "name": "stderr",
     "output_type": "stream",
     "text": [
      "DEBUG:yass.batch.generator:Max memory: 50 MB. Itemsize: 2 bytes\n"
     ]
    }
   ],
   "source": [
    "bp = BatchProcessor(path_to_data, dtype='int16', n_channels=CHANNELS,\n",
    "                    data_order='samples', loader='memmap',\n",
    "                    max_memory='50MB')"
   ]
  },
  {
   "cell_type": "code",
   "execution_count": 12,
   "metadata": {},
   "outputs": [
    {
     "name": "stderr",
     "output_type": "stream",
     "text": [
      "INFO:yass.batch.batch:Applying function filtering...\n",
      "DEBUG:yass.batch.generator:Observations per channel: 6,000,000. Number of channels: 49. Total observations: 294,000,000 Size to traverse: 560.76 MB\n",
      "DEBUG:yass.batch.generator:Max observations per batch: 26,214,363 (50 MB), 534,987 max observations per channel\n",
      "DEBUG:yass.batch.generator:Number of batches: 12\n",
      "DEBUG:yass.batch.generator:Last batch with 5,642,007 observations (11284014), 115,143 observations per channel\n",
      "DEBUG:yass.batch.util:Processing batch 0...\n",
      "DEBUG:yass.batch.util:Applying function in batch 0...\n",
      "DEBUG:yass.batch.util:Done Applying function in batch 0...\n",
      "DEBUG:yass.batch.util:Processing batch 1...\n",
      "DEBUG:yass.batch.util:Applying function in batch 1...\n",
      "DEBUG:yass.batch.util:Done Applying function in batch 1...\n",
      "DEBUG:yass.batch.util:Processing batch 2...\n",
      "DEBUG:yass.batch.util:Applying function in batch 2...\n",
      "DEBUG:yass.batch.util:Done Applying function in batch 2...\n",
      "DEBUG:yass.batch.util:Processing batch 3...\n",
      "DEBUG:yass.batch.util:Applying function in batch 3...\n",
      "DEBUG:yass.batch.util:Done Applying function in batch 3...\n",
      "DEBUG:yass.batch.util:Processing batch 4...\n",
      "DEBUG:yass.batch.util:Applying function in batch 4...\n",
      "DEBUG:yass.batch.util:Done Applying function in batch 4...\n",
      "DEBUG:yass.batch.util:Processing batch 5...\n",
      "DEBUG:yass.batch.util:Applying function in batch 5...\n",
      "DEBUG:yass.batch.util:Done Applying function in batch 5...\n",
      "DEBUG:yass.batch.util:Processing batch 6...\n",
      "DEBUG:yass.batch.util:Applying function in batch 6...\n",
      "DEBUG:yass.batch.util:Done Applying function in batch 6...\n",
      "DEBUG:yass.batch.util:Processing batch 7...\n",
      "DEBUG:yass.batch.util:Applying function in batch 7...\n",
      "DEBUG:yass.batch.util:Done Applying function in batch 7...\n",
      "DEBUG:yass.batch.util:Processing batch 8...\n",
      "DEBUG:yass.batch.util:Applying function in batch 8...\n",
      "DEBUG:yass.batch.util:Done Applying function in batch 8...\n",
      "DEBUG:yass.batch.util:Processing batch 9...\n",
      "DEBUG:yass.batch.util:Applying function in batch 9...\n",
      "DEBUG:yass.batch.util:Done Applying function in batch 9...\n",
      "DEBUG:yass.batch.util:Processing batch 10...\n",
      "DEBUG:yass.batch.util:Applying function in batch 10...\n",
      "DEBUG:yass.batch.util:Done Applying function in batch 10...\n",
      "DEBUG:yass.batch.util:Processing batch 11...\n",
      "DEBUG:yass.batch.util:Applying function in batch 11...\n",
      "DEBUG:yass.batch.util:Done Applying function in batch 11...\n",
      "INFO:yass.batch.batch:filtering took 22.3383 seconds\n"
     ]
    },
    {
     "name": "stdout",
     "output_type": "stream",
     "text": [
      "22.3 s ± 0 ns per loop (mean ± std. dev. of 1 run, 1 loop each)\n"
     ]
    }
   ],
   "source": [
    "%%timeit -n1 -r1\n",
    "res = bp.multi_channel_apply(filtering, mode='disk',\n",
    "                             output_path=path_to_output,\n",
    "                             processes=1)"
   ]
  },
  {
   "cell_type": "code",
   "execution_count": 13,
   "metadata": {},
   "outputs": [
    {
     "name": "stderr",
     "output_type": "stream",
     "text": [
      "INFO:yass.batch.batch:Applying function filtering...\n",
      "DEBUG:yass.batch.batch:Starting parallel operation...\n",
      "DEBUG:yass.batch.generator:Observations per channel: 6,000,000. Number of channels: 49. Total observations: 294,000,000 Size to traverse: 560.76 MB\n",
      "DEBUG:yass.batch.generator:Max observations per batch: 26,214,363 (50 MB), 534,987 max observations per channel\n",
      "DEBUG:yass.batch.generator:Number of batches: 12\n",
      "DEBUG:yass.batch.generator:Last batch with 5,642,007 observations (11284014), 115,143 observations per channel\n",
      "DEBUG:yass.batch.batch:Creating processes pool...\n",
      "DEBUG:yass.batch.util:Processing batch 0...\n",
      "DEBUG:yass.batch.util:Processing batch 1...\n",
      "DEBUG:yass.batch.util:Processing batch 2...\n",
      "DEBUG:yass.batch.util:Processing batch 3...\n",
      "DEBUG:yass.batch.util:Processing batch 4...\n",
      "DEBUG:yass.batch.util:Processing batch 5...\n",
      "DEBUG:yass.batch.util:Applying function in batch 3...\n",
      "DEBUG:yass.batch.util:Applying function in batch 4...\n",
      "DEBUG:yass.batch.util:Applying function in batch 2...\n",
      "DEBUG:yass.batch.util:Applying function in batch 0...\n",
      "DEBUG:yass.batch.util:Applying function in batch 1...\n",
      "DEBUG:yass.batch.util:Applying function in batch 5...\n",
      "DEBUG:yass.batch.util:Done Applying function in batch 3...\n",
      "DEBUG:yass.batch.util:Done Applying function in batch 4...\n",
      "DEBUG:yass.batch.util:Done Applying function in batch 5...\n",
      "DEBUG:yass.batch.util:Done Applying function in batch 2...\n",
      "DEBUG:yass.batch.util:Done Applying function in batch 0...\n",
      "DEBUG:yass.batch.util:Done Applying function in batch 1...\n",
      "DEBUG:yass.batch.util:Processing batch 6...\n",
      "DEBUG:yass.batch.util:Applying function in batch 6...\n",
      "DEBUG:yass.batch.util:Processing batch 7...\n",
      "DEBUG:yass.batch.util:Processing batch 8...\n",
      "DEBUG:yass.batch.util:Processing batch 9...\n",
      "DEBUG:yass.batch.util:Applying function in batch 8...\n",
      "DEBUG:yass.batch.util:Applying function in batch 7...\n",
      "DEBUG:yass.batch.util:Applying function in batch 9...\n",
      "DEBUG:yass.batch.util:Processing batch 10...\n",
      "DEBUG:yass.batch.util:Processing batch 11...\n",
      "DEBUG:yass.batch.util:Applying function in batch 10...\n",
      "DEBUG:yass.batch.util:Applying function in batch 11...\n",
      "DEBUG:yass.batch.util:Done Applying function in batch 11...\n",
      "DEBUG:yass.batch.batch:Appending chunk 0...\n",
      "DEBUG:yass.batch.batch:Appending chunk 1...\n",
      "DEBUG:yass.batch.batch:Appending chunk 2...\n",
      "DEBUG:yass.batch.util:Done Applying function in batch 6...\n",
      "DEBUG:yass.batch.util:Done Applying function in batch 8...\n",
      "DEBUG:yass.batch.util:Done Applying function in batch 9...\n",
      "DEBUG:yass.batch.util:Done Applying function in batch 7...\n",
      "DEBUG:yass.batch.util:Done Applying function in batch 10...\n",
      "DEBUG:yass.batch.batch:Appending chunk 3...\n",
      "DEBUG:yass.batch.batch:Appending chunk 4...\n",
      "DEBUG:yass.batch.batch:Appending chunk 5...\n",
      "DEBUG:yass.batch.batch:Appending chunk 6...\n",
      "DEBUG:yass.batch.batch:Appending chunk 7...\n",
      "DEBUG:yass.batch.batch:Appending chunk 8...\n",
      "DEBUG:yass.batch.batch:Appending chunk 9...\n",
      "DEBUG:yass.batch.batch:Appending chunk 10...\n",
      "DEBUG:yass.batch.batch:Appending chunk 11...\n",
      "DEBUG:yass.batch.batch:Done running parallel operation...\n",
      "INFO:yass.batch.batch:filtering took 19.2107 seconds\n"
     ]
    },
    {
     "name": "stdout",
     "output_type": "stream",
     "text": [
      "19.2 s ± 0 ns per loop (mean ± std. dev. of 1 run, 1 loop each)\n"
     ]
    }
   ],
   "source": [
    "%%timeit -n1 -r1\n",
    "res = bp.multi_channel_apply(filtering, mode='disk',\n",
    "                             output_path=path_to_output,\n",
    "                             processes=6)"
   ]
  },
  {
   "cell_type": "code",
   "execution_count": null,
   "metadata": {},
   "outputs": [],
   "source": []
  }
 ],
 "metadata": {
  "kernelspec": {
   "display_name": "Python 3",
   "language": "python",
   "name": "python3"
  },
  "language_info": {
   "codemirror_mode": {
    "name": "ipython",
    "version": 3
   },
   "file_extension": ".py",
   "mimetype": "text/x-python",
   "name": "python",
   "nbconvert_exporter": "python",
   "pygments_lexer": "ipython3",
   "version": "3.5.5"
  }
 },
 "nbformat": 4,
 "nbformat_minor": 2
}
