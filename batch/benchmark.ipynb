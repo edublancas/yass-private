{
 "cells": [
  {
   "cell_type": "code",
   "execution_count": 1,
   "metadata": {},
   "outputs": [
    {
     "name": "stderr",
     "output_type": "stream",
     "text": [
      "/Users/Edu/miniconda3/envs/yass/lib/python3.5/importlib/_bootstrap.py:222: RuntimeWarning: compiletime version 3.6 of module 'tensorflow.python.framework.fast_tensor_util' does not match runtime version 3.5\n",
      "  return f(*args, **kwds)\n"
     ]
    }
   ],
   "source": [
    "from yass.batch import BatchProcessor\n",
    "from yass.preprocess.filter import _butterworth\n",
    "from functools import partial\n",
    "import numpy as np\n",
    "from os import path\n",
    "import matplotlib.pyplot as plt\n",
    "import logging"
   ]
  },
  {
   "cell_type": "code",
   "execution_count": 2,
   "metadata": {},
   "outputs": [],
   "source": [
    "logging.basicConfig(level=logging.DEBUG)\n",
    "\n",
    "CHANNELS = 49"
   ]
  },
  {
   "cell_type": "code",
   "execution_count": 3,
   "metadata": {},
   "outputs": [],
   "source": [
    "filtering = partial(_butterworth, low_frequency=300,\n",
    "                    high_factor=0.1, order=3,\n",
    "                    sampling_frequency=20000)\n",
    "filtering.__name__ = 'filtering'"
   ]
  },
  {
   "cell_type": "code",
   "execution_count": 4,
   "metadata": {},
   "outputs": [],
   "source": [
    "path_to_data = path.expanduser('~/data/yass/ej49_data1_set1.bin')\n",
    "path_to_output = path.expanduser('~/Desktop/out.bin')\n",
    "data = np.fromfile(path_to_data,\n",
    "                   dtype='int16').reshape(-1, CHANNELS)"
   ]
  },
  {
   "cell_type": "code",
   "execution_count": 5,
   "metadata": {},
   "outputs": [
    {
     "data": {
      "text/plain": [
       "(6000000, 49)"
      ]
     },
     "execution_count": 5,
     "metadata": {},
     "output_type": "execute_result"
    }
   ],
   "source": [
    "data.shape"
   ]
  },
  {
   "cell_type": "code",
   "execution_count": 9,
   "metadata": {},
   "outputs": [
    {
     "name": "stderr",
     "output_type": "stream",
     "text": [
      "DEBUG:yass.batch.generator:Max memory: 300 MB. Itemsize: 2 bytes\n"
     ]
    }
   ],
   "source": [
    "bp = BatchProcessor(path_to_data, dtype='int16', n_channels=CHANNELS,\n",
    "                    data_order='samples', loader='memmap',\n",
    "                    max_memory='300MB')"
   ]
  },
  {
   "cell_type": "code",
   "execution_count": 10,
   "metadata": {},
   "outputs": [
    {
     "name": "stderr",
     "output_type": "stream",
     "text": [
      "DEBUG:yass.batch.generator:Observations per channel: 6,000,000. Number of channels: 49. Total observations: 294,000,000 Size to traverse: 560.76 MB\n",
      "DEBUG:yass.batch.generator:Max observations per batch: 157,286,374 (300 MB), 3,209,926 max observations per channel\n",
      "DEBUG:yass.batch.generator:Number of batches: 2\n",
      "DEBUG:yass.batch.generator:Last batch with 136,713,626 observations (273427252), 2,790,074 observations per channel\n"
     ]
    },
    {
     "name": "stdout",
     "output_type": "stream",
     "text": [
      "22.7 s ± 0 ns per loop (mean ± std. dev. of 1 run, 1 loop each)\n"
     ]
    }
   ],
   "source": [
    "%%timeit -n1 -r1\n",
    "res = bp._multi_channel_apply_disk_parallel(filtering, None, path_to_output,\n",
    "                                      None, None, 'all',\n",
    "                                     None, False, False,\n",
    "                                           processes=8)"
   ]
  },
  {
   "cell_type": "code",
   "execution_count": 11,
   "metadata": {},
   "outputs": [
    {
     "name": "stderr",
     "output_type": "stream",
     "text": [
      "INFO:yass.batch.batch:Applying function filtering...\n",
      "DEBUG:yass.batch.generator:Observations per channel: 6,000,000. Number of channels: 49. Total observations: 294,000,000 Size to traverse: 560.76 MB\n",
      "DEBUG:yass.batch.generator:Max observations per batch: 157,286,374 (300 MB), 3,209,926 max observations per channel\n",
      "DEBUG:yass.batch.generator:Number of batches: 2\n",
      "DEBUG:yass.batch.generator:Last batch with 136,713,626 observations (273427252), 2,790,074 observations per channel\n",
      "DEBUG:yass.batch.batch:Processing batch 0...\n",
      "DEBUG:yass.batch.batch:Processing batch 1...\n",
      "INFO:yass.batch.batch:filtering took 23.9349 seconds\n"
     ]
    },
    {
     "name": "stdout",
     "output_type": "stream",
     "text": [
      "23.9 s ± 0 ns per loop (mean ± std. dev. of 1 run, 1 loop each)\n"
     ]
    }
   ],
   "source": [
    "%%timeit -n1 -r1\n",
    "bp.multi_channel_apply(filtering, 'disk', output_path=path_to_output)"
   ]
  },
  {
   "cell_type": "code",
   "execution_count": 6,
   "metadata": {},
   "outputs": [
    {
     "data": {
      "text/plain": [
       "[<matplotlib.lines.Line2D at 0x1c27e7ed30>]"
      ]
     },
     "execution_count": 6,
     "metadata": {},
     "output_type": "execute_result"
    },
    {
     "name": "stderr",
     "output_type": "stream",
     "text": [
      "DEBUG:matplotlib.font_manager:findfont: Matching :family=sans-serif:style=normal:variant=normal:weight=normal:stretch=normal:size=10.0 to DejaVu Sans ('/Users/Edu/miniconda3/envs/yass/lib/python3.5/site-packages/matplotlib/mpl-data/fonts/ttf/DejaVuSans.ttf') with score of 0.050000\n"
     ]
    },
    {
     "data": {
      "image/png": "[encoded data removed]",
      "text/plain": [
       "<Figure size 432x288 with 1 Axes>"
      ]
     },
     "metadata": {},
     "output_type": "display_data"
    }
   ],
   "source": [
    "plt.plot(data[:2000, 2])"
   ]
  },
  {
   "cell_type": "code",
   "execution_count": null,
   "metadata": {},
   "outputs": [],
   "source": [
    "%%timeit\n",
    "filtering(data)"
   ]
  },
  {
   "cell_type": "code",
   "execution_count": null,
   "metadata": {},
   "outputs": [],
   "source": [
    "bp = BatchProcessor(path_to_data, dtype='int16', n_channels=CHANNELS,\n",
    "                    data_order='samples', loader='array')"
   ]
  },
  {
   "cell_type": "code",
   "execution_count": 13,
   "metadata": {},
   "outputs": [
    {
     "name": "stderr",
     "output_type": "stream",
     "text": [
      "INFO:yass.batch.batch:Applying function filtering...\n",
      "DEBUG:yass.batch.generator:Observations per channel: 6,000,000. Number of channels: 7. Total observations: 42,000,000 Size to traverse: 80.11 MB\n",
      "DEBUG:yass.batch.generator:Max observations per batch: 536,870,908 (1024 MB), 76,695,844 max observations per channel\n",
      "DEBUG:yass.batch.generator:Number of batches: 1\n",
      "DEBUG:yass.batch.generator:Last batch with 42,000,000 observations (84000000), 6,000,000 observations per channel\n",
      "DEBUG:yass.batch.batch:Processing batch 0...\n",
      "INFO:yass.batch.batch:filtering took 1.1146 seconds\n",
      "INFO:yass.batch.batch:Applying function filtering...\n",
      "DEBUG:yass.batch.generator:Observations per channel: 6,000,000. Number of channels: 7. Total observations: 42,000,000 Size to traverse: 80.11 MB\n",
      "DEBUG:yass.batch.generator:Max observations per batch: 536,870,908 (1024 MB), 76,695,844 max observations per channel\n",
      "DEBUG:yass.batch.generator:Number of batches: 1\n",
      "DEBUG:yass.batch.generator:Last batch with 42,000,000 observations (84000000), 6,000,000 observations per channel\n",
      "DEBUG:yass.batch.batch:Processing batch 0...\n",
      "INFO:yass.batch.batch:filtering took 1.0990 seconds\n",
      "INFO:yass.batch.batch:Applying function filtering...\n",
      "DEBUG:yass.batch.generator:Observations per channel: 6,000,000. Number of channels: 7. Total observations: 42,000,000 Size to traverse: 80.11 MB\n",
      "DEBUG:yass.batch.generator:Max observations per batch: 536,870,908 (1024 MB), 76,695,844 max observations per channel\n",
      "DEBUG:yass.batch.generator:Number of batches: 1\n",
      "DEBUG:yass.batch.generator:Last batch with 42,000,000 observations (84000000), 6,000,000 observations per channel\n",
      "DEBUG:yass.batch.batch:Processing batch 0...\n",
      "INFO:yass.batch.batch:filtering took 1.1356 seconds\n",
      "INFO:yass.batch.batch:Applying function filtering...\n",
      "DEBUG:yass.batch.generator:Observations per channel: 6,000,000. Number of channels: 7. Total observations: 42,000,000 Size to traverse: 80.11 MB\n",
      "DEBUG:yass.batch.generator:Max observations per batch: 536,870,908 (1024 MB), 76,695,844 max observations per channel\n",
      "DEBUG:yass.batch.generator:Number of batches: 1\n",
      "DEBUG:yass.batch.generator:Last batch with 42,000,000 observations (84000000), 6,000,000 observations per channel\n",
      "DEBUG:yass.batch.batch:Processing batch 0...\n",
      "INFO:yass.batch.batch:filtering took 1.0809 seconds\n",
      "INFO:yass.batch.batch:Applying function filtering...\n",
      "DEBUG:yass.batch.generator:Observations per channel: 6,000,000. Number of channels: 7. Total observations: 42,000,000 Size to traverse: 80.11 MB\n",
      "DEBUG:yass.batch.generator:Max observations per batch: 536,870,908 (1024 MB), 76,695,844 max observations per channel\n",
      "DEBUG:yass.batch.generator:Number of batches: 1\n",
      "DEBUG:yass.batch.generator:Last batch with 42,000,000 observations (84000000), 6,000,000 observations per channel\n",
      "DEBUG:yass.batch.batch:Processing batch 0...\n",
      "INFO:yass.batch.batch:filtering took 1.0675 seconds\n",
      "INFO:yass.batch.batch:Applying function filtering...\n",
      "DEBUG:yass.batch.generator:Observations per channel: 6,000,000. Number of channels: 7. Total observations: 42,000,000 Size to traverse: 80.11 MB\n",
      "DEBUG:yass.batch.generator:Max observations per batch: 536,870,908 (1024 MB), 76,695,844 max observations per channel\n",
      "DEBUG:yass.batch.generator:Number of batches: 1\n",
      "DEBUG:yass.batch.generator:Last batch with 42,000,000 observations (84000000), 6,000,000 observations per channel\n",
      "DEBUG:yass.batch.batch:Processing batch 0...\n",
      "INFO:yass.batch.batch:filtering took 1.0345 seconds\n",
      "INFO:yass.batch.batch:Applying function filtering...\n",
      "DEBUG:yass.batch.generator:Observations per channel: 6,000,000. Number of channels: 7. Total observations: 42,000,000 Size to traverse: 80.11 MB\n",
      "DEBUG:yass.batch.generator:Max observations per batch: 536,870,908 (1024 MB), 76,695,844 max observations per channel\n",
      "DEBUG:yass.batch.generator:Number of batches: 1\n",
      "DEBUG:yass.batch.generator:Last batch with 42,000,000 observations (84000000), 6,000,000 observations per channel\n",
      "DEBUG:yass.batch.batch:Processing batch 0...\n",
      "INFO:yass.batch.batch:filtering took 1.0794 seconds\n",
      "INFO:yass.batch.batch:Applying function filtering...\n",
      "DEBUG:yass.batch.generator:Observations per channel: 6,000,000. Number of channels: 7. Total observations: 42,000,000 Size to traverse: 80.11 MB\n",
      "DEBUG:yass.batch.generator:Max observations per batch: 536,870,908 (1024 MB), 76,695,844 max observations per channel\n",
      "DEBUG:yass.batch.generator:Number of batches: 1\n",
      "DEBUG:yass.batch.generator:Last batch with 42,000,000 observations (84000000), 6,000,000 observations per channel\n",
      "DEBUG:yass.batch.batch:Processing batch 0...\n",
      "INFO:yass.batch.batch:filtering took 1.0821 seconds\n"
     ]
    },
    {
     "name": "stdout",
     "output_type": "stream",
     "text": [
      "1.11 s ± 28 ms per loop (mean ± std. dev. of 7 runs, 1 loop each)\n"
     ]
    }
   ],
   "source": [
    "%%timeit\n",
    "bp.multi_channel_apply(filtering, 'memory')"
   ]
  },
  {
   "cell_type": "code",
   "execution_count": 10,
   "metadata": {},
   "outputs": [
    {
     "name": "stderr",
     "output_type": "stream",
     "text": [
      "DEBUG:yass.batch.generator:Observations per channel: 6,000,000. Number of channels: 49. Total observations: 294,000,000 Size to traverse: 560.76 MB\n",
      "DEBUG:yass.batch.generator:Max observations per batch: 52,428,775 (100 MB), 1,069,975 max observations per channel\n",
      "DEBUG:yass.batch.generator:Number of batches: 6\n",
      "DEBUG:yass.batch.generator:Last batch with 31,856,125 observations (63712250), 650,125 observations per channel\n"
     ]
    },
    {
     "name": "stdout",
     "output_type": "stream",
     "text": [
      "finished running...\n",
      "finished running...\n",
      "finished running...\n",
      "finished running...\n",
      "finished running...\n",
      "finished running...\n"
     ]
    }
   ],
   "source": [
    "res = bp._multi_channel_apply_disk_parallel(filtering, None, None,\n",
    "                                      None, None, 'all',\n",
    "                                     None, False, False,\n",
    "                                           processes=1)"
   ]
  },
  {
   "cell_type": "code",
   "execution_count": 1,
   "metadata": {},
   "outputs": [
    {
     "data": {
      "text/plain": [
       "1"
      ]
     },
     "execution_count": 1,
     "metadata": {},
     "output_type": "execute_result"
    }
   ],
   "source": [
    "1"
   ]
  },
  {
   "cell_type": "code",
   "execution_count": null,
   "metadata": {},
   "outputs": [],
   "source": []
  }
 ],
 "metadata": {
  "kernelspec": {
   "display_name": "Python 3",
   "language": "python",
   "name": "python3"
  },
  "language_info": {
   "codemirror_mode": {
    "name": "ipython",
    "version": 3
   },
   "file_extension": ".py",
   "mimetype": "text/x-python",
   "name": "python",
   "nbconvert_exporter": "python",
   "pygments_lexer": "ipython3",
   "version": "3.5.5"
  }
 },
 "nbformat": 4,
 "nbformat_minor": 2
}
